{
 "cells": [
  {
   "cell_type": "code",
   "execution_count": 1,
   "metadata": {
    "collapsed": true
   },
   "outputs": [],
   "source": [
    "import pandas as pd\n",
    "import numpy as np"
   ]
  },
  {
   "cell_type": "code",
   "execution_count": 2,
   "metadata": {
    "collapsed": true
   },
   "outputs": [],
   "source": [
    "cc_info = pd.read_csv('./data/cc_info.csv')\n",
    "transactions = pd.read_csv('./data/transactions.csv')"
   ]
  },
  {
   "cell_type": "code",
   "execution_count": 3,
   "metadata": {},
   "outputs": [
    {
     "data": {
      "text/plain": [
       "((984, 5), (294588, 5))"
      ]
     },
     "execution_count": 3,
     "metadata": {},
     "output_type": "execute_result"
    }
   ],
   "source": [
    "cc_info.shape, transactions.shape"
   ]
  },
  {
   "cell_type": "code",
   "execution_count": 4,
   "metadata": {},
   "outputs": [
    {
     "data": {
      "text/plain": [
       "Index([u'credit_card', u'city', u'state', u'zipcode', u'credit_card_limit'], dtype='object')"
      ]
     },
     "execution_count": 4,
     "metadata": {},
     "output_type": "execute_result"
    }
   ],
   "source": [
    "cc_info.columns"
   ]
  },
  {
   "cell_type": "code",
   "execution_count": 5,
   "metadata": {},
   "outputs": [
    {
     "data": {
      "text/plain": [
       "Index([u'credit_card', u'date', u'transaction_dollar_amount', u'Long', u'Lat'], dtype='object')"
      ]
     },
     "execution_count": 5,
     "metadata": {},
     "output_type": "execute_result"
    }
   ],
   "source": [
    "transactions.columns"
   ]
  },
  {
   "cell_type": "code",
   "execution_count": 6,
   "metadata": {},
   "outputs": [
    {
     "data": {
      "text/html": [
       "<div>\n",
       "<style>\n",
       "    .dataframe thead tr:only-child th {\n",
       "        text-align: right;\n",
       "    }\n",
       "\n",
       "    .dataframe thead th {\n",
       "        text-align: left;\n",
       "    }\n",
       "\n",
       "    .dataframe tbody tr th {\n",
       "        vertical-align: top;\n",
       "    }\n",
       "</style>\n",
       "<table border=\"1\" class=\"dataframe\">\n",
       "  <thead>\n",
       "    <tr style=\"text-align: right;\">\n",
       "      <th></th>\n",
       "      <th>credit_card</th>\n",
       "      <th>city</th>\n",
       "      <th>state</th>\n",
       "      <th>zipcode</th>\n",
       "      <th>credit_card_limit</th>\n",
       "    </tr>\n",
       "  </thead>\n",
       "  <tbody>\n",
       "    <tr>\n",
       "      <th>0</th>\n",
       "      <td>1280981422329509</td>\n",
       "      <td>Dallas</td>\n",
       "      <td>PA</td>\n",
       "      <td>18612</td>\n",
       "      <td>6000</td>\n",
       "    </tr>\n",
       "    <tr>\n",
       "      <th>1</th>\n",
       "      <td>9737219864179988</td>\n",
       "      <td>Houston</td>\n",
       "      <td>PA</td>\n",
       "      <td>15342</td>\n",
       "      <td>16000</td>\n",
       "    </tr>\n",
       "    <tr>\n",
       "      <th>2</th>\n",
       "      <td>4749889059323202</td>\n",
       "      <td>Auburn</td>\n",
       "      <td>MA</td>\n",
       "      <td>1501</td>\n",
       "      <td>14000</td>\n",
       "    </tr>\n",
       "    <tr>\n",
       "      <th>3</th>\n",
       "      <td>9591503562024072</td>\n",
       "      <td>Orlando</td>\n",
       "      <td>WV</td>\n",
       "      <td>26412</td>\n",
       "      <td>18000</td>\n",
       "    </tr>\n",
       "    <tr>\n",
       "      <th>4</th>\n",
       "      <td>2095640259001271</td>\n",
       "      <td>New York</td>\n",
       "      <td>NY</td>\n",
       "      <td>10001</td>\n",
       "      <td>20000</td>\n",
       "    </tr>\n",
       "  </tbody>\n",
       "</table>\n",
       "</div>"
      ],
      "text/plain": [
       "        credit_card      city state  zipcode  credit_card_limit\n",
       "0  1280981422329509    Dallas    PA    18612               6000\n",
       "1  9737219864179988   Houston    PA    15342              16000\n",
       "2  4749889059323202    Auburn    MA     1501              14000\n",
       "3  9591503562024072   Orlando    WV    26412              18000\n",
       "4  2095640259001271  New York    NY    10001              20000"
      ]
     },
     "execution_count": 6,
     "metadata": {},
     "output_type": "execute_result"
    }
   ],
   "source": [
    "cc_info.head()"
   ]
  },
  {
   "cell_type": "code",
   "execution_count": 7,
   "metadata": {},
   "outputs": [
    {
     "data": {
      "text/html": [
       "<div>\n",
       "<style>\n",
       "    .dataframe thead tr:only-child th {\n",
       "        text-align: right;\n",
       "    }\n",
       "\n",
       "    .dataframe thead th {\n",
       "        text-align: left;\n",
       "    }\n",
       "\n",
       "    .dataframe tbody tr th {\n",
       "        vertical-align: top;\n",
       "    }\n",
       "</style>\n",
       "<table border=\"1\" class=\"dataframe\">\n",
       "  <thead>\n",
       "    <tr style=\"text-align: right;\">\n",
       "      <th></th>\n",
       "      <th>credit_card</th>\n",
       "      <th>date</th>\n",
       "      <th>transaction_dollar_amount</th>\n",
       "      <th>Long</th>\n",
       "      <th>Lat</th>\n",
       "    </tr>\n",
       "  </thead>\n",
       "  <tbody>\n",
       "    <tr>\n",
       "      <th>0</th>\n",
       "      <td>1003715054175576</td>\n",
       "      <td>2015-09-11 00:32:40</td>\n",
       "      <td>43.78</td>\n",
       "      <td>-80.174132</td>\n",
       "      <td>40.267370</td>\n",
       "    </tr>\n",
       "    <tr>\n",
       "      <th>1</th>\n",
       "      <td>1003715054175576</td>\n",
       "      <td>2015-10-24 22:23:08</td>\n",
       "      <td>103.15</td>\n",
       "      <td>-80.194240</td>\n",
       "      <td>40.180114</td>\n",
       "    </tr>\n",
       "    <tr>\n",
       "      <th>2</th>\n",
       "      <td>1003715054175576</td>\n",
       "      <td>2015-10-26 18:19:36</td>\n",
       "      <td>48.55</td>\n",
       "      <td>-80.211033</td>\n",
       "      <td>40.313004</td>\n",
       "    </tr>\n",
       "    <tr>\n",
       "      <th>3</th>\n",
       "      <td>1003715054175576</td>\n",
       "      <td>2015-10-22 19:41:10</td>\n",
       "      <td>136.18</td>\n",
       "      <td>-80.174138</td>\n",
       "      <td>40.290895</td>\n",
       "    </tr>\n",
       "    <tr>\n",
       "      <th>4</th>\n",
       "      <td>1003715054175576</td>\n",
       "      <td>2015-10-26 20:08:22</td>\n",
       "      <td>71.82</td>\n",
       "      <td>-80.238720</td>\n",
       "      <td>40.166719</td>\n",
       "    </tr>\n",
       "  </tbody>\n",
       "</table>\n",
       "</div>"
      ],
      "text/plain": [
       "        credit_card                 date  transaction_dollar_amount  \\\n",
       "0  1003715054175576  2015-09-11 00:32:40                      43.78   \n",
       "1  1003715054175576  2015-10-24 22:23:08                     103.15   \n",
       "2  1003715054175576  2015-10-26 18:19:36                      48.55   \n",
       "3  1003715054175576  2015-10-22 19:41:10                     136.18   \n",
       "4  1003715054175576  2015-10-26 20:08:22                      71.82   \n",
       "\n",
       "        Long        Lat  \n",
       "0 -80.174132  40.267370  \n",
       "1 -80.194240  40.180114  \n",
       "2 -80.211033  40.313004  \n",
       "3 -80.174138  40.290895  \n",
       "4 -80.238720  40.166719  "
      ]
     },
     "execution_count": 7,
     "metadata": {},
     "output_type": "execute_result"
    }
   ],
   "source": [
    "transactions.head()"
   ]
  },
  {
   "cell_type": "code",
   "execution_count": 8,
   "metadata": {
    "collapsed": true
   },
   "outputs": [],
   "source": [
    "# Convert date to datetime type\n",
    "transactions['date'] = pd.to_datetime(transactions['date'], format='%Y-%m-%d %H:%M:%S')"
   ]
  },
  {
   "cell_type": "code",
   "execution_count": 9,
   "metadata": {},
   "outputs": [
    {
     "data": {
      "text/plain": [
       "2015    294588\n",
       "Name: date, dtype: int64"
      ]
     },
     "execution_count": 9,
     "metadata": {},
     "output_type": "execute_result"
    }
   ],
   "source": [
    "transactions['date'].dt.year.value_counts()"
   ]
  },
  {
   "cell_type": "code",
   "execution_count": 10,
   "metadata": {},
   "outputs": [
    {
     "data": {
      "text/plain": [
       "8     99167\n",
       "9     96026\n",
       "10    95014\n",
       "7      4381\n",
       "Name: date, dtype: int64"
      ]
     },
     "execution_count": 10,
     "metadata": {},
     "output_type": "execute_result"
    }
   ],
   "source": [
    "transactions['date'].dt.month.value_counts()"
   ]
  },
  {
   "cell_type": "code",
   "execution_count": 11,
   "metadata": {},
   "outputs": [
    {
     "data": {
      "text/plain": [
       "1     10530\n",
       "15    10426\n",
       "10    10425\n",
       "8     10338\n",
       "29    10321\n",
       "22    10291\n",
       "9     10253\n",
       "16    10196\n",
       "7     10195\n",
       "17    10182\n",
       "2     10171\n",
       "23    10117\n",
       "3     10054\n",
       "24     9989\n",
       "14     9888\n",
       "28     9887\n",
       "11     9871\n",
       "21     9830\n",
       "18     9809\n",
       "4      9673\n",
       "25     9646\n",
       "19     8877\n",
       "5      8876\n",
       "27     8804\n",
       "26     8794\n",
       "12     8789\n",
       "6      8783\n",
       "20     8751\n",
       "13     8629\n",
       "31     6445\n",
       "30     5748\n",
       "Name: date, dtype: int64"
      ]
     },
     "execution_count": 11,
     "metadata": {},
     "output_type": "execute_result"
    }
   ],
   "source": [
    "transactions['date'].dt.day.value_counts()"
   ]
  },
  {
   "cell_type": "code",
   "execution_count": 12,
   "metadata": {},
   "outputs": [
    {
     "data": {
      "text/plain": [
       "4    66386\n",
       "3    53778\n",
       "5    51940\n",
       "2    36290\n",
       "6    30139\n",
       "1    29512\n",
       "0    26543\n",
       "Name: date, dtype: int64"
      ]
     },
     "execution_count": 12,
     "metadata": {},
     "output_type": "execute_result"
    }
   ],
   "source": [
    "transactions['date'].dt.weekday.value_counts()"
   ]
  },
  {
   "cell_type": "code",
   "execution_count": 13,
   "metadata": {
    "collapsed": true
   },
   "outputs": [],
   "source": [
    "transactions['year'] = transactions['date'].dt.year\n",
    "transactions['month'] = transactions['date'].dt.month\n",
    "transactions['day'] = transactions['date'].dt.day\n",
    "transactions['weekday'] = transactions['date'].dt.weekday"
   ]
  },
  {
   "cell_type": "code",
   "execution_count": 14,
   "metadata": {
    "collapsed": true
   },
   "outputs": [],
   "source": [
    "cc_transactions = pd.merge(transactions, cc_info, how='inner', on='credit_card')"
   ]
  },
  {
   "cell_type": "code",
   "execution_count": 15,
   "metadata": {},
   "outputs": [
    {
     "data": {
      "text/plain": [
       "(294588, 13)"
      ]
     },
     "execution_count": 15,
     "metadata": {},
     "output_type": "execute_result"
    }
   ],
   "source": [
    "cc_transactions.shape"
   ]
  },
  {
   "cell_type": "code",
   "execution_count": 16,
   "metadata": {},
   "outputs": [
    {
     "data": {
      "text/html": [
       "<div>\n",
       "<style>\n",
       "    .dataframe thead tr:only-child th {\n",
       "        text-align: right;\n",
       "    }\n",
       "\n",
       "    .dataframe thead th {\n",
       "        text-align: left;\n",
       "    }\n",
       "\n",
       "    .dataframe tbody tr th {\n",
       "        vertical-align: top;\n",
       "    }\n",
       "</style>\n",
       "<table border=\"1\" class=\"dataframe\">\n",
       "  <thead>\n",
       "    <tr style=\"text-align: right;\">\n",
       "      <th></th>\n",
       "      <th>credit_card</th>\n",
       "      <th>date</th>\n",
       "      <th>transaction_dollar_amount</th>\n",
       "      <th>Long</th>\n",
       "      <th>Lat</th>\n",
       "      <th>year</th>\n",
       "      <th>month</th>\n",
       "      <th>day</th>\n",
       "      <th>weekday</th>\n",
       "      <th>city</th>\n",
       "      <th>state</th>\n",
       "      <th>zipcode</th>\n",
       "      <th>credit_card_limit</th>\n",
       "    </tr>\n",
       "  </thead>\n",
       "  <tbody>\n",
       "    <tr>\n",
       "      <th>0</th>\n",
       "      <td>1003715054175576</td>\n",
       "      <td>2015-09-11 00:32:40</td>\n",
       "      <td>43.78</td>\n",
       "      <td>-80.174132</td>\n",
       "      <td>40.267370</td>\n",
       "      <td>2015</td>\n",
       "      <td>9</td>\n",
       "      <td>11</td>\n",
       "      <td>4</td>\n",
       "      <td>Houston</td>\n",
       "      <td>PA</td>\n",
       "      <td>15342</td>\n",
       "      <td>20000</td>\n",
       "    </tr>\n",
       "    <tr>\n",
       "      <th>1</th>\n",
       "      <td>1003715054175576</td>\n",
       "      <td>2015-10-24 22:23:08</td>\n",
       "      <td>103.15</td>\n",
       "      <td>-80.194240</td>\n",
       "      <td>40.180114</td>\n",
       "      <td>2015</td>\n",
       "      <td>10</td>\n",
       "      <td>24</td>\n",
       "      <td>5</td>\n",
       "      <td>Houston</td>\n",
       "      <td>PA</td>\n",
       "      <td>15342</td>\n",
       "      <td>20000</td>\n",
       "    </tr>\n",
       "    <tr>\n",
       "      <th>2</th>\n",
       "      <td>1003715054175576</td>\n",
       "      <td>2015-10-26 18:19:36</td>\n",
       "      <td>48.55</td>\n",
       "      <td>-80.211033</td>\n",
       "      <td>40.313004</td>\n",
       "      <td>2015</td>\n",
       "      <td>10</td>\n",
       "      <td>26</td>\n",
       "      <td>0</td>\n",
       "      <td>Houston</td>\n",
       "      <td>PA</td>\n",
       "      <td>15342</td>\n",
       "      <td>20000</td>\n",
       "    </tr>\n",
       "    <tr>\n",
       "      <th>3</th>\n",
       "      <td>1003715054175576</td>\n",
       "      <td>2015-10-22 19:41:10</td>\n",
       "      <td>136.18</td>\n",
       "      <td>-80.174138</td>\n",
       "      <td>40.290895</td>\n",
       "      <td>2015</td>\n",
       "      <td>10</td>\n",
       "      <td>22</td>\n",
       "      <td>3</td>\n",
       "      <td>Houston</td>\n",
       "      <td>PA</td>\n",
       "      <td>15342</td>\n",
       "      <td>20000</td>\n",
       "    </tr>\n",
       "    <tr>\n",
       "      <th>4</th>\n",
       "      <td>1003715054175576</td>\n",
       "      <td>2015-10-26 20:08:22</td>\n",
       "      <td>71.82</td>\n",
       "      <td>-80.238720</td>\n",
       "      <td>40.166719</td>\n",
       "      <td>2015</td>\n",
       "      <td>10</td>\n",
       "      <td>26</td>\n",
       "      <td>0</td>\n",
       "      <td>Houston</td>\n",
       "      <td>PA</td>\n",
       "      <td>15342</td>\n",
       "      <td>20000</td>\n",
       "    </tr>\n",
       "  </tbody>\n",
       "</table>\n",
       "</div>"
      ],
      "text/plain": [
       "        credit_card                date  transaction_dollar_amount       Long  \\\n",
       "0  1003715054175576 2015-09-11 00:32:40                      43.78 -80.174132   \n",
       "1  1003715054175576 2015-10-24 22:23:08                     103.15 -80.194240   \n",
       "2  1003715054175576 2015-10-26 18:19:36                      48.55 -80.211033   \n",
       "3  1003715054175576 2015-10-22 19:41:10                     136.18 -80.174138   \n",
       "4  1003715054175576 2015-10-26 20:08:22                      71.82 -80.238720   \n",
       "\n",
       "         Lat  year  month  day  weekday     city state  zipcode  \\\n",
       "0  40.267370  2015      9   11        4  Houston    PA    15342   \n",
       "1  40.180114  2015     10   24        5  Houston    PA    15342   \n",
       "2  40.313004  2015     10   26        0  Houston    PA    15342   \n",
       "3  40.290895  2015     10   22        3  Houston    PA    15342   \n",
       "4  40.166719  2015     10   26        0  Houston    PA    15342   \n",
       "\n",
       "   credit_card_limit  \n",
       "0              20000  \n",
       "1              20000  \n",
       "2              20000  \n",
       "3              20000  \n",
       "4              20000  "
      ]
     },
     "execution_count": 16,
     "metadata": {},
     "output_type": "execute_result"
    }
   ],
   "source": [
    "cc_transactions.head()"
   ]
  },
  {
   "cell_type": "code",
   "execution_count": 17,
   "metadata": {
    "collapsed": true
   },
   "outputs": [],
   "source": [
    "total_by_card = transactions.groupby(['credit_card','month'])['transaction_dollar_amount'].sum()"
   ]
  },
  {
   "cell_type": "code",
   "execution_count": 18,
   "metadata": {
    "collapsed": true
   },
   "outputs": [],
   "source": [
    "total_by_card = total_by_card.reset_index()"
   ]
  },
  {
   "cell_type": "code",
   "execution_count": 19,
   "metadata": {},
   "outputs": [
    {
     "data": {
      "text/html": [
       "<div>\n",
       "<style>\n",
       "    .dataframe thead tr:only-child th {\n",
       "        text-align: right;\n",
       "    }\n",
       "\n",
       "    .dataframe thead th {\n",
       "        text-align: left;\n",
       "    }\n",
       "\n",
       "    .dataframe tbody tr th {\n",
       "        vertical-align: top;\n",
       "    }\n",
       "</style>\n",
       "<table border=\"1\" class=\"dataframe\">\n",
       "  <thead>\n",
       "    <tr style=\"text-align: right;\">\n",
       "      <th></th>\n",
       "      <th>credit_card</th>\n",
       "      <th>month</th>\n",
       "      <th>transaction_dollar_amount</th>\n",
       "    </tr>\n",
       "  </thead>\n",
       "  <tbody>\n",
       "    <tr>\n",
       "      <th>0</th>\n",
       "      <td>1003715054175576</td>\n",
       "      <td>7</td>\n",
       "      <td>162.56</td>\n",
       "    </tr>\n",
       "    <tr>\n",
       "      <th>1</th>\n",
       "      <td>1003715054175576</td>\n",
       "      <td>8</td>\n",
       "      <td>8441.51</td>\n",
       "    </tr>\n",
       "    <tr>\n",
       "      <th>2</th>\n",
       "      <td>1003715054175576</td>\n",
       "      <td>9</td>\n",
       "      <td>11281.56</td>\n",
       "    </tr>\n",
       "    <tr>\n",
       "      <th>3</th>\n",
       "      <td>1003715054175576</td>\n",
       "      <td>10</td>\n",
       "      <td>8954.21</td>\n",
       "    </tr>\n",
       "    <tr>\n",
       "      <th>4</th>\n",
       "      <td>1013870087888817</td>\n",
       "      <td>7</td>\n",
       "      <td>281.43</td>\n",
       "    </tr>\n",
       "  </tbody>\n",
       "</table>\n",
       "</div>"
      ],
      "text/plain": [
       "        credit_card  month  transaction_dollar_amount\n",
       "0  1003715054175576      7                     162.56\n",
       "1  1003715054175576      8                    8441.51\n",
       "2  1003715054175576      9                   11281.56\n",
       "3  1003715054175576     10                    8954.21\n",
       "4  1013870087888817      7                     281.43"
      ]
     },
     "execution_count": 19,
     "metadata": {},
     "output_type": "execute_result"
    }
   ],
   "source": [
    "total_by_card.head()"
   ]
  },
  {
   "cell_type": "code",
   "execution_count": 20,
   "metadata": {},
   "outputs": [
    {
     "data": {
      "text/plain": [
       "(3797, 3)"
      ]
     },
     "execution_count": 20,
     "metadata": {},
     "output_type": "execute_result"
    }
   ],
   "source": [
    "total_by_card.shape"
   ]
  },
  {
   "cell_type": "markdown",
   "metadata": {},
   "source": [
    "### List of users (credit card number) that never went above credit card limit each month"
   ]
  },
  {
   "cell_type": "code",
   "execution_count": 21,
   "metadata": {
    "collapsed": true
   },
   "outputs": [],
   "source": [
    "total_not_limit = pd.merge(total_by_card, cc_info, how='inner', on='credit_card')"
   ]
  },
  {
   "cell_type": "code",
   "execution_count": 22,
   "metadata": {},
   "outputs": [
    {
     "data": {
      "text/plain": [
       "(3797, 7)"
      ]
     },
     "execution_count": 22,
     "metadata": {},
     "output_type": "execute_result"
    }
   ],
   "source": [
    "total_not_limit.shape"
   ]
  },
  {
   "cell_type": "code",
   "execution_count": 23,
   "metadata": {
    "collapsed": true
   },
   "outputs": [],
   "source": [
    "def f_over_limit(row):\n",
    "    if row['credit_card_limit'] < row['transaction_dollar_amount']:\n",
    "        return True\n",
    "    else:\n",
    "        return False\n",
    "\n",
    "total_not_limit['overlimit'] = total_not_limit.apply(f_over_limit, axis=1)"
   ]
  },
  {
   "cell_type": "code",
   "execution_count": 24,
   "metadata": {},
   "outputs": [
    {
     "data": {
      "text/html": [
       "<div>\n",
       "<style>\n",
       "    .dataframe thead tr:only-child th {\n",
       "        text-align: right;\n",
       "    }\n",
       "\n",
       "    .dataframe thead th {\n",
       "        text-align: left;\n",
       "    }\n",
       "\n",
       "    .dataframe tbody tr th {\n",
       "        vertical-align: top;\n",
       "    }\n",
       "</style>\n",
       "<table border=\"1\" class=\"dataframe\">\n",
       "  <thead>\n",
       "    <tr style=\"text-align: right;\">\n",
       "      <th></th>\n",
       "      <th>credit_card</th>\n",
       "      <th>month</th>\n",
       "      <th>transaction_dollar_amount</th>\n",
       "      <th>city</th>\n",
       "      <th>state</th>\n",
       "      <th>zipcode</th>\n",
       "      <th>credit_card_limit</th>\n",
       "      <th>overlimit</th>\n",
       "    </tr>\n",
       "  </thead>\n",
       "  <tbody>\n",
       "    <tr>\n",
       "      <th>0</th>\n",
       "      <td>1003715054175576</td>\n",
       "      <td>7</td>\n",
       "      <td>162.56</td>\n",
       "      <td>Houston</td>\n",
       "      <td>PA</td>\n",
       "      <td>15342</td>\n",
       "      <td>20000</td>\n",
       "      <td>False</td>\n",
       "    </tr>\n",
       "    <tr>\n",
       "      <th>1</th>\n",
       "      <td>1003715054175576</td>\n",
       "      <td>8</td>\n",
       "      <td>8441.51</td>\n",
       "      <td>Houston</td>\n",
       "      <td>PA</td>\n",
       "      <td>15342</td>\n",
       "      <td>20000</td>\n",
       "      <td>False</td>\n",
       "    </tr>\n",
       "    <tr>\n",
       "      <th>2</th>\n",
       "      <td>1003715054175576</td>\n",
       "      <td>9</td>\n",
       "      <td>11281.56</td>\n",
       "      <td>Houston</td>\n",
       "      <td>PA</td>\n",
       "      <td>15342</td>\n",
       "      <td>20000</td>\n",
       "      <td>False</td>\n",
       "    </tr>\n",
       "    <tr>\n",
       "      <th>3</th>\n",
       "      <td>1003715054175576</td>\n",
       "      <td>10</td>\n",
       "      <td>8954.21</td>\n",
       "      <td>Houston</td>\n",
       "      <td>PA</td>\n",
       "      <td>15342</td>\n",
       "      <td>20000</td>\n",
       "      <td>False</td>\n",
       "    </tr>\n",
       "    <tr>\n",
       "      <th>4</th>\n",
       "      <td>1013870087888817</td>\n",
       "      <td>7</td>\n",
       "      <td>281.43</td>\n",
       "      <td>Washington</td>\n",
       "      <td>NH</td>\n",
       "      <td>3280</td>\n",
       "      <td>15000</td>\n",
       "      <td>False</td>\n",
       "    </tr>\n",
       "  </tbody>\n",
       "</table>\n",
       "</div>"
      ],
      "text/plain": [
       "        credit_card  month  transaction_dollar_amount        city state  \\\n",
       "0  1003715054175576      7                     162.56     Houston    PA   \n",
       "1  1003715054175576      8                    8441.51     Houston    PA   \n",
       "2  1003715054175576      9                   11281.56     Houston    PA   \n",
       "3  1003715054175576     10                    8954.21     Houston    PA   \n",
       "4  1013870087888817      7                     281.43  Washington    NH   \n",
       "\n",
       "   zipcode  credit_card_limit  overlimit  \n",
       "0    15342              20000      False  \n",
       "1    15342              20000      False  \n",
       "2    15342              20000      False  \n",
       "3    15342              20000      False  \n",
       "4     3280              15000      False  "
      ]
     },
     "execution_count": 24,
     "metadata": {},
     "output_type": "execute_result"
    }
   ],
   "source": [
    "total_not_limit.head()"
   ]
  },
  {
   "cell_type": "code",
   "execution_count": 25,
   "metadata": {},
   "outputs": [
    {
     "data": {
      "text/plain": [
       "False    3571\n",
       "True      226\n",
       "Name: overlimit, dtype: int64"
      ]
     },
     "execution_count": 25,
     "metadata": {},
     "output_type": "execute_result"
    }
   ],
   "source": [
    "total_not_limit.overlimit.value_counts()"
   ]
  },
  {
   "cell_type": "code",
   "execution_count": 26,
   "metadata": {
    "collapsed": true
   },
   "outputs": [],
   "source": [
    "overlimit_user = total_not_limit.groupby('credit_card')['overlimit'].any()"
   ]
  },
  {
   "cell_type": "code",
   "execution_count": 27,
   "metadata": {},
   "outputs": [
    {
     "data": {
      "text/plain": [
       "((984,),)"
      ]
     },
     "execution_count": 27,
     "metadata": {},
     "output_type": "execute_result"
    }
   ],
   "source": [
    "overlimit_user.shape, "
   ]
  },
  {
   "cell_type": "code",
   "execution_count": 28,
   "metadata": {},
   "outputs": [
    {
     "data": {
      "text/plain": [
       "credit_card\n",
       "1003715054175576    False\n",
       "1013870087888817    False\n",
       "1023820165155391    False\n",
       "1073931538936472    False\n",
       "1077622576192810    False\n",
       "Name: overlimit, dtype: bool"
      ]
     },
     "execution_count": 28,
     "metadata": {},
     "output_type": "execute_result"
    }
   ],
   "source": [
    "overlimit_user.head()"
   ]
  },
  {
   "cell_type": "code",
   "execution_count": 29,
   "metadata": {},
   "outputs": [
    {
     "data": {
      "text/plain": [
       "False    862\n",
       "True     122\n",
       "Name: overlimit, dtype: int64"
      ]
     },
     "execution_count": 29,
     "metadata": {},
     "output_type": "execute_result"
    }
   ],
   "source": [
    "overlimit_user.value_counts()"
   ]
  },
  {
   "cell_type": "code",
   "execution_count": 30,
   "metadata": {},
   "outputs": [
    {
     "data": {
      "text/plain": [
       "credit_card\n",
       "1106824181265726    True\n",
       "1175962294549313    True\n",
       "1190980117697422    True\n",
       "1246716439259317    True\n",
       "1280981422329509    True\n",
       "Name: overlimit, dtype: bool"
      ]
     },
     "execution_count": 30,
     "metadata": {},
     "output_type": "execute_result"
    }
   ],
   "source": [
    "overlimit_user[overlimit_user==True][:5]"
   ]
  },
  {
   "cell_type": "code",
   "execution_count": 31,
   "metadata": {},
   "outputs": [
    {
     "data": {
      "text/html": [
       "<div>\n",
       "<style>\n",
       "    .dataframe thead tr:only-child th {\n",
       "        text-align: right;\n",
       "    }\n",
       "\n",
       "    .dataframe thead th {\n",
       "        text-align: left;\n",
       "    }\n",
       "\n",
       "    .dataframe tbody tr th {\n",
       "        vertical-align: top;\n",
       "    }\n",
       "</style>\n",
       "<table border=\"1\" class=\"dataframe\">\n",
       "  <thead>\n",
       "    <tr style=\"text-align: right;\">\n",
       "      <th></th>\n",
       "      <th>credit_card</th>\n",
       "      <th>city</th>\n",
       "      <th>state</th>\n",
       "      <th>zipcode</th>\n",
       "      <th>credit_card_limit</th>\n",
       "    </tr>\n",
       "  </thead>\n",
       "  <tbody>\n",
       "    <tr>\n",
       "      <th>172</th>\n",
       "      <td>1106824181265726</td>\n",
       "      <td>Washington</td>\n",
       "      <td>NH</td>\n",
       "      <td>3280</td>\n",
       "      <td>6000</td>\n",
       "    </tr>\n",
       "  </tbody>\n",
       "</table>\n",
       "</div>"
      ],
      "text/plain": [
       "          credit_card        city state  zipcode  credit_card_limit\n",
       "172  1106824181265726  Washington    NH     3280               6000"
      ]
     },
     "execution_count": 31,
     "metadata": {},
     "output_type": "execute_result"
    }
   ],
   "source": [
    "cc_info[cc_info.credit_card==1106824181265726]"
   ]
  },
  {
   "cell_type": "code",
   "execution_count": 32,
   "metadata": {},
   "outputs": [
    {
     "data": {
      "text/html": [
       "<div>\n",
       "<style>\n",
       "    .dataframe thead tr:only-child th {\n",
       "        text-align: right;\n",
       "    }\n",
       "\n",
       "    .dataframe thead th {\n",
       "        text-align: left;\n",
       "    }\n",
       "\n",
       "    .dataframe tbody tr th {\n",
       "        vertical-align: top;\n",
       "    }\n",
       "</style>\n",
       "<table border=\"1\" class=\"dataframe\">\n",
       "  <thead>\n",
       "    <tr style=\"text-align: right;\">\n",
       "      <th></th>\n",
       "      <th>credit_card</th>\n",
       "      <th>month</th>\n",
       "      <th>transaction_dollar_amount</th>\n",
       "    </tr>\n",
       "  </thead>\n",
       "  <tbody>\n",
       "    <tr>\n",
       "      <th>31</th>\n",
       "      <td>1106824181265726</td>\n",
       "      <td>7</td>\n",
       "      <td>90.87</td>\n",
       "    </tr>\n",
       "    <tr>\n",
       "      <th>32</th>\n",
       "      <td>1106824181265726</td>\n",
       "      <td>8</td>\n",
       "      <td>6734.92</td>\n",
       "    </tr>\n",
       "    <tr>\n",
       "      <th>33</th>\n",
       "      <td>1106824181265726</td>\n",
       "      <td>9</td>\n",
       "      <td>7419.42</td>\n",
       "    </tr>\n",
       "    <tr>\n",
       "      <th>34</th>\n",
       "      <td>1106824181265726</td>\n",
       "      <td>10</td>\n",
       "      <td>7483.05</td>\n",
       "    </tr>\n",
       "  </tbody>\n",
       "</table>\n",
       "</div>"
      ],
      "text/plain": [
       "         credit_card  month  transaction_dollar_amount\n",
       "31  1106824181265726      7                      90.87\n",
       "32  1106824181265726      8                    6734.92\n",
       "33  1106824181265726      9                    7419.42\n",
       "34  1106824181265726     10                    7483.05"
      ]
     },
     "execution_count": 32,
     "metadata": {},
     "output_type": "execute_result"
    }
   ],
   "source": [
    "total_by_card[total_by_card.credit_card==1106824181265726]"
   ]
  },
  {
   "cell_type": "code",
   "execution_count": 33,
   "metadata": {
    "collapsed": true
   },
   "outputs": [],
   "source": [
    "never_over_limit_users = overlimit_user[overlimit_user==False].index"
   ]
  },
  {
   "cell_type": "markdown",
   "metadata": {},
   "source": [
    "### Build function that for each day, return list of users that went above monthly credit card limit on that day"
   ]
  },
  {
   "cell_type": "code",
   "execution_count": 34,
   "metadata": {},
   "outputs": [
    {
     "data": {
      "text/html": [
       "<div>\n",
       "<style>\n",
       "    .dataframe thead tr:only-child th {\n",
       "        text-align: right;\n",
       "    }\n",
       "\n",
       "    .dataframe thead th {\n",
       "        text-align: left;\n",
       "    }\n",
       "\n",
       "    .dataframe tbody tr th {\n",
       "        vertical-align: top;\n",
       "    }\n",
       "</style>\n",
       "<table border=\"1\" class=\"dataframe\">\n",
       "  <thead>\n",
       "    <tr style=\"text-align: right;\">\n",
       "      <th></th>\n",
       "      <th>credit_card</th>\n",
       "      <th>month</th>\n",
       "      <th>transaction_dollar_amount</th>\n",
       "    </tr>\n",
       "  </thead>\n",
       "  <tbody>\n",
       "    <tr>\n",
       "      <th>0</th>\n",
       "      <td>1003715054175576</td>\n",
       "      <td>7</td>\n",
       "      <td>162.56</td>\n",
       "    </tr>\n",
       "    <tr>\n",
       "      <th>1</th>\n",
       "      <td>1003715054175576</td>\n",
       "      <td>8</td>\n",
       "      <td>8441.51</td>\n",
       "    </tr>\n",
       "    <tr>\n",
       "      <th>2</th>\n",
       "      <td>1003715054175576</td>\n",
       "      <td>9</td>\n",
       "      <td>11281.56</td>\n",
       "    </tr>\n",
       "    <tr>\n",
       "      <th>3</th>\n",
       "      <td>1003715054175576</td>\n",
       "      <td>10</td>\n",
       "      <td>8954.21</td>\n",
       "    </tr>\n",
       "    <tr>\n",
       "      <th>4</th>\n",
       "      <td>1013870087888817</td>\n",
       "      <td>7</td>\n",
       "      <td>281.43</td>\n",
       "    </tr>\n",
       "  </tbody>\n",
       "</table>\n",
       "</div>"
      ],
      "text/plain": [
       "        credit_card  month  transaction_dollar_amount\n",
       "0  1003715054175576      7                     162.56\n",
       "1  1003715054175576      8                    8441.51\n",
       "2  1003715054175576      9                   11281.56\n",
       "3  1003715054175576     10                    8954.21\n",
       "4  1013870087888817      7                     281.43"
      ]
     },
     "execution_count": 34,
     "metadata": {},
     "output_type": "execute_result"
    }
   ],
   "source": [
    "total_by_card.head()"
   ]
  },
  {
   "cell_type": "code",
   "execution_count": null,
   "metadata": {
    "collapsed": true
   },
   "outputs": [],
   "source": []
  },
  {
   "cell_type": "markdown",
   "metadata": {},
   "source": [
    "### Fraud detection Unsupervised"
   ]
  },
  {
   "cell_type": "code",
   "execution_count": 35,
   "metadata": {
    "collapsed": true
   },
   "outputs": [],
   "source": [
    "import matplotlib.pyplot as plt\n",
    "import numpy as np\n",
    "%matplotlib inline\n",
    "\n",
    "from numpy import genfromtxt\n",
    "from scipy.stats import multivariate_normal\n",
    "from sklearn.metrics import f1_score"
   ]
  },
  {
   "cell_type": "code",
   "execution_count": 36,
   "metadata": {},
   "outputs": [
    {
     "data": {
      "text/plain": [
       "Index([u'credit_card', u'date', u'transaction_dollar_amount', u'Long', u'Lat',\n",
       "       u'year', u'month', u'day', u'weekday'],\n",
       "      dtype='object')"
      ]
     },
     "execution_count": 36,
     "metadata": {},
     "output_type": "execute_result"
    }
   ],
   "source": [
    "transactions.columns"
   ]
  },
  {
   "cell_type": "code",
   "execution_count": 37,
   "metadata": {},
   "outputs": [
    {
     "data": {
      "text/plain": [
       "Index([u'credit_card', u'date', u'transaction_dollar_amount', u'Long', u'Lat',\n",
       "       u'year', u'month', u'day', u'weekday', u'city', u'state', u'zipcode',\n",
       "       u'credit_card_limit'],\n",
       "      dtype='object')"
      ]
     },
     "execution_count": 37,
     "metadata": {},
     "output_type": "execute_result"
    }
   ],
   "source": [
    "cc_transactions.columns"
   ]
  },
  {
   "cell_type": "code",
   "execution_count": 38,
   "metadata": {
    "collapsed": true
   },
   "outputs": [],
   "source": [
    "# Split training and test set (split by month)"
   ]
  },
  {
   "cell_type": "code",
   "execution_count": 39,
   "metadata": {
    "collapsed": true
   },
   "outputs": [],
   "source": [
    "transactions['hour'] = transactions.date.dt.hour"
   ]
  },
  {
   "cell_type": "code",
   "execution_count": 40,
   "metadata": {},
   "outputs": [
    {
     "data": {
      "text/plain": [
       "Index([u'credit_card', u'date', u'transaction_dollar_amount', u'Long', u'Lat',\n",
       "       u'year', u'month', u'day', u'weekday', u'hour'],\n",
       "      dtype='object')"
      ]
     },
     "execution_count": 40,
     "metadata": {},
     "output_type": "execute_result"
    }
   ],
   "source": [
    "transactions.columns"
   ]
  },
  {
   "cell_type": "code",
   "execution_count": 41,
   "metadata": {
    "collapsed": true
   },
   "outputs": [],
   "source": [
    "def feature_normalize(dataset):\n",
    "    mu = np.mean(dataset,axis=0)\n",
    "    sigma = np.std(dataset,axis=0)\n",
    "    return (dataset - mu)/sigma\n",
    "\n",
    "def estimateGaussian(dataset):\n",
    "    mu = np.mean(dataset, axis=0)\n",
    "    sigma = np.cov(dataset.T)\n",
    "    return mu, sigma\n",
    "    \n",
    "def multivariateGaussian(dataset,mu,sigma):\n",
    "    p = multivariate_normal(mean=mu, cov=sigma)\n",
    "    return p.pdf(dataset)"
   ]
  },
  {
   "cell_type": "code",
   "execution_count": 42,
   "metadata": {},
   "outputs": [
    {
     "data": {
      "text/plain": [
       "array([[<matplotlib.axes._subplots.AxesSubplot object at 0x7f22c60bad10>,\n",
       "        <matplotlib.axes._subplots.AxesSubplot object at 0x7f22cfc27850>],\n",
       "       [<matplotlib.axes._subplots.AxesSubplot object at 0x7f22cfbb8310>,\n",
       "        <matplotlib.axes._subplots.AxesSubplot object at 0x7f22cfb204d0>],\n",
       "       [<matplotlib.axes._subplots.AxesSubplot object at 0x7f22cfaa6890>,\n",
       "        <matplotlib.axes._subplots.AxesSubplot object at 0x7f22cfa9a190>]], dtype=object)"
      ]
     },
     "execution_count": 42,
     "metadata": {},
     "output_type": "execute_result"
    },
    {
     "data": {
      "image/png": "[encoded data removed]",
      "text/plain": [
       "<matplotlib.figure.Figure at 0x7f22c60ba690>"
      ]
     },
     "metadata": {},
     "output_type": "display_data"
    }
   ],
   "source": [
    "import matplotlib\n",
    "matplotlib.style.use('ggplot')\n",
    "features = ['transaction_dollar_amount','Long','Lat','weekday','hour']\n",
    "transactions[features].hist(stacked=False, bins=100, figsize=(15,20), layout=(3,2))"
   ]
  },
  {
   "cell_type": "code",
   "execution_count": 49,
   "metadata": {},
   "outputs": [
    {
     "name": "stdout",
     "output_type": "stream",
     "text": [
      "86.0080361726\n",
      "58.47\n"
     ]
    }
   ],
   "source": [
    "print transactions['transaction_dollar_amount'].mean()\n",
    "print transactions['transaction_dollar_amount'].median()"
   ]
  },
  {
   "cell_type": "code",
   "execution_count": 45,
   "metadata": {},
   "outputs": [
    {
     "data": {
      "text/plain": [
       "<matplotlib.text.Text at 0x7f22c50f9510>"
      ]
     },
     "execution_count": 45,
     "metadata": {},
     "output_type": "execute_result"
    },
    {
     "data": {
      "image/png": "[encoded data removed]",
      "text/plain": [
       "<matplotlib.figure.Figure at 0x7f22c509c450>"
      ]
     },
     "metadata": {},
     "output_type": "display_data"
    }
   ],
   "source": [
    "plt.plot(transactions['Long'], transactions['Lat'], \"bx\")\n",
    "plt.xlabel(\"Longitude\")\n",
    "plt.ylabel(\"Latitude\")"
   ]
  },
  {
   "cell_type": "code",
   "execution_count": 47,
   "metadata": {},
   "outputs": [
    {
     "data": {
      "text/plain": [
       "{'boxes': [<matplotlib.lines.Line2D at 0x7f22c4d40350>],\n",
       " 'caps': [<matplotlib.lines.Line2D at 0x7f22c4d6d250>,\n",
       "  <matplotlib.lines.Line2D at 0x7f22c4d6d890>],\n",
       " 'fliers': [<matplotlib.lines.Line2D at 0x7f22c4d4f550>],\n",
       " 'means': [],\n",
       " 'medians': [<matplotlib.lines.Line2D at 0x7f22c4d6ded0>],\n",
       " 'whiskers': [<matplotlib.lines.Line2D at 0x7f22c4d404d0>,\n",
       "  <matplotlib.lines.Line2D at 0x7f22c4d40bd0>]}"
      ]
     },
     "execution_count": 47,
     "metadata": {},
     "output_type": "execute_result"
    },
    {
     "data": {
      "image/png": "[encoded data removed]",
      "text/plain": [
       "<matplotlib.figure.Figure at 0x7f22c4f44890>"
      ]
     },
     "metadata": {},
     "output_type": "display_data"
    }
   ],
   "source": [
    "plt.boxplot(transactions['transaction_dollar_amount'])"
   ]
  },
  {
   "cell_type": "code",
   "execution_count": null,
   "metadata": {
    "collapsed": true
   },
   "outputs": [],
   "source": []
  }
 ],
 "metadata": {
  "kernelspec": {
   "display_name": "Python 2",
   "language": "python",
   "name": "python2"
  },
  "language_info": {
   "codemirror_mode": {
    "name": "ipython",
    "version": 2
   },
   "file_extension": ".py",
   "mimetype": "text/x-python",
   "name": "python",
   "nbconvert_exporter": "python",
   "pygments_lexer": "ipython2",
   "version": "2.7.12"
  }
 },
 "nbformat": 4,
 "nbformat_minor": 1
}
