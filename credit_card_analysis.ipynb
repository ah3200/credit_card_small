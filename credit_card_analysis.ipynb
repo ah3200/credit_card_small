{
 "cells": [
  {
   "cell_type": "code",
   "execution_count": 1,
   "metadata": {
    "collapsed": true
   },
   "outputs": [],
   "source": [
    "import pandas as pd\n",
    "import numpy as np"
   ]
  },
  {
   "cell_type": "code",
   "execution_count": 2,
   "metadata": {
    "collapsed": true
   },
   "outputs": [],
   "source": [
    "cc_info = pd.read_csv('./data/cc_info.csv')\n",
    "transactions = pd.read_csv('./data/transactions.csv')"
   ]
  },
  {
   "cell_type": "code",
   "execution_count": 3,
   "metadata": {},
   "outputs": [
    {
     "data": {
      "text/plain": [
       "((984, 5), (294588, 5))"
      ]
     },
     "execution_count": 3,
     "metadata": {},
     "output_type": "execute_result"
    }
   ],
   "source": [
    "cc_info.shape, transactions.shape"
   ]
  },
  {
   "cell_type": "code",
   "execution_count": 4,
<<<<<<< HEAD
   "metadata": {
    "collapsed": false
   },
=======
   "metadata": {},
>>>>>>> d5d7958dece8c5d0aa8a71482da454a4385eab5c
   "outputs": [
    {
     "data": {
      "text/plain": [
       "Index([u'credit_card', u'city', u'state', u'zipcode', u'credit_card_limit'], dtype='object')"
      ]
     },
     "execution_count": 4,
     "metadata": {},
     "output_type": "execute_result"
    }
   ],
   "source": [
    "cc_info.columns"
   ]
  },
  {
   "cell_type": "code",
   "execution_count": 5,
<<<<<<< HEAD
   "metadata": {
    "collapsed": false
   },
=======
   "metadata": {},
>>>>>>> d5d7958dece8c5d0aa8a71482da454a4385eab5c
   "outputs": [
    {
     "data": {
      "text/plain": [
       "Index([u'credit_card', u'date', u'transaction_dollar_amount', u'Long', u'Lat'], dtype='object')"
      ]
     },
     "execution_count": 5,
     "metadata": {},
     "output_type": "execute_result"
    }
   ],
   "source": [
    "transactions.columns"
   ]
  },
  {
   "cell_type": "code",
   "execution_count": 6,
<<<<<<< HEAD
   "metadata": {
    "collapsed": false
   },
=======
   "metadata": {},
>>>>>>> d5d7958dece8c5d0aa8a71482da454a4385eab5c
   "outputs": [
    {
     "data": {
      "text/html": [
       "<div>\n",
       "<style>\n",
       "    .dataframe thead tr:only-child th {\n",
       "        text-align: right;\n",
       "    }\n",
       "\n",
       "    .dataframe thead th {\n",
       "        text-align: left;\n",
       "    }\n",
       "\n",
       "    .dataframe tbody tr th {\n",
       "        vertical-align: top;\n",
       "    }\n",
       "</style>\n",
       "<table border=\"1\" class=\"dataframe\">\n",
       "  <thead>\n",
       "    <tr style=\"text-align: right;\">\n",
       "      <th></th>\n",
       "      <th>credit_card</th>\n",
       "      <th>city</th>\n",
       "      <th>state</th>\n",
       "      <th>zipcode</th>\n",
       "      <th>credit_card_limit</th>\n",
       "    </tr>\n",
       "  </thead>\n",
       "  <tbody>\n",
       "    <tr>\n",
       "      <th>0</th>\n",
       "      <td>1280981422329509</td>\n",
       "      <td>Dallas</td>\n",
       "      <td>PA</td>\n",
       "      <td>18612</td>\n",
       "      <td>6000</td>\n",
       "    </tr>\n",
       "    <tr>\n",
       "      <th>1</th>\n",
       "      <td>9737219864179988</td>\n",
       "      <td>Houston</td>\n",
       "      <td>PA</td>\n",
       "      <td>15342</td>\n",
       "      <td>16000</td>\n",
       "    </tr>\n",
       "    <tr>\n",
       "      <th>2</th>\n",
       "      <td>4749889059323202</td>\n",
       "      <td>Auburn</td>\n",
       "      <td>MA</td>\n",
       "      <td>1501</td>\n",
       "      <td>14000</td>\n",
       "    </tr>\n",
       "    <tr>\n",
       "      <th>3</th>\n",
       "      <td>9591503562024072</td>\n",
       "      <td>Orlando</td>\n",
       "      <td>WV</td>\n",
       "      <td>26412</td>\n",
       "      <td>18000</td>\n",
       "    </tr>\n",
       "    <tr>\n",
       "      <th>4</th>\n",
       "      <td>2095640259001271</td>\n",
       "      <td>New York</td>\n",
       "      <td>NY</td>\n",
       "      <td>10001</td>\n",
       "      <td>20000</td>\n",
       "    </tr>\n",
       "  </tbody>\n",
       "</table>\n",
       "</div>"
      ],
      "text/plain": [
       "        credit_card      city state  zipcode  credit_card_limit\n",
       "0  1280981422329509    Dallas    PA    18612               6000\n",
       "1  9737219864179988   Houston    PA    15342              16000\n",
       "2  4749889059323202    Auburn    MA     1501              14000\n",
       "3  9591503562024072   Orlando    WV    26412              18000\n",
       "4  2095640259001271  New York    NY    10001              20000"
      ]
     },
     "execution_count": 6,
     "metadata": {},
     "output_type": "execute_result"
    }
   ],
   "source": [
    "cc_info.head()"
   ]
  },
  {
   "cell_type": "code",
   "execution_count": 7,
<<<<<<< HEAD
   "metadata": {
    "collapsed": false
   },
=======
   "metadata": {},
>>>>>>> d5d7958dece8c5d0aa8a71482da454a4385eab5c
   "outputs": [
    {
     "data": {
      "text/html": [
       "<div>\n",
       "<style>\n",
       "    .dataframe thead tr:only-child th {\n",
       "        text-align: right;\n",
       "    }\n",
       "\n",
       "    .dataframe thead th {\n",
       "        text-align: left;\n",
       "    }\n",
       "\n",
       "    .dataframe tbody tr th {\n",
       "        vertical-align: top;\n",
       "    }\n",
       "</style>\n",
       "<table border=\"1\" class=\"dataframe\">\n",
       "  <thead>\n",
       "    <tr style=\"text-align: right;\">\n",
       "      <th></th>\n",
       "      <th>credit_card</th>\n",
       "      <th>date</th>\n",
       "      <th>transaction_dollar_amount</th>\n",
       "      <th>Long</th>\n",
       "      <th>Lat</th>\n",
       "    </tr>\n",
       "  </thead>\n",
       "  <tbody>\n",
       "    <tr>\n",
       "      <th>0</th>\n",
       "      <td>1003715054175576</td>\n",
       "      <td>2015-09-11 00:32:40</td>\n",
       "      <td>43.78</td>\n",
       "      <td>-80.174132</td>\n",
       "      <td>40.267370</td>\n",
       "    </tr>\n",
       "    <tr>\n",
       "      <th>1</th>\n",
       "      <td>1003715054175576</td>\n",
       "      <td>2015-10-24 22:23:08</td>\n",
       "      <td>103.15</td>\n",
       "      <td>-80.194240</td>\n",
       "      <td>40.180114</td>\n",
       "    </tr>\n",
       "    <tr>\n",
       "      <th>2</th>\n",
       "      <td>1003715054175576</td>\n",
       "      <td>2015-10-26 18:19:36</td>\n",
       "      <td>48.55</td>\n",
       "      <td>-80.211033</td>\n",
       "      <td>40.313004</td>\n",
       "    </tr>\n",
       "    <tr>\n",
       "      <th>3</th>\n",
       "      <td>1003715054175576</td>\n",
       "      <td>2015-10-22 19:41:10</td>\n",
       "      <td>136.18</td>\n",
       "      <td>-80.174138</td>\n",
       "      <td>40.290895</td>\n",
       "    </tr>\n",
       "    <tr>\n",
       "      <th>4</th>\n",
       "      <td>1003715054175576</td>\n",
       "      <td>2015-10-26 20:08:22</td>\n",
       "      <td>71.82</td>\n",
       "      <td>-80.238720</td>\n",
       "      <td>40.166719</td>\n",
       "    </tr>\n",
       "  </tbody>\n",
       "</table>\n",
       "</div>"
      ],
      "text/plain": [
       "        credit_card                 date  transaction_dollar_amount  \\\n",
       "0  1003715054175576  2015-09-11 00:32:40                      43.78   \n",
       "1  1003715054175576  2015-10-24 22:23:08                     103.15   \n",
       "2  1003715054175576  2015-10-26 18:19:36                      48.55   \n",
       "3  1003715054175576  2015-10-22 19:41:10                     136.18   \n",
       "4  1003715054175576  2015-10-26 20:08:22                      71.82   \n",
       "\n",
       "        Long        Lat  \n",
       "0 -80.174132  40.267370  \n",
       "1 -80.194240  40.180114  \n",
       "2 -80.211033  40.313004  \n",
       "3 -80.174138  40.290895  \n",
       "4 -80.238720  40.166719  "
      ]
     },
     "execution_count": 7,
     "metadata": {},
     "output_type": "execute_result"
    }
   ],
   "source": [
    "transactions.head()"
   ]
  },
  {
   "cell_type": "code",
   "execution_count": 8,
   "metadata": {
    "collapsed": true
   },
   "outputs": [],
   "source": [
    "# Convert date to datetime type\n",
    "transactions['date'] = pd.to_datetime(transactions['date'], format='%Y-%m-%d %H:%M:%S')"
   ]
  },
  {
   "cell_type": "code",
   "execution_count": 9,
<<<<<<< HEAD
   "metadata": {
    "collapsed": false
   },
=======
   "metadata": {},
>>>>>>> d5d7958dece8c5d0aa8a71482da454a4385eab5c
   "outputs": [
    {
     "data": {
      "text/plain": [
       "2015    294588\n",
       "Name: date, dtype: int64"
      ]
     },
     "execution_count": 9,
     "metadata": {},
     "output_type": "execute_result"
    }
   ],
   "source": [
    "transactions['date'].dt.year.value_counts()"
   ]
  },
  {
   "cell_type": "code",
   "execution_count": 10,
<<<<<<< HEAD
   "metadata": {
    "collapsed": false
   },
=======
   "metadata": {},
>>>>>>> d5d7958dece8c5d0aa8a71482da454a4385eab5c
   "outputs": [
    {
     "data": {
      "text/plain": [
       "8     99167\n",
       "9     96026\n",
       "10    95014\n",
       "7      4381\n",
       "Name: date, dtype: int64"
      ]
     },
     "execution_count": 10,
     "metadata": {},
     "output_type": "execute_result"
    }
   ],
   "source": [
    "transactions['date'].dt.month.value_counts()"
   ]
  },
  {
   "cell_type": "code",
   "execution_count": 11,
<<<<<<< HEAD
   "metadata": {
    "collapsed": false
   },
=======
   "metadata": {},
>>>>>>> d5d7958dece8c5d0aa8a71482da454a4385eab5c
   "outputs": [
    {
     "data": {
      "text/plain": [
       "1     10530\n",
       "15    10426\n",
       "10    10425\n",
       "8     10338\n",
       "29    10321\n",
       "22    10291\n",
       "9     10253\n",
       "16    10196\n",
       "7     10195\n",
       "17    10182\n",
       "2     10171\n",
       "23    10117\n",
       "3     10054\n",
       "24     9989\n",
       "14     9888\n",
       "28     9887\n",
       "11     9871\n",
       "21     9830\n",
       "18     9809\n",
       "4      9673\n",
       "25     9646\n",
       "19     8877\n",
       "5      8876\n",
       "27     8804\n",
       "26     8794\n",
       "12     8789\n",
       "6      8783\n",
       "20     8751\n",
       "13     8629\n",
       "31     6445\n",
       "30     5748\n",
       "Name: date, dtype: int64"
      ]
     },
     "execution_count": 11,
     "metadata": {},
     "output_type": "execute_result"
    }
   ],
   "source": [
    "transactions['date'].dt.day.value_counts()"
   ]
  },
  {
   "cell_type": "code",
   "execution_count": 12,
<<<<<<< HEAD
   "metadata": {
    "collapsed": false
   },
=======
   "metadata": {},
>>>>>>> d5d7958dece8c5d0aa8a71482da454a4385eab5c
   "outputs": [
    {
     "data": {
      "text/plain": [
       "4    66386\n",
       "3    53778\n",
       "5    51940\n",
       "2    36290\n",
       "6    30139\n",
       "1    29512\n",
       "0    26543\n",
       "Name: date, dtype: int64"
      ]
     },
     "execution_count": 12,
     "metadata": {},
     "output_type": "execute_result"
    }
   ],
   "source": [
    "transactions['date'].dt.weekday.value_counts()"
   ]
  },
  {
   "cell_type": "code",
   "execution_count": 13,
   "metadata": {
    "collapsed": true
   },
   "outputs": [],
   "source": [
    "transactions['year'] = transactions['date'].dt.year\n",
    "transactions['month'] = transactions['date'].dt.month\n",
    "transactions['day'] = transactions['date'].dt.day\n",
    "transactions['weekday'] = transactions['date'].dt.weekday"
   ]
  },
  {
   "cell_type": "code",
   "execution_count": 14,
   "metadata": {
    "collapsed": true
   },
   "outputs": [],
   "source": [
    "cc_transactions = pd.merge(transactions, cc_info, how='inner', on='credit_card')"
   ]
  },
  {
   "cell_type": "code",
   "execution_count": 15,
<<<<<<< HEAD
   "metadata": {
    "collapsed": false
   },
=======
   "metadata": {},
>>>>>>> d5d7958dece8c5d0aa8a71482da454a4385eab5c
   "outputs": [
    {
     "data": {
      "text/plain": [
       "(294588, 13)"
      ]
     },
     "execution_count": 15,
     "metadata": {},
     "output_type": "execute_result"
    }
   ],
   "source": [
    "cc_transactions.shape"
   ]
  },
  {
   "cell_type": "code",
<<<<<<< HEAD
   "execution_count": 17,
   "metadata": {
    "collapsed": false
   },
=======
   "execution_count": 16,
   "metadata": {},
>>>>>>> d5d7958dece8c5d0aa8a71482da454a4385eab5c
   "outputs": [
    {
     "data": {
      "text/html": [
       "<div>\n",
       "<style>\n",
       "    .dataframe thead tr:only-child th {\n",
       "        text-align: right;\n",
       "    }\n",
       "\n",
       "    .dataframe thead th {\n",
       "        text-align: left;\n",
       "    }\n",
       "\n",
       "    .dataframe tbody tr th {\n",
       "        vertical-align: top;\n",
       "    }\n",
       "</style>\n",
       "<table border=\"1\" class=\"dataframe\">\n",
       "  <thead>\n",
       "    <tr style=\"text-align: right;\">\n",
       "      <th></th>\n",
       "      <th>credit_card</th>\n",
       "      <th>date</th>\n",
       "      <th>transaction_dollar_amount</th>\n",
       "      <th>Long</th>\n",
       "      <th>Lat</th>\n",
       "      <th>year</th>\n",
       "      <th>month</th>\n",
       "      <th>day</th>\n",
       "      <th>weekday</th>\n",
       "      <th>city</th>\n",
       "      <th>state</th>\n",
       "      <th>zipcode</th>\n",
       "      <th>credit_card_limit</th>\n",
       "    </tr>\n",
       "  </thead>\n",
       "  <tbody>\n",
       "    <tr>\n",
       "      <th>0</th>\n",
       "      <td>1003715054175576</td>\n",
       "      <td>2015-09-11 00:32:40</td>\n",
       "      <td>43.78</td>\n",
       "      <td>-80.174132</td>\n",
       "      <td>40.267370</td>\n",
       "      <td>2015</td>\n",
       "      <td>9</td>\n",
       "      <td>11</td>\n",
       "      <td>4</td>\n",
       "      <td>Houston</td>\n",
       "      <td>PA</td>\n",
       "      <td>15342</td>\n",
       "      <td>20000</td>\n",
       "    </tr>\n",
       "    <tr>\n",
       "      <th>1</th>\n",
       "      <td>1003715054175576</td>\n",
       "      <td>2015-10-24 22:23:08</td>\n",
       "      <td>103.15</td>\n",
       "      <td>-80.194240</td>\n",
       "      <td>40.180114</td>\n",
       "      <td>2015</td>\n",
       "      <td>10</td>\n",
       "      <td>24</td>\n",
       "      <td>5</td>\n",
       "      <td>Houston</td>\n",
       "      <td>PA</td>\n",
       "      <td>15342</td>\n",
       "      <td>20000</td>\n",
       "    </tr>\n",
       "    <tr>\n",
       "      <th>2</th>\n",
       "      <td>1003715054175576</td>\n",
       "      <td>2015-10-26 18:19:36</td>\n",
       "      <td>48.55</td>\n",
       "      <td>-80.211033</td>\n",
       "      <td>40.313004</td>\n",
       "      <td>2015</td>\n",
       "      <td>10</td>\n",
       "      <td>26</td>\n",
       "      <td>0</td>\n",
       "      <td>Houston</td>\n",
       "      <td>PA</td>\n",
       "      <td>15342</td>\n",
       "      <td>20000</td>\n",
       "    </tr>\n",
       "    <tr>\n",
       "      <th>3</th>\n",
       "      <td>1003715054175576</td>\n",
       "      <td>2015-10-22 19:41:10</td>\n",
       "      <td>136.18</td>\n",
       "      <td>-80.174138</td>\n",
       "      <td>40.290895</td>\n",
       "      <td>2015</td>\n",
       "      <td>10</td>\n",
       "      <td>22</td>\n",
       "      <td>3</td>\n",
       "      <td>Houston</td>\n",
       "      <td>PA</td>\n",
       "      <td>15342</td>\n",
       "      <td>20000</td>\n",
       "    </tr>\n",
       "    <tr>\n",
       "      <th>4</th>\n",
       "      <td>1003715054175576</td>\n",
       "      <td>2015-10-26 20:08:22</td>\n",
       "      <td>71.82</td>\n",
       "      <td>-80.238720</td>\n",
       "      <td>40.166719</td>\n",
       "      <td>2015</td>\n",
       "      <td>10</td>\n",
       "      <td>26</td>\n",
       "      <td>0</td>\n",
       "      <td>Houston</td>\n",
       "      <td>PA</td>\n",
       "      <td>15342</td>\n",
       "      <td>20000</td>\n",
       "    </tr>\n",
       "  </tbody>\n",
       "</table>\n",
       "</div>"
      ],
      "text/plain": [
       "        credit_card                date  transaction_dollar_amount       Long  \\\n",
       "0  1003715054175576 2015-09-11 00:32:40                      43.78 -80.174132   \n",
       "1  1003715054175576 2015-10-24 22:23:08                     103.15 -80.194240   \n",
       "2  1003715054175576 2015-10-26 18:19:36                      48.55 -80.211033   \n",
       "3  1003715054175576 2015-10-22 19:41:10                     136.18 -80.174138   \n",
       "4  1003715054175576 2015-10-26 20:08:22                      71.82 -80.238720   \n",
       "\n",
       "         Lat  year  month  day  weekday     city state  zipcode  \\\n",
       "0  40.267370  2015      9   11        4  Houston    PA    15342   \n",
       "1  40.180114  2015     10   24        5  Houston    PA    15342   \n",
       "2  40.313004  2015     10   26        0  Houston    PA    15342   \n",
       "3  40.290895  2015     10   22        3  Houston    PA    15342   \n",
       "4  40.166719  2015     10   26        0  Houston    PA    15342   \n",
       "\n",
       "   credit_card_limit  \n",
       "0              20000  \n",
       "1              20000  \n",
       "2              20000  \n",
       "3              20000  \n",
       "4              20000  "
      ]
     },
<<<<<<< HEAD
     "execution_count": 17,
=======
     "execution_count": 16,
>>>>>>> d5d7958dece8c5d0aa8a71482da454a4385eab5c
     "metadata": {},
     "output_type": "execute_result"
    }
   ],
   "source": [
    "cc_transactions.head()"
   ]
  },
  {
   "cell_type": "code",
<<<<<<< HEAD
   "execution_count": 18,
=======
   "execution_count": 17,
>>>>>>> d5d7958dece8c5d0aa8a71482da454a4385eab5c
   "metadata": {
    "collapsed": true
   },
   "outputs": [],
   "source": [
    "total_by_card = transactions.groupby(['credit_card','month'])['transaction_dollar_amount'].sum()"
   ]
  },
  {
   "cell_type": "code",
<<<<<<< HEAD
   "execution_count": 19,
=======
   "execution_count": 18,
>>>>>>> d5d7958dece8c5d0aa8a71482da454a4385eab5c
   "metadata": {
    "collapsed": true
   },
   "outputs": [],
   "source": [
    "total_by_card = total_by_card.reset_index()"
   ]
  },
  {
   "cell_type": "code",
<<<<<<< HEAD
   "execution_count": 20,
   "metadata": {
    "collapsed": false
   },
=======
   "execution_count": 19,
   "metadata": {},
>>>>>>> d5d7958dece8c5d0aa8a71482da454a4385eab5c
   "outputs": [
    {
     "data": {
      "text/html": [
       "<div>\n",
       "<style>\n",
       "    .dataframe thead tr:only-child th {\n",
       "        text-align: right;\n",
       "    }\n",
       "\n",
       "    .dataframe thead th {\n",
       "        text-align: left;\n",
       "    }\n",
       "\n",
       "    .dataframe tbody tr th {\n",
       "        vertical-align: top;\n",
       "    }\n",
       "</style>\n",
       "<table border=\"1\" class=\"dataframe\">\n",
       "  <thead>\n",
       "    <tr style=\"text-align: right;\">\n",
       "      <th></th>\n",
       "      <th>credit_card</th>\n",
       "      <th>month</th>\n",
       "      <th>transaction_dollar_amount</th>\n",
       "    </tr>\n",
       "  </thead>\n",
       "  <tbody>\n",
       "    <tr>\n",
       "      <th>0</th>\n",
       "      <td>1003715054175576</td>\n",
       "      <td>7</td>\n",
       "      <td>162.56</td>\n",
       "    </tr>\n",
       "    <tr>\n",
       "      <th>1</th>\n",
       "      <td>1003715054175576</td>\n",
       "      <td>8</td>\n",
       "      <td>8441.51</td>\n",
       "    </tr>\n",
       "    <tr>\n",
       "      <th>2</th>\n",
       "      <td>1003715054175576</td>\n",
       "      <td>9</td>\n",
       "      <td>11281.56</td>\n",
       "    </tr>\n",
       "    <tr>\n",
       "      <th>3</th>\n",
       "      <td>1003715054175576</td>\n",
       "      <td>10</td>\n",
       "      <td>8954.21</td>\n",
       "    </tr>\n",
       "    <tr>\n",
       "      <th>4</th>\n",
       "      <td>1013870087888817</td>\n",
       "      <td>7</td>\n",
       "      <td>281.43</td>\n",
       "    </tr>\n",
       "  </tbody>\n",
       "</table>\n",
       "</div>"
      ],
      "text/plain": [
       "        credit_card  month  transaction_dollar_amount\n",
       "0  1003715054175576      7                     162.56\n",
       "1  1003715054175576      8                    8441.51\n",
       "2  1003715054175576      9                   11281.56\n",
       "3  1003715054175576     10                    8954.21\n",
       "4  1013870087888817      7                     281.43"
      ]
     },
<<<<<<< HEAD
     "execution_count": 20,
=======
     "execution_count": 19,
>>>>>>> d5d7958dece8c5d0aa8a71482da454a4385eab5c
     "metadata": {},
     "output_type": "execute_result"
    }
   ],
   "source": [
    "total_by_card.head()"
   ]
  },
  {
   "cell_type": "code",
<<<<<<< HEAD
   "execution_count": 21,
   "metadata": {
    "collapsed": false
   },
=======
   "execution_count": 20,
   "metadata": {},
>>>>>>> d5d7958dece8c5d0aa8a71482da454a4385eab5c
   "outputs": [
    {
     "data": {
      "text/plain": [
       "(3797, 3)"
      ]
     },
<<<<<<< HEAD
     "execution_count": 21,
=======
     "execution_count": 20,
>>>>>>> d5d7958dece8c5d0aa8a71482da454a4385eab5c
     "metadata": {},
     "output_type": "execute_result"
    }
   ],
   "source": [
    "total_by_card.shape"
   ]
  },
  {
   "cell_type": "markdown",
   "metadata": {},
   "source": [
    "### List of users (credit card number) that never went above credit card limit each month"
   ]
  },
  {
   "cell_type": "code",
<<<<<<< HEAD
   "execution_count": 22,
=======
   "execution_count": 21,
>>>>>>> d5d7958dece8c5d0aa8a71482da454a4385eab5c
   "metadata": {
    "collapsed": true
   },
   "outputs": [],
   "source": [
    "total_not_limit = pd.merge(total_by_card, cc_info, how='inner', on='credit_card')"
   ]
  },
  {
   "cell_type": "code",
<<<<<<< HEAD
   "execution_count": 23,
   "metadata": {
    "collapsed": false
   },
=======
   "execution_count": 22,
   "metadata": {},
>>>>>>> d5d7958dece8c5d0aa8a71482da454a4385eab5c
   "outputs": [
    {
     "data": {
      "text/plain": [
       "(3797, 7)"
      ]
     },
<<<<<<< HEAD
     "execution_count": 23,
=======
     "execution_count": 22,
>>>>>>> d5d7958dece8c5d0aa8a71482da454a4385eab5c
     "metadata": {},
     "output_type": "execute_result"
    }
   ],
   "source": [
    "total_not_limit.shape"
   ]
  },
  {
   "cell_type": "code",
<<<<<<< HEAD
   "execution_count": 24,
=======
   "execution_count": 23,
>>>>>>> d5d7958dece8c5d0aa8a71482da454a4385eab5c
   "metadata": {
    "collapsed": true
   },
   "outputs": [],
   "source": [
    "def f_over_limit(row):\n",
    "    if row['credit_card_limit'] < row['transaction_dollar_amount']:\n",
    "        return True\n",
    "    else:\n",
    "        return False\n",
    "\n",
    "total_not_limit['overlimit'] = total_not_limit.apply(f_over_limit, axis=1)"
   ]
  },
  {
   "cell_type": "code",
<<<<<<< HEAD
   "execution_count": 25,
   "metadata": {
    "collapsed": false
   },
=======
   "execution_count": 24,
   "metadata": {},
>>>>>>> d5d7958dece8c5d0aa8a71482da454a4385eab5c
   "outputs": [
    {
     "data": {
      "text/html": [
       "<div>\n",
       "<style>\n",
       "    .dataframe thead tr:only-child th {\n",
       "        text-align: right;\n",
       "    }\n",
       "\n",
       "    .dataframe thead th {\n",
       "        text-align: left;\n",
       "    }\n",
       "\n",
       "    .dataframe tbody tr th {\n",
       "        vertical-align: top;\n",
       "    }\n",
       "</style>\n",
       "<table border=\"1\" class=\"dataframe\">\n",
       "  <thead>\n",
       "    <tr style=\"text-align: right;\">\n",
       "      <th></th>\n",
       "      <th>credit_card</th>\n",
       "      <th>month</th>\n",
       "      <th>transaction_dollar_amount</th>\n",
       "      <th>city</th>\n",
       "      <th>state</th>\n",
       "      <th>zipcode</th>\n",
       "      <th>credit_card_limit</th>\n",
       "      <th>overlimit</th>\n",
       "    </tr>\n",
       "  </thead>\n",
       "  <tbody>\n",
       "    <tr>\n",
       "      <th>0</th>\n",
       "      <td>1003715054175576</td>\n",
       "      <td>7</td>\n",
       "      <td>162.56</td>\n",
       "      <td>Houston</td>\n",
       "      <td>PA</td>\n",
       "      <td>15342</td>\n",
       "      <td>20000</td>\n",
       "      <td>False</td>\n",
       "    </tr>\n",
       "    <tr>\n",
       "      <th>1</th>\n",
       "      <td>1003715054175576</td>\n",
       "      <td>8</td>\n",
       "      <td>8441.51</td>\n",
       "      <td>Houston</td>\n",
       "      <td>PA</td>\n",
       "      <td>15342</td>\n",
       "      <td>20000</td>\n",
       "      <td>False</td>\n",
       "    </tr>\n",
       "    <tr>\n",
       "      <th>2</th>\n",
       "      <td>1003715054175576</td>\n",
       "      <td>9</td>\n",
       "      <td>11281.56</td>\n",
       "      <td>Houston</td>\n",
       "      <td>PA</td>\n",
       "      <td>15342</td>\n",
       "      <td>20000</td>\n",
       "      <td>False</td>\n",
       "    </tr>\n",
       "    <tr>\n",
       "      <th>3</th>\n",
       "      <td>1003715054175576</td>\n",
       "      <td>10</td>\n",
       "      <td>8954.21</td>\n",
       "      <td>Houston</td>\n",
       "      <td>PA</td>\n",
       "      <td>15342</td>\n",
       "      <td>20000</td>\n",
       "      <td>False</td>\n",
       "    </tr>\n",
       "    <tr>\n",
       "      <th>4</th>\n",
       "      <td>1013870087888817</td>\n",
       "      <td>7</td>\n",
       "      <td>281.43</td>\n",
       "      <td>Washington</td>\n",
       "      <td>NH</td>\n",
       "      <td>3280</td>\n",
       "      <td>15000</td>\n",
       "      <td>False</td>\n",
       "    </tr>\n",
       "  </tbody>\n",
       "</table>\n",
       "</div>"
      ],
      "text/plain": [
       "        credit_card  month  transaction_dollar_amount        city state  \\\n",
       "0  1003715054175576      7                     162.56     Houston    PA   \n",
       "1  1003715054175576      8                    8441.51     Houston    PA   \n",
       "2  1003715054175576      9                   11281.56     Houston    PA   \n",
       "3  1003715054175576     10                    8954.21     Houston    PA   \n",
       "4  1013870087888817      7                     281.43  Washington    NH   \n",
       "\n",
       "   zipcode  credit_card_limit  overlimit  \n",
       "0    15342              20000      False  \n",
       "1    15342              20000      False  \n",
       "2    15342              20000      False  \n",
       "3    15342              20000      False  \n",
       "4     3280              15000      False  "
      ]
     },
<<<<<<< HEAD
     "execution_count": 25,
=======
     "execution_count": 24,
>>>>>>> d5d7958dece8c5d0aa8a71482da454a4385eab5c
     "metadata": {},
     "output_type": "execute_result"
    }
   ],
   "source": [
    "total_not_limit.head()"
   ]
  },
  {
   "cell_type": "code",
<<<<<<< HEAD
   "execution_count": 26,
   "metadata": {
    "collapsed": false
   },
=======
   "execution_count": 25,
   "metadata": {},
>>>>>>> d5d7958dece8c5d0aa8a71482da454a4385eab5c
   "outputs": [
    {
     "data": {
      "text/plain": [
       "False    3571\n",
       "True      226\n",
       "Name: overlimit, dtype: int64"
      ]
     },
<<<<<<< HEAD
     "execution_count": 26,
=======
     "execution_count": 25,
>>>>>>> d5d7958dece8c5d0aa8a71482da454a4385eab5c
     "metadata": {},
     "output_type": "execute_result"
    }
   ],
   "source": [
    "total_not_limit.overlimit.value_counts()"
   ]
  },
  {
   "cell_type": "code",
<<<<<<< HEAD
   "execution_count": 27,
=======
   "execution_count": 26,
>>>>>>> d5d7958dece8c5d0aa8a71482da454a4385eab5c
   "metadata": {
    "collapsed": true
   },
   "outputs": [],
   "source": [
    "overlimit_user = total_not_limit.groupby('credit_card')['overlimit'].any()"
   ]
  },
  {
   "cell_type": "code",
<<<<<<< HEAD
   "execution_count": 28,
   "metadata": {
    "collapsed": false
   },
=======
   "execution_count": 27,
   "metadata": {},
>>>>>>> d5d7958dece8c5d0aa8a71482da454a4385eab5c
   "outputs": [
    {
     "data": {
      "text/plain": [
       "((984,),)"
      ]
     },
<<<<<<< HEAD
     "execution_count": 28,
=======
     "execution_count": 27,
>>>>>>> d5d7958dece8c5d0aa8a71482da454a4385eab5c
     "metadata": {},
     "output_type": "execute_result"
    }
   ],
   "source": [
    "overlimit_user.shape, "
   ]
  },
  {
   "cell_type": "code",
<<<<<<< HEAD
   "execution_count": 29,
   "metadata": {
    "collapsed": false
   },
=======
   "execution_count": 28,
   "metadata": {},
>>>>>>> d5d7958dece8c5d0aa8a71482da454a4385eab5c
   "outputs": [
    {
     "data": {
      "text/plain": [
       "credit_card\n",
       "1003715054175576    False\n",
       "1013870087888817    False\n",
       "1023820165155391    False\n",
       "1073931538936472    False\n",
       "1077622576192810    False\n",
       "Name: overlimit, dtype: bool"
      ]
     },
<<<<<<< HEAD
     "execution_count": 29,
=======
     "execution_count": 28,
>>>>>>> d5d7958dece8c5d0aa8a71482da454a4385eab5c
     "metadata": {},
     "output_type": "execute_result"
    }
   ],
   "source": [
    "overlimit_user.head()"
   ]
  },
  {
   "cell_type": "code",
<<<<<<< HEAD
   "execution_count": 30,
   "metadata": {
    "collapsed": false
   },
=======
   "execution_count": 29,
   "metadata": {},
>>>>>>> d5d7958dece8c5d0aa8a71482da454a4385eab5c
   "outputs": [
    {
     "data": {
      "text/plain": [
       "False    862\n",
       "True     122\n",
       "Name: overlimit, dtype: int64"
      ]
     },
<<<<<<< HEAD
     "execution_count": 30,
=======
     "execution_count": 29,
>>>>>>> d5d7958dece8c5d0aa8a71482da454a4385eab5c
     "metadata": {},
     "output_type": "execute_result"
    }
   ],
   "source": [
    "overlimit_user.value_counts()"
   ]
  },
  {
   "cell_type": "code",
<<<<<<< HEAD
   "execution_count": 31,
   "metadata": {
    "collapsed": false
   },
=======
   "execution_count": 30,
   "metadata": {},
>>>>>>> d5d7958dece8c5d0aa8a71482da454a4385eab5c
   "outputs": [
    {
     "data": {
      "text/plain": [
       "credit_card\n",
       "1106824181265726    True\n",
       "1175962294549313    True\n",
       "1190980117697422    True\n",
       "1246716439259317    True\n",
       "1280981422329509    True\n",
       "Name: overlimit, dtype: bool"
      ]
     },
<<<<<<< HEAD
     "execution_count": 31,
=======
     "execution_count": 30,
>>>>>>> d5d7958dece8c5d0aa8a71482da454a4385eab5c
     "metadata": {},
     "output_type": "execute_result"
    }
   ],
   "source": [
    "overlimit_user[overlimit_user==True][:5]"
   ]
  },
  {
   "cell_type": "code",
<<<<<<< HEAD
   "execution_count": 32,
   "metadata": {
    "collapsed": false
   },
=======
   "execution_count": 31,
   "metadata": {},
>>>>>>> d5d7958dece8c5d0aa8a71482da454a4385eab5c
   "outputs": [
    {
     "data": {
      "text/html": [
       "<div>\n",
       "<style>\n",
       "    .dataframe thead tr:only-child th {\n",
       "        text-align: right;\n",
       "    }\n",
       "\n",
       "    .dataframe thead th {\n",
       "        text-align: left;\n",
       "    }\n",
       "\n",
       "    .dataframe tbody tr th {\n",
       "        vertical-align: top;\n",
       "    }\n",
       "</style>\n",
       "<table border=\"1\" class=\"dataframe\">\n",
       "  <thead>\n",
       "    <tr style=\"text-align: right;\">\n",
       "      <th></th>\n",
       "      <th>credit_card</th>\n",
       "      <th>city</th>\n",
       "      <th>state</th>\n",
       "      <th>zipcode</th>\n",
       "      <th>credit_card_limit</th>\n",
       "    </tr>\n",
       "  </thead>\n",
       "  <tbody>\n",
       "    <tr>\n",
       "      <th>172</th>\n",
       "      <td>1106824181265726</td>\n",
       "      <td>Washington</td>\n",
       "      <td>NH</td>\n",
       "      <td>3280</td>\n",
       "      <td>6000</td>\n",
       "    </tr>\n",
       "  </tbody>\n",
       "</table>\n",
       "</div>"
      ],
      "text/plain": [
       "          credit_card        city state  zipcode  credit_card_limit\n",
       "172  1106824181265726  Washington    NH     3280               6000"
      ]
     },
<<<<<<< HEAD
     "execution_count": 32,
=======
     "execution_count": 31,
>>>>>>> d5d7958dece8c5d0aa8a71482da454a4385eab5c
     "metadata": {},
     "output_type": "execute_result"
    }
   ],
   "source": [
    "cc_info[cc_info.credit_card==1106824181265726]"
   ]
  },
  {
   "cell_type": "code",
<<<<<<< HEAD
   "execution_count": 33,
   "metadata": {
    "collapsed": false
   },
=======
   "execution_count": 32,
   "metadata": {},
>>>>>>> d5d7958dece8c5d0aa8a71482da454a4385eab5c
   "outputs": [
    {
     "data": {
      "text/html": [
       "<div>\n",
       "<style>\n",
       "    .dataframe thead tr:only-child th {\n",
       "        text-align: right;\n",
       "    }\n",
       "\n",
       "    .dataframe thead th {\n",
       "        text-align: left;\n",
       "    }\n",
       "\n",
       "    .dataframe tbody tr th {\n",
       "        vertical-align: top;\n",
       "    }\n",
       "</style>\n",
       "<table border=\"1\" class=\"dataframe\">\n",
       "  <thead>\n",
       "    <tr style=\"text-align: right;\">\n",
       "      <th></th>\n",
       "      <th>credit_card</th>\n",
       "      <th>month</th>\n",
       "      <th>transaction_dollar_amount</th>\n",
       "    </tr>\n",
       "  </thead>\n",
       "  <tbody>\n",
       "    <tr>\n",
       "      <th>31</th>\n",
       "      <td>1106824181265726</td>\n",
       "      <td>7</td>\n",
       "      <td>90.87</td>\n",
       "    </tr>\n",
       "    <tr>\n",
       "      <th>32</th>\n",
       "      <td>1106824181265726</td>\n",
       "      <td>8</td>\n",
       "      <td>6734.92</td>\n",
       "    </tr>\n",
       "    <tr>\n",
       "      <th>33</th>\n",
       "      <td>1106824181265726</td>\n",
       "      <td>9</td>\n",
       "      <td>7419.42</td>\n",
       "    </tr>\n",
       "    <tr>\n",
       "      <th>34</th>\n",
       "      <td>1106824181265726</td>\n",
       "      <td>10</td>\n",
       "      <td>7483.05</td>\n",
       "    </tr>\n",
       "  </tbody>\n",
       "</table>\n",
       "</div>"
      ],
      "text/plain": [
       "         credit_card  month  transaction_dollar_amount\n",
       "31  1106824181265726      7                      90.87\n",
       "32  1106824181265726      8                    6734.92\n",
       "33  1106824181265726      9                    7419.42\n",
       "34  1106824181265726     10                    7483.05"
      ]
     },
<<<<<<< HEAD
     "execution_count": 33,
=======
     "execution_count": 32,
>>>>>>> d5d7958dece8c5d0aa8a71482da454a4385eab5c
     "metadata": {},
     "output_type": "execute_result"
    }
   ],
   "source": [
    "total_by_card[total_by_card.credit_card==1106824181265726]"
   ]
  },
  {
   "cell_type": "code",
<<<<<<< HEAD
   "execution_count": 34,
=======
   "execution_count": 33,
>>>>>>> d5d7958dece8c5d0aa8a71482da454a4385eab5c
   "metadata": {
    "collapsed": true
   },
   "outputs": [],
   "source": [
    "never_over_limit_users = overlimit_user[overlimit_user==False].index"
   ]
  },
  {
   "cell_type": "markdown",
   "metadata": {},
   "source": [
    "### Build function that for each day, return list of users that went above monthly credit card limit on that day"
   ]
  },
  {
   "cell_type": "code",
<<<<<<< HEAD
   "execution_count": 35,
   "metadata": {
    "collapsed": false
   },
=======
   "execution_count": 34,
   "metadata": {},
>>>>>>> d5d7958dece8c5d0aa8a71482da454a4385eab5c
   "outputs": [
    {
     "data": {
      "text/html": [
       "<div>\n",
       "<style>\n",
       "    .dataframe thead tr:only-child th {\n",
       "        text-align: right;\n",
       "    }\n",
       "\n",
       "    .dataframe thead th {\n",
       "        text-align: left;\n",
       "    }\n",
       "\n",
       "    .dataframe tbody tr th {\n",
       "        vertical-align: top;\n",
       "    }\n",
       "</style>\n",
       "<table border=\"1\" class=\"dataframe\">\n",
       "  <thead>\n",
       "    <tr style=\"text-align: right;\">\n",
       "      <th></th>\n",
       "      <th>credit_card</th>\n",
       "      <th>month</th>\n",
       "      <th>transaction_dollar_amount</th>\n",
       "    </tr>\n",
       "  </thead>\n",
       "  <tbody>\n",
       "    <tr>\n",
       "      <th>0</th>\n",
       "      <td>1003715054175576</td>\n",
       "      <td>7</td>\n",
       "      <td>162.56</td>\n",
       "    </tr>\n",
       "    <tr>\n",
       "      <th>1</th>\n",
       "      <td>1003715054175576</td>\n",
       "      <td>8</td>\n",
       "      <td>8441.51</td>\n",
       "    </tr>\n",
       "    <tr>\n",
       "      <th>2</th>\n",
       "      <td>1003715054175576</td>\n",
       "      <td>9</td>\n",
       "      <td>11281.56</td>\n",
       "    </tr>\n",
       "    <tr>\n",
       "      <th>3</th>\n",
       "      <td>1003715054175576</td>\n",
       "      <td>10</td>\n",
       "      <td>8954.21</td>\n",
       "    </tr>\n",
       "    <tr>\n",
       "      <th>4</th>\n",
       "      <td>1013870087888817</td>\n",
       "      <td>7</td>\n",
       "      <td>281.43</td>\n",
       "    </tr>\n",
       "  </tbody>\n",
       "</table>\n",
       "</div>"
      ],
      "text/plain": [
       "        credit_card  month  transaction_dollar_amount\n",
       "0  1003715054175576      7                     162.56\n",
       "1  1003715054175576      8                    8441.51\n",
       "2  1003715054175576      9                   11281.56\n",
       "3  1003715054175576     10                    8954.21\n",
       "4  1013870087888817      7                     281.43"
      ]
     },
<<<<<<< HEAD
     "execution_count": 35,
=======
     "execution_count": 34,
>>>>>>> d5d7958dece8c5d0aa8a71482da454a4385eab5c
     "metadata": {},
     "output_type": "execute_result"
    }
   ],
   "source": [
    "total_by_card.head()"
   ]
  },
  {
   "cell_type": "code",
   "execution_count": null,
   "metadata": {
    "collapsed": true
   },
   "outputs": [],
   "source": []
  },
  {
   "cell_type": "markdown",
   "metadata": {},
   "source": [
    "### Fraud detection Unsupervised"
   ]
  },
  {
   "cell_type": "code",
<<<<<<< HEAD
   "execution_count": 36,
=======
   "execution_count": 35,
>>>>>>> d5d7958dece8c5d0aa8a71482da454a4385eab5c
   "metadata": {
    "collapsed": true
   },
   "outputs": [],
   "source": [
    "import matplotlib.pyplot as plt\n",
    "import numpy as np\n",
    "%matplotlib inline\n",
    "\n",
    "from numpy import genfromtxt\n",
    "from scipy.stats import multivariate_normal\n",
    "from sklearn.metrics import f1_score"
   ]
  },
  {
   "cell_type": "code",
<<<<<<< HEAD
   "execution_count": 37,
   "metadata": {
    "collapsed": false
   },
=======
   "execution_count": 36,
   "metadata": {},
>>>>>>> d5d7958dece8c5d0aa8a71482da454a4385eab5c
   "outputs": [
    {
     "data": {
      "text/plain": [
       "Index([u'credit_card', u'date', u'transaction_dollar_amount', u'Long', u'Lat',\n",
       "       u'year', u'month', u'day', u'weekday'],\n",
       "      dtype='object')"
      ]
     },
<<<<<<< HEAD
     "execution_count": 37,
=======
     "execution_count": 36,
>>>>>>> d5d7958dece8c5d0aa8a71482da454a4385eab5c
     "metadata": {},
     "output_type": "execute_result"
    }
   ],
   "source": [
    "transactions.columns"
   ]
  },
  {
   "cell_type": "code",
<<<<<<< HEAD
   "execution_count": 38,
   "metadata": {
    "collapsed": false
   },
=======
   "execution_count": 37,
   "metadata": {},
>>>>>>> d5d7958dece8c5d0aa8a71482da454a4385eab5c
   "outputs": [
    {
     "data": {
      "text/plain": [
       "Index([u'credit_card', u'date', u'transaction_dollar_amount', u'Long', u'Lat',\n",
       "       u'year', u'month', u'day', u'weekday', u'city', u'state', u'zipcode',\n",
       "       u'credit_card_limit'],\n",
       "      dtype='object')"
      ]
     },
<<<<<<< HEAD
     "execution_count": 38,
=======
     "execution_count": 37,
>>>>>>> d5d7958dece8c5d0aa8a71482da454a4385eab5c
     "metadata": {},
     "output_type": "execute_result"
    }
   ],
   "source": [
    "cc_transactions.columns"
   ]
  },
  {
   "cell_type": "code",
<<<<<<< HEAD
   "execution_count": 39,
=======
   "execution_count": 38,
>>>>>>> d5d7958dece8c5d0aa8a71482da454a4385eab5c
   "metadata": {
    "collapsed": true
   },
   "outputs": [],
   "source": [
    "# Split training and test set (split by month)"
   ]
  },
  {
   "cell_type": "code",
<<<<<<< HEAD
   "execution_count": 40,
=======
   "execution_count": 39,
>>>>>>> d5d7958dece8c5d0aa8a71482da454a4385eab5c
   "metadata": {
    "collapsed": true
   },
   "outputs": [],
   "source": [
    "transactions['hour'] = transactions.date.dt.hour"
   ]
  },
  {
   "cell_type": "code",
<<<<<<< HEAD
   "execution_count": 41,
   "metadata": {
    "collapsed": false
   },
=======
   "execution_count": 40,
   "metadata": {},
>>>>>>> d5d7958dece8c5d0aa8a71482da454a4385eab5c
   "outputs": [
    {
     "data": {
      "text/plain": [
       "Index([u'credit_card', u'date', u'transaction_dollar_amount', u'Long', u'Lat',\n",
       "       u'year', u'month', u'day', u'weekday', u'hour'],\n",
       "      dtype='object')"
      ]
     },
<<<<<<< HEAD
     "execution_count": 41,
=======
     "execution_count": 40,
>>>>>>> d5d7958dece8c5d0aa8a71482da454a4385eab5c
     "metadata": {},
     "output_type": "execute_result"
    }
   ],
   "source": [
    "transactions.columns"
   ]
  },
  {
   "cell_type": "code",
<<<<<<< HEAD
   "execution_count": 42,
=======
   "execution_count": 41,
>>>>>>> d5d7958dece8c5d0aa8a71482da454a4385eab5c
   "metadata": {
    "collapsed": true
   },
   "outputs": [],
   "source": [
    "def feature_normalize(dataset):\n",
    "    mu = np.mean(dataset,axis=0)\n",
    "    sigma = np.std(dataset,axis=0)\n",
    "    return (dataset - mu)/sigma\n",
    "\n",
    "def estimateGaussian(dataset):\n",
    "    mu = np.mean(dataset, axis=0)\n",
    "    sigma = np.cov(dataset.T)\n",
    "    return mu, sigma\n",
    "    \n",
    "def multivariateGaussian(dataset,mu,sigma):\n",
    "    p = multivariate_normal(mean=mu, cov=sigma)\n",
    "    return p.pdf(dataset)"
   ]
  },
  {
   "cell_type": "code",
<<<<<<< HEAD
   "execution_count": 43,
   "metadata": {
    "collapsed": false
   },
=======
   "execution_count": 42,
   "metadata": {},
>>>>>>> d5d7958dece8c5d0aa8a71482da454a4385eab5c
   "outputs": [
    {
     "data": {
      "text/plain": [
<<<<<<< HEAD
       "array([[<matplotlib.axes._subplots.AxesSubplot object at 0x1120a4990>,\n",
       "        <matplotlib.axes._subplots.AxesSubplot object at 0x108b9a090>],\n",
       "       [<matplotlib.axes._subplots.AxesSubplot object at 0x1121f5810>,\n",
       "        <matplotlib.axes._subplots.AxesSubplot object at 0x108c7fc10>],\n",
       "       [<matplotlib.axes._subplots.AxesSubplot object at 0x109482b90>,\n",
       "        <matplotlib.axes._subplots.AxesSubplot object at 0x1141c2050>]], dtype=object)"
      ]
     },
     "execution_count": 43,
=======
       "array([[<matplotlib.axes._subplots.AxesSubplot object at 0x7f22c60bad10>,\n",
       "        <matplotlib.axes._subplots.AxesSubplot object at 0x7f22cfc27850>],\n",
       "       [<matplotlib.axes._subplots.AxesSubplot object at 0x7f22cfbb8310>,\n",
       "        <matplotlib.axes._subplots.AxesSubplot object at 0x7f22cfb204d0>],\n",
       "       [<matplotlib.axes._subplots.AxesSubplot object at 0x7f22cfaa6890>,\n",
       "        <matplotlib.axes._subplots.AxesSubplot object at 0x7f22cfa9a190>]], dtype=object)"
      ]
     },
     "execution_count": 42,
>>>>>>> d5d7958dece8c5d0aa8a71482da454a4385eab5c
     "metadata": {},
     "output_type": "execute_result"
    },
    {
     "data": {
      "image/png": "iVBORw0KGgoAAAANSUhEUgAAA4MAAARvCAYAAACitjGNAAAABHNCSVQICAgIfAhkiAAAAAlwSFlz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\nAAAAYKD/AgqpQLXe+upSAAAAAElFTkSuQmCC\n",
      "text/plain": [
<<<<<<< HEAD
       "<matplotlib.figure.Figure at 0x1120a4490>"
=======
       "<matplotlib.figure.Figure at 0x7f22c60ba690>"
>>>>>>> d5d7958dece8c5d0aa8a71482da454a4385eab5c
      ]
     },
     "metadata": {},
     "output_type": "display_data"
    }
   ],
   "source": [
    "import matplotlib\n",
    "matplotlib.style.use('ggplot')\n",
    "features = ['transaction_dollar_amount','Long','Lat','weekday','hour']\n",
    "transactions[features].hist(stacked=False, bins=100, figsize=(15,20), layout=(3,2))\n"
   ]
  },
  {
   "cell_type": "code",
   "execution_count": 55,
   "metadata": {
    "collapsed": false
   },
   "outputs": [
    {
     "data": {
      "text/plain": [
       "array([[<matplotlib.axes._subplots.AxesSubplot object at 0x10ab17310>,\n",
       "        <matplotlib.axes._subplots.AxesSubplot object at 0x1079d1b90>],\n",
       "       [<matplotlib.axes._subplots.AxesSubplot object at 0x10c3e0550>,\n",
       "        <matplotlib.axes._subplots.AxesSubplot object at 0x107a88bd0>],\n",
       "       [<matplotlib.axes._subplots.AxesSubplot object at 0x10a70cd10>,\n",
       "        <matplotlib.axes._subplots.AxesSubplot object at 0x10a76aed0>]], dtype=object)"
      ]
     },
     "execution_count": 55,
     "metadata": {},
     "output_type": "execute_result"
    },
    {
     "data": {
      "image/png": "iVBORw0KGgoAAAANSUhEUgAAA4sAAASMCAYAAAAhsRhVAAAABHNCSVQICAgIfAhkiAAAAAlwSFlz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\n",
      "text/plain": [
       "<matplotlib.figure.Figure at 0x10aa06790>"
      ]
     },
     "metadata": {},
     "output_type": "display_data"
    }
   ],
   "source": [
    "transactions['log_dollar_amount'] = np.log(transactions['transaction_dollar_amount'])\n",
    "features.append('log_dollar_amount')\n",
    "transactions[features].hist(stacked=False, bins=100, figsize=(15,20), layout=(3,2))"
   ]
  },
  {
   "cell_type": "code",
<<<<<<< HEAD
   "execution_count": 58,
   "metadata": {
    "collapsed": false
   },
   "outputs": [
    {
     "data": {
      "text/html": [
       "<div>\n",
       "<table border=\"1\" class=\"dataframe\">\n",
       "  <thead>\n",
       "    <tr style=\"text-align: right;\">\n",
       "      <th></th>\n",
       "      <th>credit_card</th>\n",
       "      <th>date</th>\n",
       "      <th>transaction_dollar_amount</th>\n",
       "      <th>Long</th>\n",
       "      <th>Lat</th>\n",
       "      <th>year</th>\n",
       "      <th>month</th>\n",
       "      <th>day</th>\n",
       "      <th>weekday</th>\n",
       "      <th>hour</th>\n",
       "      <th>log_dollar_amount</th>\n",
       "    </tr>\n",
       "  </thead>\n",
       "  <tbody>\n",
       "    <tr>\n",
       "      <th>26</th>\n",
       "      <td>1003715054175576</td>\n",
       "      <td>2015-09-18 18:04:16</td>\n",
       "      <td>0.88</td>\n",
       "      <td>-80.132926</td>\n",
       "      <td>40.204183</td>\n",
       "      <td>2015</td>\n",
       "      <td>9</td>\n",
       "      <td>18</td>\n",
       "      <td>4</td>\n",
       "      <td>18</td>\n",
       "      <td>-0.127833</td>\n",
       "    </tr>\n",
       "    <tr>\n",
       "      <th>188</th>\n",
       "      <td>1003715054175576</td>\n",
       "      <td>2015-10-16 16:29:54</td>\n",
       "      <td>0.77</td>\n",
       "      <td>-80.178290</td>\n",
       "      <td>40.278221</td>\n",
       "      <td>2015</td>\n",
       "      <td>10</td>\n",
       "      <td>16</td>\n",
       "      <td>4</td>\n",
       "      <td>16</td>\n",
       "      <td>-0.261365</td>\n",
       "    </tr>\n",
       "    <tr>\n",
       "      <th>257</th>\n",
       "      <td>1003715054175576</td>\n",
       "      <td>2015-10-07 01:16:12</td>\n",
       "      <td>0.97</td>\n",
       "      <td>-80.196676</td>\n",
       "      <td>40.225513</td>\n",
       "      <td>2015</td>\n",
       "      <td>10</td>\n",
       "      <td>7</td>\n",
       "      <td>2</td>\n",
       "      <td>1</td>\n",
       "      <td>-0.030459</td>\n",
       "    </tr>\n",
       "    <tr>\n",
       "      <th>456</th>\n",
       "      <td>1013870087888817</td>\n",
       "      <td>2015-09-10 18:24:17</td>\n",
       "      <td>0.81</td>\n",
       "      <td>-72.077798</td>\n",
       "      <td>43.204047</td>\n",
       "      <td>2015</td>\n",
       "      <td>9</td>\n",
       "      <td>10</td>\n",
       "      <td>3</td>\n",
       "      <td>18</td>\n",
       "      <td>-0.210721</td>\n",
       "    </tr>\n",
       "    <tr>\n",
       "      <th>528</th>\n",
       "      <td>1013870087888817</td>\n",
       "      <td>2015-10-23 18:06:25</td>\n",
       "      <td>0.01</td>\n",
       "      <td>-72.137193</td>\n",
       "      <td>43.107800</td>\n",
       "      <td>2015</td>\n",
       "      <td>10</td>\n",
       "      <td>23</td>\n",
       "      <td>4</td>\n",
       "      <td>18</td>\n",
       "      <td>-4.605170</td>\n",
       "    </tr>\n",
       "    <tr>\n",
       "      <th>555</th>\n",
       "      <td>1013870087888817</td>\n",
       "      <td>2015-08-27 20:49:53</td>\n",
       "      <td>0.70</td>\n",
       "      <td>-72.072509</td>\n",
       "      <td>43.213273</td>\n",
       "      <td>2015</td>\n",
       "      <td>8</td>\n",
       "      <td>27</td>\n",
       "      <td>3</td>\n",
       "      <td>20</td>\n",
       "      <td>-0.356675</td>\n",
       "    </tr>\n",
       "    <tr>\n",
       "      <th>602</th>\n",
       "      <td>1023820165155391</td>\n",
       "      <td>2015-08-14 20:03:29</td>\n",
       "      <td>0.36</td>\n",
       "      <td>-73.211750</td>\n",
       "      <td>44.363776</td>\n",
       "      <td>2015</td>\n",
       "      <td>8</td>\n",
       "      <td>14</td>\n",
       "      <td>4</td>\n",
       "      <td>20</td>\n",
       "      <td>-1.021651</td>\n",
       "    </tr>\n",
       "    <tr>\n",
       "      <th>663</th>\n",
       "      <td>1023820165155391</td>\n",
       "      <td>2015-08-29 21:19:05</td>\n",
       "      <td>0.46</td>\n",
       "      <td>-73.230690</td>\n",
       "      <td>44.225010</td>\n",
       "      <td>2015</td>\n",
       "      <td>8</td>\n",
       "      <td>29</td>\n",
       "      <td>5</td>\n",
       "      <td>21</td>\n",
       "      <td>-0.776529</td>\n",
       "    </tr>\n",
       "    <tr>\n",
       "      <th>879</th>\n",
       "      <td>1023820165155391</td>\n",
       "      <td>2015-10-09 23:21:22</td>\n",
       "      <td>0.91</td>\n",
       "      <td>-73.189415</td>\n",
       "      <td>44.368470</td>\n",
       "      <td>2015</td>\n",
       "      <td>10</td>\n",
       "      <td>9</td>\n",
       "      <td>4</td>\n",
       "      <td>23</td>\n",
       "      <td>-0.094311</td>\n",
       "    </tr>\n",
       "    <tr>\n",
       "      <th>1044</th>\n",
       "      <td>1023820165155391</td>\n",
       "      <td>2015-09-21 20:29:01</td>\n",
       "      <td>0.92</td>\n",
       "      <td>-73.220427</td>\n",
       "      <td>44.297414</td>\n",
       "      <td>2015</td>\n",
       "      <td>9</td>\n",
       "      <td>21</td>\n",
       "      <td>0</td>\n",
       "      <td>20</td>\n",
       "      <td>-0.083382</td>\n",
       "    </tr>\n",
       "    <tr>\n",
       "      <th>1199</th>\n",
       "      <td>1087468642191606</td>\n",
       "      <td>2015-09-27 21:03:42</td>\n",
       "      <td>0.99</td>\n",
       "      <td>-121.851455</td>\n",
       "      <td>47.387278</td>\n",
       "      <td>2015</td>\n",
       "      <td>9</td>\n",
       "      <td>27</td>\n",
       "      <td>6</td>\n",
       "      <td>21</td>\n",
       "      <td>-0.010050</td>\n",
       "    </tr>\n",
       "    <tr>\n",
       "      <th>1459</th>\n",
       "      <td>1089479586475600</td>\n",
       "      <td>2015-10-18 01:03:01</td>\n",
       "      <td>0.94</td>\n",
       "      <td>-78.856930</td>\n",
       "      <td>42.829051</td>\n",
       "      <td>2015</td>\n",
       "      <td>10</td>\n",
       "      <td>18</td>\n",
       "      <td>6</td>\n",
       "      <td>1</td>\n",
       "      <td>-0.061875</td>\n",
       "    </tr>\n",
       "    <tr>\n",
       "      <th>1464</th>\n",
       "      <td>1089479586475600</td>\n",
       "      <td>2015-10-14 21:23:31</td>\n",
       "      <td>0.21</td>\n",
       "      <td>-78.955797</td>\n",
       "      <td>42.898858</td>\n",
       "      <td>2015</td>\n",
       "      <td>10</td>\n",
       "      <td>14</td>\n",
       "      <td>2</td>\n",
       "      <td>21</td>\n",
       "      <td>-1.560648</td>\n",
       "    </tr>\n",
       "    <tr>\n",
       "      <th>1563</th>\n",
       "      <td>1089479586475600</td>\n",
       "      <td>2015-08-07 21:31:23</td>\n",
       "      <td>0.97</td>\n",
       "      <td>-78.912242</td>\n",
       "      <td>42.845405</td>\n",
       "      <td>2015</td>\n",
       "      <td>8</td>\n",
       "      <td>7</td>\n",
       "      <td>4</td>\n",
       "      <td>21</td>\n",
       "      <td>-0.030459</td>\n",
       "    </tr>\n",
       "    <tr>\n",
       "      <th>1580</th>\n",
       "      <td>1089479586475600</td>\n",
       "      <td>2015-08-19 19:13:00</td>\n",
       "      <td>0.09</td>\n",
       "      <td>-78.957258</td>\n",
       "      <td>42.882774</td>\n",
       "      <td>2015</td>\n",
       "      <td>8</td>\n",
       "      <td>19</td>\n",
       "      <td>2</td>\n",
       "      <td>19</td>\n",
       "      <td>-2.407946</td>\n",
       "    </tr>\n",
       "    <tr>\n",
       "      <th>1634</th>\n",
       "      <td>1089479586475600</td>\n",
       "      <td>2015-10-02 20:26:54</td>\n",
       "      <td>0.47</td>\n",
       "      <td>-78.953064</td>\n",
       "      <td>42.871106</td>\n",
       "      <td>2015</td>\n",
       "      <td>10</td>\n",
       "      <td>2</td>\n",
       "      <td>4</td>\n",
       "      <td>20</td>\n",
       "      <td>-0.755023</td>\n",
       "    </tr>\n",
       "    <tr>\n",
       "      <th>1689</th>\n",
       "      <td>1089479586475600</td>\n",
       "      <td>2015-09-03 03:25:47</td>\n",
       "      <td>0.78</td>\n",
       "      <td>-78.950108</td>\n",
       "      <td>42.936986</td>\n",
       "      <td>2015</td>\n",
       "      <td>9</td>\n",
       "      <td>3</td>\n",
       "      <td>3</td>\n",
       "      <td>3</td>\n",
       "      <td>-0.248461</td>\n",
       "    </tr>\n",
       "    <tr>\n",
       "      <th>1780</th>\n",
       "      <td>1101164752077181</td>\n",
       "      <td>2015-10-02 14:25:43</td>\n",
       "      <td>0.18</td>\n",
       "      <td>-72.151712</td>\n",
       "      <td>43.128592</td>\n",
       "      <td>2015</td>\n",
       "      <td>10</td>\n",
       "      <td>2</td>\n",
       "      <td>4</td>\n",
       "      <td>14</td>\n",
       "      <td>-1.714798</td>\n",
       "    </tr>\n",
       "    <tr>\n",
       "      <th>1877</th>\n",
       "      <td>1101164752077181</td>\n",
       "      <td>2015-10-03 21:37:07</td>\n",
       "      <td>0.33</td>\n",
       "      <td>-72.179402</td>\n",
       "      <td>43.200439</td>\n",
       "      <td>2015</td>\n",
       "      <td>10</td>\n",
       "      <td>3</td>\n",
       "      <td>5</td>\n",
       "      <td>21</td>\n",
       "      <td>-1.108663</td>\n",
       "    </tr>\n",
       "    <tr>\n",
       "      <th>1907</th>\n",
       "      <td>1106824181265726</td>\n",
       "      <td>2015-09-24 19:04:04</td>\n",
       "      <td>0.99</td>\n",
       "      <td>-72.084296</td>\n",
       "      <td>43.180374</td>\n",
       "      <td>2015</td>\n",
       "      <td>9</td>\n",
       "      <td>24</td>\n",
       "      <td>3</td>\n",
       "      <td>19</td>\n",
       "      <td>-0.010050</td>\n",
       "    </tr>\n",
       "    <tr>\n",
       "      <th>1966</th>\n",
       "      <td>1106824181265726</td>\n",
       "      <td>2015-09-25 23:34:41</td>\n",
       "      <td>0.87</td>\n",
       "      <td>129.792947</td>\n",
       "      <td>-12.600858</td>\n",
       "      <td>2015</td>\n",
       "      <td>9</td>\n",
       "      <td>25</td>\n",
       "      <td>4</td>\n",
       "      <td>23</td>\n",
       "      <td>-0.139262</td>\n",
       "    </tr>\n",
       "    <tr>\n",
       "      <th>2192</th>\n",
       "      <td>1107936587129946</td>\n",
       "      <td>2015-09-12 22:29:54</td>\n",
       "      <td>0.38</td>\n",
       "      <td>-73.959524</td>\n",
       "      <td>40.724681</td>\n",
       "      <td>2015</td>\n",
       "      <td>9</td>\n",
       "      <td>12</td>\n",
       "      <td>5</td>\n",
       "      <td>22</td>\n",
       "      <td>-0.967584</td>\n",
       "    </tr>\n",
       "    <tr>\n",
       "      <th>2235</th>\n",
       "      <td>1107936587129946</td>\n",
       "      <td>2015-08-04 22:38:31</td>\n",
       "      <td>0.98</td>\n",
       "      <td>-74.023140</td>\n",
       "      <td>40.735563</td>\n",
       "      <td>2015</td>\n",
       "      <td>8</td>\n",
       "      <td>4</td>\n",
       "      <td>1</td>\n",
       "      <td>22</td>\n",
       "      <td>-0.020203</td>\n",
       "    </tr>\n",
       "    <tr>\n",
       "      <th>2585</th>\n",
       "      <td>1126571863414211</td>\n",
       "      <td>2015-09-30 23:22:35</td>\n",
       "      <td>0.03</td>\n",
       "      <td>-80.296472</td>\n",
       "      <td>40.225884</td>\n",
       "      <td>2015</td>\n",
       "      <td>9</td>\n",
       "      <td>30</td>\n",
       "      <td>2</td>\n",
       "      <td>23</td>\n",
       "      <td>-3.506558</td>\n",
       "    </tr>\n",
       "    <tr>\n",
       "      <th>2802</th>\n",
       "      <td>1126571863414211</td>\n",
       "      <td>2015-10-03 21:30:15</td>\n",
       "      <td>0.98</td>\n",
       "      <td>-80.276133</td>\n",
       "      <td>40.296067</td>\n",
       "      <td>2015</td>\n",
       "      <td>10</td>\n",
       "      <td>3</td>\n",
       "      <td>5</td>\n",
       "      <td>21</td>\n",
       "      <td>-0.020203</td>\n",
       "    </tr>\n",
       "    <tr>\n",
       "      <th>2850</th>\n",
       "      <td>1126571863414211</td>\n",
       "      <td>2015-10-04 22:24:16</td>\n",
       "      <td>0.15</td>\n",
       "      <td>-80.202835</td>\n",
       "      <td>40.228024</td>\n",
       "      <td>2015</td>\n",
       "      <td>10</td>\n",
       "      <td>4</td>\n",
       "      <td>6</td>\n",
       "      <td>22</td>\n",
       "      <td>-1.897120</td>\n",
       "    </tr>\n",
       "    <tr>\n",
       "      <th>2854</th>\n",
       "      <td>1126571863414211</td>\n",
       "      <td>2015-10-09 00:43:09</td>\n",
       "      <td>0.64</td>\n",
       "      <td>-80.175571</td>\n",
       "      <td>40.239486</td>\n",
       "      <td>2015</td>\n",
       "      <td>10</td>\n",
       "      <td>9</td>\n",
       "      <td>4</td>\n",
       "      <td>0</td>\n",
       "      <td>-0.446287</td>\n",
       "    </tr>\n",
       "    <tr>\n",
       "      <th>2871</th>\n",
       "      <td>1126571863414211</td>\n",
       "      <td>2015-10-03 22:19:55</td>\n",
       "      <td>0.68</td>\n",
       "      <td>-80.206695</td>\n",
       "      <td>40.281770</td>\n",
       "      <td>2015</td>\n",
       "      <td>10</td>\n",
       "      <td>3</td>\n",
       "      <td>5</td>\n",
       "      <td>22</td>\n",
       "      <td>-0.385662</td>\n",
       "    </tr>\n",
       "    <tr>\n",
       "      <th>2950</th>\n",
       "      <td>1126571863414211</td>\n",
       "      <td>2015-08-30 21:32:32</td>\n",
       "      <td>0.32</td>\n",
       "      <td>-80.284168</td>\n",
       "      <td>40.290711</td>\n",
       "      <td>2015</td>\n",
       "      <td>8</td>\n",
       "      <td>30</td>\n",
       "      <td>6</td>\n",
       "      <td>21</td>\n",
       "      <td>-1.139434</td>\n",
       "    </tr>\n",
       "    <tr>\n",
       "      <th>3383</th>\n",
       "      <td>1128536627506856</td>\n",
       "      <td>2015-10-01 18:19:23</td>\n",
       "      <td>0.35</td>\n",
       "      <td>-88.992046</td>\n",
       "      <td>40.762759</td>\n",
       "      <td>2015</td>\n",
       "      <td>10</td>\n",
       "      <td>1</td>\n",
       "      <td>3</td>\n",
       "      <td>18</td>\n",
       "      <td>-1.049822</td>\n",
       "    </tr>\n",
       "    <tr>\n",
       "      <th>...</th>\n",
       "      <td>...</td>\n",
       "      <td>...</td>\n",
       "      <td>...</td>\n",
       "      <td>...</td>\n",
       "      <td>...</td>\n",
       "      <td>...</td>\n",
       "      <td>...</td>\n",
       "      <td>...</td>\n",
       "      <td>...</td>\n",
       "      <td>...</td>\n",
       "      <td>...</td>\n",
       "    </tr>\n",
       "    <tr>\n",
       "      <th>291985</th>\n",
       "      <td>9855217884613002</td>\n",
       "      <td>2015-09-12 21:23:18</td>\n",
       "      <td>0.69</td>\n",
       "      <td>-74.085007</td>\n",
       "      <td>40.557131</td>\n",
       "      <td>2015</td>\n",
       "      <td>9</td>\n",
       "      <td>12</td>\n",
       "      <td>5</td>\n",
       "      <td>21</td>\n",
       "      <td>-0.371064</td>\n",
       "    </tr>\n",
       "    <tr>\n",
       "      <th>291992</th>\n",
       "      <td>9855217884613002</td>\n",
       "      <td>2015-09-25 21:02:51</td>\n",
       "      <td>0.30</td>\n",
       "      <td>-74.096535</td>\n",
       "      <td>40.691077</td>\n",
       "      <td>2015</td>\n",
       "      <td>9</td>\n",
       "      <td>25</td>\n",
       "      <td>4</td>\n",
       "      <td>21</td>\n",
       "      <td>-1.203973</td>\n",
       "    </tr>\n",
       "    <tr>\n",
       "      <th>292055</th>\n",
       "      <td>9855217884613002</td>\n",
       "      <td>2015-08-08 22:46:05</td>\n",
       "      <td>0.07</td>\n",
       "      <td>-74.048326</td>\n",
       "      <td>40.561015</td>\n",
       "      <td>2015</td>\n",
       "      <td>8</td>\n",
       "      <td>8</td>\n",
       "      <td>5</td>\n",
       "      <td>22</td>\n",
       "      <td>-2.659260</td>\n",
       "    </tr>\n",
       "    <tr>\n",
       "      <th>292151</th>\n",
       "      <td>9855217884613002</td>\n",
       "      <td>2015-09-12 18:36:25</td>\n",
       "      <td>0.73</td>\n",
       "      <td>-74.142745</td>\n",
       "      <td>40.595797</td>\n",
       "      <td>2015</td>\n",
       "      <td>9</td>\n",
       "      <td>12</td>\n",
       "      <td>5</td>\n",
       "      <td>18</td>\n",
       "      <td>-0.314711</td>\n",
       "    </tr>\n",
       "    <tr>\n",
       "      <th>292256</th>\n",
       "      <td>9855217884613002</td>\n",
       "      <td>2015-10-13 01:29:37</td>\n",
       "      <td>0.97</td>\n",
       "      <td>-74.080703</td>\n",
       "      <td>40.551163</td>\n",
       "      <td>2015</td>\n",
       "      <td>10</td>\n",
       "      <td>13</td>\n",
       "      <td>1</td>\n",
       "      <td>1</td>\n",
       "      <td>-0.030459</td>\n",
       "    </tr>\n",
       "    <tr>\n",
       "      <th>292380</th>\n",
       "      <td>9867492085978660</td>\n",
       "      <td>2015-08-20 18:31:38</td>\n",
       "      <td>0.65</td>\n",
       "      <td>-72.064040</td>\n",
       "      <td>43.191226</td>\n",
       "      <td>2015</td>\n",
       "      <td>8</td>\n",
       "      <td>20</td>\n",
       "      <td>3</td>\n",
       "      <td>18</td>\n",
       "      <td>-0.430783</td>\n",
       "    </tr>\n",
       "    <tr>\n",
       "      <th>292413</th>\n",
       "      <td>9867492085978660</td>\n",
       "      <td>2015-10-02 19:45:57</td>\n",
       "      <td>0.70</td>\n",
       "      <td>-72.085319</td>\n",
       "      <td>43.171985</td>\n",
       "      <td>2015</td>\n",
       "      <td>10</td>\n",
       "      <td>2</td>\n",
       "      <td>4</td>\n",
       "      <td>19</td>\n",
       "      <td>-0.356675</td>\n",
       "    </tr>\n",
       "    <tr>\n",
       "      <th>292666</th>\n",
       "      <td>9938969980242308</td>\n",
       "      <td>2015-08-30 00:28:58</td>\n",
       "      <td>0.28</td>\n",
       "      <td>-72.090440</td>\n",
       "      <td>43.142874</td>\n",
       "      <td>2015</td>\n",
       "      <td>8</td>\n",
       "      <td>30</td>\n",
       "      <td>6</td>\n",
       "      <td>0</td>\n",
       "      <td>-1.272966</td>\n",
       "    </tr>\n",
       "    <tr>\n",
       "      <th>292779</th>\n",
       "      <td>9938969980242308</td>\n",
       "      <td>2015-10-09 02:26:44</td>\n",
       "      <td>0.82</td>\n",
       "      <td>-72.035327</td>\n",
       "      <td>43.141983</td>\n",
       "      <td>2015</td>\n",
       "      <td>10</td>\n",
       "      <td>9</td>\n",
       "      <td>4</td>\n",
       "      <td>2</td>\n",
       "      <td>-0.198451</td>\n",
       "    </tr>\n",
       "    <tr>\n",
       "      <th>292820</th>\n",
       "      <td>9938969980242308</td>\n",
       "      <td>2015-08-20 20:58:45</td>\n",
       "      <td>0.80</td>\n",
       "      <td>-72.092244</td>\n",
       "      <td>43.151419</td>\n",
       "      <td>2015</td>\n",
       "      <td>8</td>\n",
       "      <td>20</td>\n",
       "      <td>3</td>\n",
       "      <td>20</td>\n",
       "      <td>-0.223144</td>\n",
       "    </tr>\n",
       "    <tr>\n",
       "      <th>292860</th>\n",
       "      <td>9938969980242308</td>\n",
       "      <td>2015-09-18 22:16:15</td>\n",
       "      <td>0.94</td>\n",
       "      <td>-72.040771</td>\n",
       "      <td>43.222945</td>\n",
       "      <td>2015</td>\n",
       "      <td>9</td>\n",
       "      <td>18</td>\n",
       "      <td>4</td>\n",
       "      <td>22</td>\n",
       "      <td>-0.061875</td>\n",
       "    </tr>\n",
       "    <tr>\n",
       "      <th>292873</th>\n",
       "      <td>9938969980242308</td>\n",
       "      <td>2015-09-09 23:08:38</td>\n",
       "      <td>0.98</td>\n",
       "      <td>-72.170600</td>\n",
       "      <td>43.194581</td>\n",
       "      <td>2015</td>\n",
       "      <td>9</td>\n",
       "      <td>9</td>\n",
       "      <td>2</td>\n",
       "      <td>23</td>\n",
       "      <td>-0.020203</td>\n",
       "    </tr>\n",
       "    <tr>\n",
       "      <th>292890</th>\n",
       "      <td>9938969980242308</td>\n",
       "      <td>2015-10-15 15:47:14</td>\n",
       "      <td>0.45</td>\n",
       "      <td>-72.116888</td>\n",
       "      <td>43.241846</td>\n",
       "      <td>2015</td>\n",
       "      <td>10</td>\n",
       "      <td>15</td>\n",
       "      <td>3</td>\n",
       "      <td>15</td>\n",
       "      <td>-0.798508</td>\n",
       "    </tr>\n",
       "    <tr>\n",
       "      <th>292985</th>\n",
       "      <td>9938969980242308</td>\n",
       "      <td>2015-08-11 19:06:41</td>\n",
       "      <td>0.12</td>\n",
       "      <td>105.211221</td>\n",
       "      <td>36.344079</td>\n",
       "      <td>2015</td>\n",
       "      <td>8</td>\n",
       "      <td>11</td>\n",
       "      <td>1</td>\n",
       "      <td>19</td>\n",
       "      <td>-2.120264</td>\n",
       "    </tr>\n",
       "    <tr>\n",
       "      <th>293090</th>\n",
       "      <td>9946917923319410</td>\n",
       "      <td>2015-10-22 21:45:43</td>\n",
       "      <td>0.86</td>\n",
       "      <td>-72.167682</td>\n",
       "      <td>43.177869</td>\n",
       "      <td>2015</td>\n",
       "      <td>10</td>\n",
       "      <td>22</td>\n",
       "      <td>3</td>\n",
       "      <td>21</td>\n",
       "      <td>-0.150823</td>\n",
       "    </tr>\n",
       "    <tr>\n",
       "      <th>293122</th>\n",
       "      <td>9946917923319410</td>\n",
       "      <td>2015-10-18 12:52:01</td>\n",
       "      <td>0.57</td>\n",
       "      <td>-72.144251</td>\n",
       "      <td>43.101914</td>\n",
       "      <td>2015</td>\n",
       "      <td>10</td>\n",
       "      <td>18</td>\n",
       "      <td>6</td>\n",
       "      <td>12</td>\n",
       "      <td>-0.562119</td>\n",
       "    </tr>\n",
       "    <tr>\n",
       "      <th>293221</th>\n",
       "      <td>9946917923319410</td>\n",
       "      <td>2015-09-05 00:22:34</td>\n",
       "      <td>0.01</td>\n",
       "      <td>-72.170117</td>\n",
       "      <td>43.126772</td>\n",
       "      <td>2015</td>\n",
       "      <td>9</td>\n",
       "      <td>5</td>\n",
       "      <td>5</td>\n",
       "      <td>0</td>\n",
       "      <td>-4.605170</td>\n",
       "    </tr>\n",
       "    <tr>\n",
       "      <th>293240</th>\n",
       "      <td>9946917923319410</td>\n",
       "      <td>2015-10-06 19:22:39</td>\n",
       "      <td>0.20</td>\n",
       "      <td>-72.073413</td>\n",
       "      <td>43.240870</td>\n",
       "      <td>2015</td>\n",
       "      <td>10</td>\n",
       "      <td>6</td>\n",
       "      <td>1</td>\n",
       "      <td>19</td>\n",
       "      <td>-1.609438</td>\n",
       "    </tr>\n",
       "    <tr>\n",
       "      <th>293298</th>\n",
       "      <td>9946917923319410</td>\n",
       "      <td>2015-09-26 23:08:10</td>\n",
       "      <td>0.23</td>\n",
       "      <td>-72.172835</td>\n",
       "      <td>43.203792</td>\n",
       "      <td>2015</td>\n",
       "      <td>9</td>\n",
       "      <td>26</td>\n",
       "      <td>5</td>\n",
       "      <td>23</td>\n",
       "      <td>-1.469676</td>\n",
       "    </tr>\n",
       "    <tr>\n",
       "      <th>293974</th>\n",
       "      <td>9986135779184360</td>\n",
       "      <td>2015-10-19 19:18:43</td>\n",
       "      <td>0.92</td>\n",
       "      <td>-80.238392</td>\n",
       "      <td>40.220296</td>\n",
       "      <td>2015</td>\n",
       "      <td>10</td>\n",
       "      <td>19</td>\n",
       "      <td>0</td>\n",
       "      <td>19</td>\n",
       "      <td>-0.083382</td>\n",
       "    </tr>\n",
       "    <tr>\n",
       "      <th>294145</th>\n",
       "      <td>9986135779184360</td>\n",
       "      <td>2015-10-02 23:00:54</td>\n",
       "      <td>0.32</td>\n",
       "      <td>-80.241106</td>\n",
       "      <td>40.216705</td>\n",
       "      <td>2015</td>\n",
       "      <td>10</td>\n",
       "      <td>2</td>\n",
       "      <td>4</td>\n",
       "      <td>23</td>\n",
       "      <td>-1.139434</td>\n",
       "    </tr>\n",
       "    <tr>\n",
       "      <th>294226</th>\n",
       "      <td>9986135779184360</td>\n",
       "      <td>2015-08-12 20:25:56</td>\n",
       "      <td>0.47</td>\n",
       "      <td>-80.291675</td>\n",
       "      <td>40.244465</td>\n",
       "      <td>2015</td>\n",
       "      <td>8</td>\n",
       "      <td>12</td>\n",
       "      <td>2</td>\n",
       "      <td>20</td>\n",
       "      <td>-0.755023</td>\n",
       "    </tr>\n",
       "    <tr>\n",
       "      <th>294255</th>\n",
       "      <td>9986135779184360</td>\n",
       "      <td>2015-08-01 01:24:07</td>\n",
       "      <td>0.50</td>\n",
       "      <td>-80.224019</td>\n",
       "      <td>40.260920</td>\n",
       "      <td>2015</td>\n",
       "      <td>8</td>\n",
       "      <td>1</td>\n",
       "      <td>5</td>\n",
       "      <td>1</td>\n",
       "      <td>-0.693147</td>\n",
       "    </tr>\n",
       "    <tr>\n",
       "      <th>294259</th>\n",
       "      <td>9986135779184360</td>\n",
       "      <td>2015-08-08 20:17:36</td>\n",
       "      <td>0.48</td>\n",
       "      <td>-80.149108</td>\n",
       "      <td>40.265238</td>\n",
       "      <td>2015</td>\n",
       "      <td>8</td>\n",
       "      <td>8</td>\n",
       "      <td>5</td>\n",
       "      <td>20</td>\n",
       "      <td>-0.733969</td>\n",
       "    </tr>\n",
       "    <tr>\n",
       "      <th>294290</th>\n",
       "      <td>9986135779184360</td>\n",
       "      <td>2015-09-08 17:58:01</td>\n",
       "      <td>0.23</td>\n",
       "      <td>-80.127198</td>\n",
       "      <td>40.246853</td>\n",
       "      <td>2015</td>\n",
       "      <td>9</td>\n",
       "      <td>8</td>\n",
       "      <td>1</td>\n",
       "      <td>17</td>\n",
       "      <td>-1.469676</td>\n",
       "    </tr>\n",
       "    <tr>\n",
       "      <th>294327</th>\n",
       "      <td>9986135779184360</td>\n",
       "      <td>2015-09-30 21:35:08</td>\n",
       "      <td>0.62</td>\n",
       "      <td>-80.242022</td>\n",
       "      <td>40.198003</td>\n",
       "      <td>2015</td>\n",
       "      <td>9</td>\n",
       "      <td>30</td>\n",
       "      <td>2</td>\n",
       "      <td>21</td>\n",
       "      <td>-0.478036</td>\n",
       "    </tr>\n",
       "    <tr>\n",
       "      <th>294329</th>\n",
       "      <td>9986135779184360</td>\n",
       "      <td>2015-10-02 22:45:54</td>\n",
       "      <td>0.36</td>\n",
       "      <td>-80.189919</td>\n",
       "      <td>40.193945</td>\n",
       "      <td>2015</td>\n",
       "      <td>10</td>\n",
       "      <td>2</td>\n",
       "      <td>4</td>\n",
       "      <td>22</td>\n",
       "      <td>-1.021651</td>\n",
       "    </tr>\n",
       "    <tr>\n",
       "      <th>294417</th>\n",
       "      <td>9986135779184360</td>\n",
       "      <td>2015-10-23 21:54:47</td>\n",
       "      <td>0.16</td>\n",
       "      <td>-80.145021</td>\n",
       "      <td>40.240367</td>\n",
       "      <td>2015</td>\n",
       "      <td>10</td>\n",
       "      <td>23</td>\n",
       "      <td>4</td>\n",
       "      <td>21</td>\n",
       "      <td>-1.832581</td>\n",
       "    </tr>\n",
       "    <tr>\n",
       "      <th>294424</th>\n",
       "      <td>9986135779184360</td>\n",
       "      <td>2015-09-11 22:56:40</td>\n",
       "      <td>0.04</td>\n",
       "      <td>-80.248354</td>\n",
       "      <td>40.305267</td>\n",
       "      <td>2015</td>\n",
       "      <td>9</td>\n",
       "      <td>11</td>\n",
       "      <td>4</td>\n",
       "      <td>22</td>\n",
       "      <td>-3.218876</td>\n",
       "    </tr>\n",
       "    <tr>\n",
       "      <th>294432</th>\n",
       "      <td>9986135779184360</td>\n",
       "      <td>2015-10-05 19:53:05</td>\n",
       "      <td>0.15</td>\n",
       "      <td>-80.168970</td>\n",
       "      <td>40.270974</td>\n",
       "      <td>2015</td>\n",
       "      <td>10</td>\n",
       "      <td>5</td>\n",
       "      <td>0</td>\n",
       "      <td>19</td>\n",
       "      <td>-1.897120</td>\n",
       "    </tr>\n",
       "  </tbody>\n",
       "</table>\n",
       "<p>2778 rows × 11 columns</p>\n",
       "</div>"
      ],
      "text/plain": [
       "             credit_card                date  transaction_dollar_amount  \\\n",
       "26      1003715054175576 2015-09-18 18:04:16                       0.88   \n",
       "188     1003715054175576 2015-10-16 16:29:54                       0.77   \n",
       "257     1003715054175576 2015-10-07 01:16:12                       0.97   \n",
       "456     1013870087888817 2015-09-10 18:24:17                       0.81   \n",
       "528     1013870087888817 2015-10-23 18:06:25                       0.01   \n",
       "555     1013870087888817 2015-08-27 20:49:53                       0.70   \n",
       "602     1023820165155391 2015-08-14 20:03:29                       0.36   \n",
       "663     1023820165155391 2015-08-29 21:19:05                       0.46   \n",
       "879     1023820165155391 2015-10-09 23:21:22                       0.91   \n",
       "1044    1023820165155391 2015-09-21 20:29:01                       0.92   \n",
       "1199    1087468642191606 2015-09-27 21:03:42                       0.99   \n",
       "1459    1089479586475600 2015-10-18 01:03:01                       0.94   \n",
       "1464    1089479586475600 2015-10-14 21:23:31                       0.21   \n",
       "1563    1089479586475600 2015-08-07 21:31:23                       0.97   \n",
       "1580    1089479586475600 2015-08-19 19:13:00                       0.09   \n",
       "1634    1089479586475600 2015-10-02 20:26:54                       0.47   \n",
       "1689    1089479586475600 2015-09-03 03:25:47                       0.78   \n",
       "1780    1101164752077181 2015-10-02 14:25:43                       0.18   \n",
       "1877    1101164752077181 2015-10-03 21:37:07                       0.33   \n",
       "1907    1106824181265726 2015-09-24 19:04:04                       0.99   \n",
       "1966    1106824181265726 2015-09-25 23:34:41                       0.87   \n",
       "2192    1107936587129946 2015-09-12 22:29:54                       0.38   \n",
       "2235    1107936587129946 2015-08-04 22:38:31                       0.98   \n",
       "2585    1126571863414211 2015-09-30 23:22:35                       0.03   \n",
       "2802    1126571863414211 2015-10-03 21:30:15                       0.98   \n",
       "2850    1126571863414211 2015-10-04 22:24:16                       0.15   \n",
       "2854    1126571863414211 2015-10-09 00:43:09                       0.64   \n",
       "2871    1126571863414211 2015-10-03 22:19:55                       0.68   \n",
       "2950    1126571863414211 2015-08-30 21:32:32                       0.32   \n",
       "3383    1128536627506856 2015-10-01 18:19:23                       0.35   \n",
       "...                  ...                 ...                        ...   \n",
       "291985  9855217884613002 2015-09-12 21:23:18                       0.69   \n",
       "291992  9855217884613002 2015-09-25 21:02:51                       0.30   \n",
       "292055  9855217884613002 2015-08-08 22:46:05                       0.07   \n",
       "292151  9855217884613002 2015-09-12 18:36:25                       0.73   \n",
       "292256  9855217884613002 2015-10-13 01:29:37                       0.97   \n",
       "292380  9867492085978660 2015-08-20 18:31:38                       0.65   \n",
       "292413  9867492085978660 2015-10-02 19:45:57                       0.70   \n",
       "292666  9938969980242308 2015-08-30 00:28:58                       0.28   \n",
       "292779  9938969980242308 2015-10-09 02:26:44                       0.82   \n",
       "292820  9938969980242308 2015-08-20 20:58:45                       0.80   \n",
       "292860  9938969980242308 2015-09-18 22:16:15                       0.94   \n",
       "292873  9938969980242308 2015-09-09 23:08:38                       0.98   \n",
       "292890  9938969980242308 2015-10-15 15:47:14                       0.45   \n",
       "292985  9938969980242308 2015-08-11 19:06:41                       0.12   \n",
       "293090  9946917923319410 2015-10-22 21:45:43                       0.86   \n",
       "293122  9946917923319410 2015-10-18 12:52:01                       0.57   \n",
       "293221  9946917923319410 2015-09-05 00:22:34                       0.01   \n",
       "293240  9946917923319410 2015-10-06 19:22:39                       0.20   \n",
       "293298  9946917923319410 2015-09-26 23:08:10                       0.23   \n",
       "293974  9986135779184360 2015-10-19 19:18:43                       0.92   \n",
       "294145  9986135779184360 2015-10-02 23:00:54                       0.32   \n",
       "294226  9986135779184360 2015-08-12 20:25:56                       0.47   \n",
       "294255  9986135779184360 2015-08-01 01:24:07                       0.50   \n",
       "294259  9986135779184360 2015-08-08 20:17:36                       0.48   \n",
       "294290  9986135779184360 2015-09-08 17:58:01                       0.23   \n",
       "294327  9986135779184360 2015-09-30 21:35:08                       0.62   \n",
       "294329  9986135779184360 2015-10-02 22:45:54                       0.36   \n",
       "294417  9986135779184360 2015-10-23 21:54:47                       0.16   \n",
       "294424  9986135779184360 2015-09-11 22:56:40                       0.04   \n",
       "294432  9986135779184360 2015-10-05 19:53:05                       0.15   \n",
       "\n",
       "              Long        Lat  year  month  day  weekday  hour  \\\n",
       "26      -80.132926  40.204183  2015      9   18        4    18   \n",
       "188     -80.178290  40.278221  2015     10   16        4    16   \n",
       "257     -80.196676  40.225513  2015     10    7        2     1   \n",
       "456     -72.077798  43.204047  2015      9   10        3    18   \n",
       "528     -72.137193  43.107800  2015     10   23        4    18   \n",
       "555     -72.072509  43.213273  2015      8   27        3    20   \n",
       "602     -73.211750  44.363776  2015      8   14        4    20   \n",
       "663     -73.230690  44.225010  2015      8   29        5    21   \n",
       "879     -73.189415  44.368470  2015     10    9        4    23   \n",
       "1044    -73.220427  44.297414  2015      9   21        0    20   \n",
       "1199   -121.851455  47.387278  2015      9   27        6    21   \n",
       "1459    -78.856930  42.829051  2015     10   18        6     1   \n",
       "1464    -78.955797  42.898858  2015     10   14        2    21   \n",
       "1563    -78.912242  42.845405  2015      8    7        4    21   \n",
       "1580    -78.957258  42.882774  2015      8   19        2    19   \n",
       "1634    -78.953064  42.871106  2015     10    2        4    20   \n",
       "1689    -78.950108  42.936986  2015      9    3        3     3   \n",
       "1780    -72.151712  43.128592  2015     10    2        4    14   \n",
       "1877    -72.179402  43.200439  2015     10    3        5    21   \n",
       "1907    -72.084296  43.180374  2015      9   24        3    19   \n",
       "1966    129.792947 -12.600858  2015      9   25        4    23   \n",
       "2192    -73.959524  40.724681  2015      9   12        5    22   \n",
       "2235    -74.023140  40.735563  2015      8    4        1    22   \n",
       "2585    -80.296472  40.225884  2015      9   30        2    23   \n",
       "2802    -80.276133  40.296067  2015     10    3        5    21   \n",
       "2850    -80.202835  40.228024  2015     10    4        6    22   \n",
       "2854    -80.175571  40.239486  2015     10    9        4     0   \n",
       "2871    -80.206695  40.281770  2015     10    3        5    22   \n",
       "2950    -80.284168  40.290711  2015      8   30        6    21   \n",
       "3383    -88.992046  40.762759  2015     10    1        3    18   \n",
       "...            ...        ...   ...    ...  ...      ...   ...   \n",
       "291985  -74.085007  40.557131  2015      9   12        5    21   \n",
       "291992  -74.096535  40.691077  2015      9   25        4    21   \n",
       "292055  -74.048326  40.561015  2015      8    8        5    22   \n",
       "292151  -74.142745  40.595797  2015      9   12        5    18   \n",
       "292256  -74.080703  40.551163  2015     10   13        1     1   \n",
       "292380  -72.064040  43.191226  2015      8   20        3    18   \n",
       "292413  -72.085319  43.171985  2015     10    2        4    19   \n",
       "292666  -72.090440  43.142874  2015      8   30        6     0   \n",
       "292779  -72.035327  43.141983  2015     10    9        4     2   \n",
       "292820  -72.092244  43.151419  2015      8   20        3    20   \n",
       "292860  -72.040771  43.222945  2015      9   18        4    22   \n",
       "292873  -72.170600  43.194581  2015      9    9        2    23   \n",
       "292890  -72.116888  43.241846  2015     10   15        3    15   \n",
       "292985  105.211221  36.344079  2015      8   11        1    19   \n",
       "293090  -72.167682  43.177869  2015     10   22        3    21   \n",
       "293122  -72.144251  43.101914  2015     10   18        6    12   \n",
       "293221  -72.170117  43.126772  2015      9    5        5     0   \n",
       "293240  -72.073413  43.240870  2015     10    6        1    19   \n",
       "293298  -72.172835  43.203792  2015      9   26        5    23   \n",
       "293974  -80.238392  40.220296  2015     10   19        0    19   \n",
       "294145  -80.241106  40.216705  2015     10    2        4    23   \n",
       "294226  -80.291675  40.244465  2015      8   12        2    20   \n",
       "294255  -80.224019  40.260920  2015      8    1        5     1   \n",
       "294259  -80.149108  40.265238  2015      8    8        5    20   \n",
       "294290  -80.127198  40.246853  2015      9    8        1    17   \n",
       "294327  -80.242022  40.198003  2015      9   30        2    21   \n",
       "294329  -80.189919  40.193945  2015     10    2        4    22   \n",
       "294417  -80.145021  40.240367  2015     10   23        4    21   \n",
       "294424  -80.248354  40.305267  2015      9   11        4    22   \n",
       "294432  -80.168970  40.270974  2015     10    5        0    19   \n",
       "\n",
       "        log_dollar_amount  \n",
       "26              -0.127833  \n",
       "188             -0.261365  \n",
       "257             -0.030459  \n",
       "456             -0.210721  \n",
       "528             -4.605170  \n",
       "555             -0.356675  \n",
       "602             -1.021651  \n",
       "663             -0.776529  \n",
       "879             -0.094311  \n",
       "1044            -0.083382  \n",
       "1199            -0.010050  \n",
       "1459            -0.061875  \n",
       "1464            -1.560648  \n",
       "1563            -0.030459  \n",
       "1580            -2.407946  \n",
       "1634            -0.755023  \n",
       "1689            -0.248461  \n",
       "1780            -1.714798  \n",
       "1877            -1.108663  \n",
       "1907            -0.010050  \n",
       "1966            -0.139262  \n",
       "2192            -0.967584  \n",
       "2235            -0.020203  \n",
       "2585            -3.506558  \n",
       "2802            -0.020203  \n",
       "2850            -1.897120  \n",
       "2854            -0.446287  \n",
       "2871            -0.385662  \n",
       "2950            -1.139434  \n",
       "3383            -1.049822  \n",
       "...                   ...  \n",
       "291985          -0.371064  \n",
       "291992          -1.203973  \n",
       "292055          -2.659260  \n",
       "292151          -0.314711  \n",
       "292256          -0.030459  \n",
       "292380          -0.430783  \n",
       "292413          -0.356675  \n",
       "292666          -1.272966  \n",
       "292779          -0.198451  \n",
       "292820          -0.223144  \n",
       "292860          -0.061875  \n",
       "292873          -0.020203  \n",
       "292890          -0.798508  \n",
       "292985          -2.120264  \n",
       "293090          -0.150823  \n",
       "293122          -0.562119  \n",
       "293221          -4.605170  \n",
       "293240          -1.609438  \n",
       "293298          -1.469676  \n",
       "293974          -0.083382  \n",
       "294145          -1.139434  \n",
       "294226          -0.755023  \n",
       "294255          -0.693147  \n",
       "294259          -0.733969  \n",
       "294290          -1.469676  \n",
       "294327          -0.478036  \n",
       "294329          -1.021651  \n",
       "294417          -1.832581  \n",
       "294424          -3.218876  \n",
       "294432          -1.897120  \n",
       "\n",
       "[2778 rows x 11 columns]"
      ]
     },
     "execution_count": 58,
     "metadata": {},
     "output_type": "execute_result"
    }
   ],
   "source": [
    "transactions[transactions['log_dollar_amount']<=0]"
   ]
  },
  {
   "cell_type": "code",
   "execution_count": 60,
   "metadata": {
    "collapsed": false
   },
   "outputs": [
    {
     "name": "stderr",
     "output_type": "stream",
     "text": [
      "/usr/local/lib/python2.7/site-packages/ipykernel/__main__.py:1: RuntimeWarning: invalid value encountered in log\n",
      "  if __name__ == '__main__':\n",
      "/usr/local/lib/python2.7/site-packages/ipykernel/__main__.py:2: RuntimeWarning: invalid value encountered in log\n",
      "  from ipykernel import kernelapp as app\n"
=======
   "execution_count": 49,
   "metadata": {},
   "outputs": [
    {
     "name": "stdout",
     "output_type": "stream",
     "text": [
      "86.0080361726\n",
      "58.47\n"
>>>>>>> d5d7958dece8c5d0aa8a71482da454a4385eab5c
     ]
    }
   ],
   "source": [
<<<<<<< HEAD
    "transactions['log_Lat'] = np.log(transactions['Lat'])\n",
    "transactions['log_Long'] = np.log(transactions['Long'])"
   ]
  },
  {
   "cell_type": "code",
   "execution_count": 61,
   "metadata": {
    "collapsed": false
   },
   "outputs": [
    {
     "data": {
      "text/plain": [
       "array([[<matplotlib.axes._subplots.AxesSubplot object at 0x116523710>,\n",
       "        <matplotlib.axes._subplots.AxesSubplot object at 0x1085daad0>],\n",
       "       [<matplotlib.axes._subplots.AxesSubplot object at 0x10860c8d0>,\n",
       "        <matplotlib.axes._subplots.AxesSubplot object at 0x108630a50>],\n",
       "       [<matplotlib.axes._subplots.AxesSubplot object at 0x10869c5d0>,\n",
       "        <matplotlib.axes._subplots.AxesSubplot object at 0x10d935b50>],\n",
       "       [<matplotlib.axes._subplots.AxesSubplot object at 0x108602390>,\n",
       "        <matplotlib.axes._subplots.AxesSubplot object at 0x11212b710>]], dtype=object)"
      ]
     },
     "execution_count": 61,
     "metadata": {},
     "output_type": "execute_result"
    },
    {
     "data": {
      "image/png": "iVBORw0KGgoAAAANSUhEUgAAA44AAASMCAYAAADHmNMRAAAABHNCSVQICAgIfAhkiAAAAAlwSFlz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\nAMAUwREAAAAAYIrgCAAAAAAw9f8BZQY8Tsz53LYAAAAASUVORK5CYII=\n",
      "text/plain": [
       "<matplotlib.figure.Figure at 0x116512cd0>"
      ]
     },
     "metadata": {},
     "output_type": "display_data"
    }
   ],
   "source": [
    "features = ['transaction_dollar_amount','Long','Lat','weekday','hour', 'log_Long','log_Lat']\n",
    "transactions[features].hist(stacked=False, bins=100, figsize=(15,20), layout=(4,2))"
   ]
  },
  {
   "cell_type": "code",
   "execution_count": 63,
   "metadata": {
    "collapsed": false
   },
   "outputs": [],
   "source": [
    "mean_lat = np.mean(transactions['Lat'])\n",
    "mean_long = np.mean(transactions['Long'])"
   ]
  },
  {
   "cell_type": "code",
   "execution_count": 66,
   "metadata": {
    "collapsed": true
   },
   "outputs": [],
   "source": [
    "transactions['distance_from_center_Lat'] = np.log(np.fabs(transactions['Lat'] - mean_lat))\n",
    "transactions['distance_from_center_Long'] = np.log(np.fabs(transactions['Long'] - mean_long))"
   ]
  },
  {
   "cell_type": "code",
   "execution_count": 68,
   "metadata": {
    "collapsed": false
   },
   "outputs": [
    {
     "data": {
      "text/plain": [
       "array([[<matplotlib.axes._subplots.AxesSubplot object at 0x11bd40cd0>,\n",
       "        <matplotlib.axes._subplots.AxesSubplot object at 0x11c5b67d0>],\n",
       "       [<matplotlib.axes._subplots.AxesSubplot object at 0x11cf2e3d0>,\n",
       "        <matplotlib.axes._subplots.AxesSubplot object at 0x11d375090>],\n",
       "       [<matplotlib.axes._subplots.AxesSubplot object at 0x11d3ec650>,\n",
       "        <matplotlib.axes._subplots.AxesSubplot object at 0x11c89fc10>],\n",
       "       [<matplotlib.axes._subplots.AxesSubplot object at 0x11d4bced0>,\n",
       "        <matplotlib.axes._subplots.AxesSubplot object at 0x11d539e50>]], dtype=object)"
      ]
     },
     "execution_count": 68,
     "metadata": {},
     "output_type": "execute_result"
    },
    {
     "data": {
      "image/png": "iVBORw0KGgoAAAANSUhEUgAAA4sAAASMCAYAAAAhsRhVAAAABHNCSVQICAgIfAhkiAAAAAlwSFlz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\n",
      "text/plain": [
       "<matplotlib.figure.Figure at 0x11bd007d0>"
      ]
     },
     "metadata": {},
     "output_type": "display_data"
    }
   ],
   "source": [
    "features = ['log_dollar_amount','Long','Lat','weekday','hour','distance_from_center_Lat','distance_from_center_Long']\n",
    "transactions[features].hist(stacked=False, bins=100, figsize=(15,20), layout=(4,2))"
   ]
  },
  {
   "cell_type": "code",
   "execution_count": 70,
   "metadata": {
    "collapsed": false
   },
   "outputs": [
    {
     "data": {
      "text/html": [
       "<div>\n",
       "<table border=\"1\" class=\"dataframe\">\n",
       "  <thead>\n",
       "    <tr style=\"text-align: right;\">\n",
       "      <th></th>\n",
       "      <th>log_dollar_amount</th>\n",
       "      <th>distance_from_center_Lat</th>\n",
       "      <th>distance_from_center_Long</th>\n",
       "    </tr>\n",
       "  </thead>\n",
       "  <tbody>\n",
       "    <tr>\n",
       "      <th>count</th>\n",
       "      <td>294588.000000</td>\n",
       "      <td>294588.000000</td>\n",
       "      <td>294588.000000</td>\n",
       "    </tr>\n",
       "    <tr>\n",
       "      <th>mean</th>\n",
       "      <td>3.959254</td>\n",
       "      <td>0.405573</td>\n",
       "      <td>1.436606</td>\n",
       "    </tr>\n",
       "    <tr>\n",
       "      <th>std</th>\n",
       "      <td>1.046308</td>\n",
       "      <td>1.090097</td>\n",
       "      <td>1.104434</td>\n",
       "    </tr>\n",
       "    <tr>\n",
       "      <th>min</th>\n",
       "      <td>-4.605170</td>\n",
       "      <td>-9.289617</td>\n",
       "      <td>-9.965524</td>\n",
       "    </tr>\n",
       "    <tr>\n",
       "      <th>25%</th>\n",
       "      <td>3.400197</td>\n",
       "      <td>-0.324046</td>\n",
       "      <td>1.351854</td>\n",
       "    </tr>\n",
       "    <tr>\n",
       "      <th>50%</th>\n",
       "      <td>4.068514</td>\n",
       "      <td>0.785421</td>\n",
       "      <td>1.417926</td>\n",
       "    </tr>\n",
       "    <tr>\n",
       "      <th>75%</th>\n",
       "      <td>4.609162</td>\n",
       "      <td>0.828401</td>\n",
       "      <td>1.633623</td>\n",
       "    </tr>\n",
       "    <tr>\n",
       "      <th>max</th>\n",
       "      <td>6.907725</td>\n",
       "      <td>4.691203</td>\n",
       "      <td>5.545774</td>\n",
       "    </tr>\n",
       "  </tbody>\n",
       "</table>\n",
       "</div>"
      ],
      "text/plain": [
       "       log_dollar_amount  distance_from_center_Lat  distance_from_center_Long\n",
       "count      294588.000000             294588.000000              294588.000000\n",
       "mean            3.959254                  0.405573                   1.436606\n",
       "std             1.046308                  1.090097                   1.104434\n",
       "min            -4.605170                 -9.289617                  -9.965524\n",
       "25%             3.400197                 -0.324046                   1.351854\n",
       "50%             4.068514                  0.785421                   1.417926\n",
       "75%             4.609162                  0.828401                   1.633623\n",
       "max             6.907725                  4.691203                   5.545774"
      ]
     },
     "execution_count": 70,
     "metadata": {},
     "output_type": "execute_result"
    }
   ],
   "source": [
    "transactions[['log_dollar_amount','distance_from_center_Lat','distance_from_center_Long']].describe()"
   ]
  },
  {
   "cell_type": "code",
   "execution_count": 79,
   "metadata": {
    "collapsed": false
   },
   "outputs": [
    {
     "data": {
      "text/plain": [
       "((226, 15), (294588, 15))"
      ]
     },
     "execution_count": 79,
     "metadata": {},
     "output_type": "execute_result"
    }
   ],
   "source": [
    "transactions[transactions['log_dollar_amount'] > 6.9].shape, transactions.shape"
=======
    "print transactions['transaction_dollar_amount'].mean()\n",
    "print transactions['transaction_dollar_amount'].median()"
>>>>>>> d5d7958dece8c5d0aa8a71482da454a4385eab5c
   ]
  },
  {
   "cell_type": "code",
<<<<<<< HEAD
   "execution_count": 80,
   "metadata": {
    "collapsed": false
   },
   "outputs": [
    {
     "data": {
      "text/html": [
       "<div>\n",
       "<table border=\"1\" class=\"dataframe\">\n",
       "  <thead>\n",
       "    <tr style=\"text-align: right;\">\n",
       "      <th></th>\n",
       "      <th>credit_card</th>\n",
       "      <th>date</th>\n",
       "      <th>transaction_dollar_amount</th>\n",
       "      <th>Long</th>\n",
       "      <th>Lat</th>\n",
       "      <th>year</th>\n",
       "      <th>month</th>\n",
       "      <th>day</th>\n",
       "      <th>weekday</th>\n",
       "      <th>hour</th>\n",
       "      <th>log_dollar_amount</th>\n",
       "      <th>log_Lat</th>\n",
       "      <th>log_Long</th>\n",
       "      <th>distance_from_center_Lat</th>\n",
       "      <th>distance_from_center_Long</th>\n",
       "    </tr>\n",
       "  </thead>\n",
       "  <tbody>\n",
       "    <tr>\n",
       "      <th>84</th>\n",
       "      <td>1003715054175576</td>\n",
       "      <td>2015-09-11 19:50:02</td>\n",
       "      <td>995.35</td>\n",
       "      <td>-80.126760</td>\n",
       "      <td>40.225626</td>\n",
       "      <td>2015</td>\n",
       "      <td>9</td>\n",
       "      <td>11</td>\n",
       "      <td>4</td>\n",
       "      <td>19</td>\n",
       "      <td>6.903094</td>\n",
       "      <td>3.694504</td>\n",
       "      <td>NaN</td>\n",
       "      <td>-0.339618</td>\n",
       "      <td>1.358800</td>\n",
       "    </tr>\n",
       "    <tr>\n",
       "      <th>2591</th>\n",
       "      <td>1126571863414211</td>\n",
       "      <td>2015-09-11 01:33:04</td>\n",
       "      <td>996.17</td>\n",
       "      <td>-80.168257</td>\n",
       "      <td>40.313138</td>\n",
       "      <td>2015</td>\n",
       "      <td>9</td>\n",
       "      <td>11</td>\n",
       "      <td>4</td>\n",
       "      <td>1</td>\n",
       "      <td>6.903918</td>\n",
       "      <td>3.696677</td>\n",
       "      <td>NaN</td>\n",
       "      <td>-0.470755</td>\n",
       "      <td>1.369407</td>\n",
       "    </tr>\n",
       "    <tr>\n",
       "      <th>3487</th>\n",
       "      <td>1128536627506856</td>\n",
       "      <td>2015-10-10 22:27:17</td>\n",
       "      <td>992.34</td>\n",
       "      <td>-89.050078</td>\n",
       "      <td>40.761166</td>\n",
       "      <td>2015</td>\n",
       "      <td>10</td>\n",
       "      <td>10</td>\n",
       "      <td>5</td>\n",
       "      <td>22</td>\n",
       "      <td>6.900066</td>\n",
       "      <td>3.707730</td>\n",
       "      <td>NaN</td>\n",
       "      <td>-1.734421</td>\n",
       "      <td>2.550604</td>\n",
       "    </tr>\n",
       "    <tr>\n",
       "      <th>6723</th>\n",
       "      <td>1175962294549313</td>\n",
       "      <td>2015-10-29 15:40:34</td>\n",
       "      <td>992.71</td>\n",
       "      <td>-71.112703</td>\n",
       "      <td>42.466777</td>\n",
       "      <td>2015</td>\n",
       "      <td>10</td>\n",
       "      <td>29</td>\n",
       "      <td>3</td>\n",
       "      <td>15</td>\n",
       "      <td>6.900439</td>\n",
       "      <td>3.748722</td>\n",
       "      <td>NaN</td>\n",
       "      <td>0.424685</td>\n",
       "      <td>1.633649</td>\n",
       "    </tr>\n",
       "    <tr>\n",
       "      <th>7865</th>\n",
       "      <td>1210872963953886</td>\n",
       "      <td>2015-09-29 04:28:42</td>\n",
       "      <td>995.86</td>\n",
       "      <td>-74.757468</td>\n",
       "      <td>40.058325</td>\n",
       "      <td>2015</td>\n",
       "      <td>9</td>\n",
       "      <td>29</td>\n",
       "      <td>1</td>\n",
       "      <td>4</td>\n",
       "      <td>6.903607</td>\n",
       "      <td>3.690337</td>\n",
       "      <td>NaN</td>\n",
       "      <td>-0.128579</td>\n",
       "      <td>0.390534</td>\n",
       "    </tr>\n",
       "  </tbody>\n",
       "</table>\n",
       "</div>"
      ],
      "text/plain": [
       "           credit_card                date  transaction_dollar_amount  \\\n",
       "84    1003715054175576 2015-09-11 19:50:02                     995.35   \n",
       "2591  1126571863414211 2015-09-11 01:33:04                     996.17   \n",
       "3487  1128536627506856 2015-10-10 22:27:17                     992.34   \n",
       "6723  1175962294549313 2015-10-29 15:40:34                     992.71   \n",
       "7865  1210872963953886 2015-09-29 04:28:42                     995.86   \n",
       "\n",
       "           Long        Lat  year  month  day  weekday  hour  \\\n",
       "84   -80.126760  40.225626  2015      9   11        4    19   \n",
       "2591 -80.168257  40.313138  2015      9   11        4     1   \n",
       "3487 -89.050078  40.761166  2015     10   10        5    22   \n",
       "6723 -71.112703  42.466777  2015     10   29        3    15   \n",
       "7865 -74.757468  40.058325  2015      9   29        1     4   \n",
       "\n",
       "      log_dollar_amount   log_Lat  log_Long  distance_from_center_Lat  \\\n",
       "84             6.903094  3.694504       NaN                 -0.339618   \n",
       "2591           6.903918  3.696677       NaN                 -0.470755   \n",
       "3487           6.900066  3.707730       NaN                 -1.734421   \n",
       "6723           6.900439  3.748722       NaN                  0.424685   \n",
       "7865           6.903607  3.690337       NaN                 -0.128579   \n",
       "\n",
       "      distance_from_center_Long  \n",
       "84                     1.358800  \n",
       "2591                   1.369407  \n",
       "3487                   2.550604  \n",
       "6723                   1.633649  \n",
       "7865                   0.390534  "
      ]
     },
     "execution_count": 80,
     "metadata": {},
     "output_type": "execute_result"
    }
   ],
   "source": [
    "transactions[transactions['log_dollar_amount'] > 6.9].head()"
   ]
  },
  {
   "cell_type": "code",
   "execution_count": 81,
   "metadata": {
    "collapsed": false
   },
   "outputs": [
    {
     "data": {
      "text/plain": [
       "(193, 984)"
      ]
     },
     "execution_count": 81,
     "metadata": {},
     "output_type": "execute_result"
    }
   ],
   "source": [
    "len(transactions[transactions['log_dollar_amount'] > 6.9].credit_card.unique()), len(transactions.credit_card.unique())"
   ]
  },
  {
   "cell_type": "code",
   "execution_count": 84,
   "metadata": {
    "collapsed": false
   },
   "outputs": [
    {
     "data": {
      "text/plain": [
       "[<matplotlib.lines.Line2D at 0x11ec77350>]"
      ]
     },
     "execution_count": 84,
=======
   "execution_count": 45,
   "metadata": {},
   "outputs": [
    {
     "data": {
      "text/plain": [
       "<matplotlib.text.Text at 0x7f22c50f9510>"
      ]
     },
     "execution_count": 45,
>>>>>>> d5d7958dece8c5d0aa8a71482da454a4385eab5c
     "metadata": {},
     "output_type": "execute_result"
    },
    {
     "data": {
<<<<<<< HEAD
      "image/png": "iVBORw0KGgoAAAANSUhEUgAAAX0AAAEECAYAAADEVORYAAAABHNCSVQICAgIfAhkiAAAAAlwSFlz\nAAALEgAACxIB0t1+/AAAIABJREFUeJzsvXt8VNW5///ec00mM5MrRAjxAiKaKEXkdrSiVjhaW7VK\nD+opmJZ6IRQP31YU/WF6i1gRkEPlCFaLUmk90C/WwjnaCn5BqG0EFRQTRdGCIVyTkExmJnPfvz92\n9syeyUwySWZyY71fr7ySvWfvtZ/ZmfmsZz/rWc+SZFmWEQgEAsFZga6vDRAIBAJB7yFEXyAQCM4i\nhOgLBALBWYQQfYFAIDiLEKIvEAgEZxFC9AUCgeAswpDuC7jdbtauXUttbS2SJFFeXs7o0aPTfVmB\nQCAQxCHtnv6LL77I5ZdfzsqVK1m2bBlFRUUdHl9dXZ1uk1KCsDO1CDtTy0CwcyDYCIPPzrSKvtvt\n5tNPP+W6664DQK/XY7FYOjxnsN3gvkbYmVqEnaljINgIg8/OtIZ3Tp06hc1m49lnn+XIkSOMHDmS\nH/zgB5hMpnReViAQCAQJSKunHwqF+Oc//8kNN9zA0qVLMZvNvPbaa+m8pEAgEAg6QEpn7Z2mpiYe\ne+wxVq9eDcCnn37Ka6+9xiOPPBI+prq6OuqxZObMmekyRyAQCAY1mzZtCv9dWlpKaWlpu2PSGt7J\nyckhPz+fY8eOMXz4cA4cOMCIESOijoln2LFjx9JpVkqw2Wy0tLT0tRmdIuxMLcLO1DEQbISBY+fw\n4cOTcprTnrL5gx/8gGeeeYZAIEBhYSHz5s1L9yUFAoFAkIC0hne6i/D0U4ewM7X0Nzu3bzczcaKP\n7OzI17i5WeJ3v8vl7rvPkJ0ts327GZdLYvx4HwcPGpk2zUtzs8Tbb5uxWGSmTfN22uaWLRnIMtx6\nqyfqOnv3mhKev3evKfy7vl7HoUN6LrwwGP79+eeZjB7dSmamzMcfG/F4ZD74wMSMGR7OPTfImDF+\nfve7LE6flvnnP03k5oa45hofdXV6ioqCvPSShWuvbeX0aSP5+QFqaw2MHetn3bosHnzQyeTJXl59\nNRNJkjh9Gj7/3Mj997u55RYPzc0SCxdmk5cX5Mor/WRlybz7romdO81cdJEXWdbjcIDbDeeco2P3\nbgM/+IGLr77S0dSk59JLA+TnB3n7bTOzZrWG78Gf/5yBJMEtt3R+n1LN8OHDkzpOiH436W9f/kQI\nO1NLOuxMJNyqUHT0+sSJPpYutbNokYPsbJnmZomlS+1MmiTxt7/JVFQ4AKiosLNvn4lrr21FkiRO\nndJhtcLVV3txuyU8HomGBh0LFzqprdUxc2Y+997rYs4cN83NEnPn5mKxBLngghBTpvgYM8bPww/n\ncOutrdx5Zyv33pvDlVf6uP32Vp55xsru3WaGDfOzb5+Ziy/2UVNjQqeDpiaJc84J4XRK+Hw6QiEZ\no1FGp4NQSMLtBkmSGDYswMmTeiQJvF4dRmMIWYZgUMJqDeJy6TGZQng8emw2Px6PAb1exuvVYbMF\naG3V4/fD8OFBjEaZujoDmZkykyZ5eP99MyNGBKmt1ePx6BgxIsC55/r5xz8y8HiU3JbJk53s3ZtF\nKCQBYLUGcDqVwMg55wQoKAjy8ccmDAa45BIf5eVuxo/38ZOf5GAwwFNPNXHwoLHd/yedCNHvBp19\n+bSczSKVDt55J4dLL21O6t6nk84+A/HuZ1c+N/FQhXrRIgd795oYM8bPmjW28PZXX+nZti2DSy/1\nc/fdLv72NzOvvprJrFmK0Pzyl3YyM2X+5V98HDhgYvJkL1/7mpFHHzVSVBRkwgQf27aZ2L/fzLhx\nPt57z4zTKXHLLa2MHevnueeyqK/Xc8MNrUyY4Gft2iwkSebECQN5eUGsVplrr21l3To7OTlBzjkn\nwOefmygp8WE0SrjdMg0NBhoadOTnB3nuuTPcfXc+LS06DIYQgUAySYLqvZOS+TfFnBd7Tuw+dTuE\nkrCo/S1145rRGI0yer1MKATnnRekrMzFyy9bWb36DBs2ZPWK4EPyoi9q72hQe+XmZuVDoH4ZJ070\n9bFlg58pU4L94t535zMQ75wHHshlzBh/1HHNzRLbt5vD29u3m8OdQ3l5C0uX2rHbQ8yYUcCsWc5w\nWOTFF7PweOCvfzXz3e/ms3KllS++MGC3B7nhhiGYzTL79plYuDCX8nIno0f7ufNOCxUVzfh8Eg8+\nmMvf/57BsmVN/OUvFurr9eh0Mv/7v5msWGGloUGHXi/zxhsZ/PKXNlpaJM6c0ZOVFeLkSSNffGHk\nt7+1YzSGOHNGzyefKCGMjz828f77Rj791ERjo0QoBKdOGZg5UxF8gEBA3/ZuJc3veD+6BMd0dC5E\nJEwr3Draty1r9us7uGai68fbVvD7JTwePT6fhNkMW7ZkMnu2i+nThzJ2rC/8v+4vCE8/BvVLXl7u\nZM0aa8JeeqB40APJzqNHnUnd+67QHS+8o89A7P1U2wfC56xaZWXCBB8ffWRqF3axWEKUlbkoLg6x\nZUsGu3aZGTkywGuvZfL4483cdtsQfvQjB3/9aybf/76L6mojTqfEyZM6amv1HD9uRJJkFi9uYunS\nbAoKghgMYDJBfn6IpiYdXi/Mn+9n1y4lrPHBB2YuuMCP8k2XaWjQc955AT7+WBEiSQpht8s0NysC\nrdOFMJlkPB4lrOL364l44qAIntYzD6IIqUxEXJP13GPb7Q7xvH3t/ni/k71m7LmJr63TyYRCEgZD\nkPHj/RQXh8LXmjbNGxXnTwfC0+8m2dky5eVOpkwppLzc2SuPZQKFdNz7ZDx31ePW2jFrlispO9T2\ngbDtR47oueoqL4sWOVi61E5trZ7KSjtTpngpK3NRVpZPba2Oa67x4nTCM89Yyc8PUlaWx6WX+li/\nPovzzw/w2GM5zJnjwmSSCQQkjh83AiBJ8PjjueTmhto6AYlAAGy2EJ99ZuTUKT1DhwbZsSODDz4w\nU1AQoK5Ox/Hjeg4fNjFpkpcvvzSg0ynvS5Z1YcEHmVBIh8ejx2SS2wQfOvZ29SihEoj2vLUCm+ge\nxrbbHRKdGyvWiTz3nl5DIRQCUP9XeubOdQKwb58Jt7tnIaRUIkQ/huZmiTVrrFRVnWTNGmuUGAjS\nSzrufXa2HCW+8QbVYjuG2lod8+fnsm3bqU7tUNuvrLSzbJmNGTPcDBsW5OGHc3A4pHBH4PNJXH65\nkj2zfn0DZWX5fPqpgU8/VQZjd+3KxGaT+fhjE9nZSibJyy/XU16ei8slcfq08lWdNMkTHlxsaNBx\n6aU+9HqZxx9v5q23Mhk50ovHI/HDH2ZhtYbIzAxSX6/n/PP9FBYGGT/ey+efK52H0o6s+YnG59PK\nQ7xjtOdqQyVaYgW3t+nJ00NXj42EnEIhienTh+LzSZSW+jh0SJ/o5F5HiL4G7YBacXEwLBZC+NNP\nUxNpu/edPUFoO4aaGgNlZfmsX99ASUkgaTuOHDGwebOFhx5qobLSwZAhQe64I5//+I9sZsxwAzKr\nVtmYONFHcXGI737Xze23D+GnP22mtVX9Gip2+XwwfryP2bMLuPDCAH//uxlZhm99y8X775vIzAxh\nMgUJBnV8/LGJr3/dw/335zF1qptAQI8sSwQCEidOGNvalggE9Nx7r4vLL/dhNEa8X7NZGcyUJO09\nCUXZE/GWY+9BIkEfTE/HyXz+IsfodDJ5ef7w5+XAAaWDveyyQDqM6xZC9DXs3WuK8gJVMdi7VxSI\nSzdVVfq03ftkniDUjmH69KHMnu3Cbo+2Y+dOc8LBuJ07zQwbFmDGDDerVlkBmDvXSWurxJ49GXzv\ney60NQZra3Vs2mTh+utb+dGPcrHbg9x4o5uWFh0jR/q45BIf77+vnNDYqOPccwO0tOj4+GMjmZky\nBQUBsrJk7PYAIPPyy1mMG9fKiRNGQiEZgyGEwaDYbzLJLF7cTGmpj8OH9XzyiRGnU4fbreOyyzz4\n/RImUxBZ1nY8ieLf6utar1/S7CdmXzL01w6iO86GEtN3uXTYbMr78vuVAe/x4/tPMogQfQ3Tpnnj\neoG9mTJ4tnLjjcG03Hs1k6a8vCXqCaK2Vhcl4tqOobraSGVltHf/7rvmuBk8zc0S775rprLSQWVl\nMwAVFdn87GfZXH21l1dfPc3ttw9hzhwXFRUO3ngjg7KyfF5+uYGbbvKQmxvivfdMfPKJkc2b6ykt\nDbB/v5ns7BCTJnmpr5c4fNjAPfc4kWWJFSuaOHNGTyAgcc01PqZPdwM63n03kxMnJGQZ7HaZQECH\n0RjE55N49lmlI2pq0uFwKKGiq67ycPiwkQsu8LeFcWT0esXrz8wMEl/U4wm0uj82fi/HHEOCfd0l\ntq2utJ0qO9q/X0kCsxlcLuW++f0Sl17q54MP+o/jKERfMKjZu9fEkiVNrFljo7lZavPoW1i8OCcs\n4rFhPXVCU2Vl4nEAbfvqa9nZMgsWONm8WVkz4qGHWvjzny1s23aK738/j7o6HUeP6lm/voHi4hAW\ni8y997qorzdw9dVeSkqCXHONl4sv9mM2w9VXe/jySxPZ2SH+8Q8zv/3tGe6/P59RowK0tCgxYrtd\nYurUVoJBHQ6HAbdborFRz/nnB5BliaysEGfOKBk9tbV6/vlPA8uXN/HOOxmMHevnyBFj24CuRDCo\n4/zzvQQCOvR6iBZ+7U/sfYgX9pFitmM7hnihoa4IcGz7HdmTbDuJOrVE2+3foyzLOBwSF16opOtO\nnuzDZJKR+lGEWIi+YFAzbZqX4uJQ1GDumjU2nnnmTFjE44X1KiocXHGFr904wF/+om8XHnI4pHAG\n0Jo1ViormwBYtUqZYFVSEuCllxr4/vfzKSoKtqVHSrzyioV9+4xs23aK48cNNDdLZGXJfP/7blas\naGLFimzWrm0gGJTweGDtWis33+zG7dbx8sun2bvXxObNFrKzZUaN8mEyBTlzRk9GRpATJ3RcfLEP\nl0tPSYmPN9/M4vBhPaNG+Vm92saDDzbzzjsZbU8EynvLzQ1y+rQRg0EmGJTaOoNI2mG0V59I/BN5\n0YnSHrXhokTK2JHwqtuxYaZknko66rw66oBirxH93qzWEF6vjqqqk1it/S98JURfMCCJTbOE9pOf\ntHQ0mBsvrAdw4ICp3ThA7CSyMWP8lJXlM3x4oC1Pv4WdOzO46abonOyiohA//nELW7ZkUlGRTUWF\nnSFDggCsW5fFkiVNVFba2bXLTGOjjocfzuHll+uZOzefX/yiic8/N7J5swWTCcrKXPzHf+RRUKCU\nD9i1y8wPf+gkGFTE2ONRygt8/LGZ++5r5rPPlMHEpiYdtbUGvF7YuNFCRoYSxpFlieJiH7Is43Lp\naW3Vk50daEtBjHjtkhTSvKPOwjfxiBXVeOmUsW3FdgbxBD6e15+oU4o/warjzir22okGsNX7r+M7\n32nl4EEDFRUO+tuaUUL0Bb1CV0W6M7Rpltu3m6mt1UXl38e2vWVLBqtWRQ/mJrp+R1lcOTm0e2pY\nv76BJ5/MZvRopR7NI480s2NHBnPmOFm92sqLL1p44IFcJAmmT/ewebOF6moTc+e6AKirU2eIwhVX\n+HjlFQujRvl4/nkrixc3U1GRg9UaYvhwPy4XvPiiBb1exufTcc45QWbPdlJRkUtGhuKV63SKOFut\nIV56yYpeD3p9iMLCEF6vRGOjjqNHjXg8eoYNCxAIQGOjnqamyGBuc7OBWIGV5Xg5+7Fev1aQO4pp\nxIpnorBPR6GbzmImPcnDj9chdJSlFHkPNluQ3bsjkwIrKhxYLP3H4xczcrvJQJrp2h/s1Aqpdoaq\nut0dO9U2Zs1yMX9+bjhWHu9alZXKBCptvF7djvXyO5rFe9ttJlpaWqit1TNlSiHbtp2ipCQQ3r7x\nxlbcbomKimbKy/M477wA771n4qWXGtiwIYt9+0yUlirx3q1bLcyY4WbuXCVrqKrqJAcPGhg+PMC8\neXlcfLEPv19i924zWVkyK1Y0MXt2Afn5ASZO9JKVBbW1Bg4dMtDYqIjo+ef7OHzYTEZGCI8nIqyl\npV6qq9X9iriff76XY8eMjB7tpbo6k/izT0PEF2fiHNtZiCZRiCfRsZ21mSw9bSP5843GIJIksXFj\nPZMmRdI0e6OOlJiRK+hXJDNJqjttqmmWq1efYc0aW9y29+41UVHhoKJCub7DoXzsr77aGy49rH0K\nUb+Y2qcAbSaRGrt//PEmystzqanRs2aNlW3bTnHwoBI+WbvWRlZWiLfeymTp0iYefji3baKOn4YG\n5fojR/rx+WTWrcsKP4G4XBKHDhm5/34nIPGXv1jIzQ1hsYS4775cLr1UsdnjkWhqktizx0xjox61\n9MHhw2YKC/1twq68p7y8ICdP6rFag/j9SlilqEjpHCyWANXVGeh0Qc2d1QpubG2bWO8+kTgnCvl0\nLe89fkpoV4kX6klEvOOS7zD8fj0FBT4eeywn/Jnas8fAN79Z0G9m5QrRF/QaqSyzoIZ01DTLDRuy\nuPVWd4cxe+31FyxwhmvDd6XImnYS2e23t3LJJX5mzCjgO99xs25dFuPH+xg6NMTmzRY+/NDMVVd5\nmDs3n1tuaWXrVgt+PwQCipe/fHkTzc36tvCO0inu3m3mlVcsnHNOgN27lU5HluHwYROtrXqOH9dj\nMAT59FMjO3dmApCREUKvD6KK28mTamhGCfU0NiplGrxeiWBQj8USoq7OBIRoalIGbkOheDNqYz38\nrgh4bKfQU8Hr6vnd6Ww6Oi75TuPYMTMeT4iKCjtPP53FzJkF4Wye/oAQfUGv0dMyC1qPXB1AnTXL\nycGDBmbNcjJnTh6vvno6YduJrt+VpxDtJLLsbJlvftPDlVf6uO22IRw5Eqm3UlgY4PrrW/noIyOX\nXurl2WetTJ3ayv79JgoLg1RVneQ//9PGLbe08tRTTSxenMPbb5tZsKCFq6/28IMf5FNa6sNqDVJf\nr0OvD3HllW68XonaWiMnThgIBiUyM0Po9TLBYGxlSeW9hUKQmSnjdOooLAxSXOzD7VaLoylPB9Gl\njxPl1Hf0v0r0em96tt0V+XjnxiOZ9pR2dLoQX3xh5v/9PzMrVmTzL//iZehQmWuu6R/zfYToC3qF\nVJS40HrkBw8aWb26kfnz87DbQ8yfn8cf/1hPS4subtuJrr9lS4Ymf195Cpg1yxU1E1jb2aiTyNRB\n4Guv9ZKVpXzZ7fYQ99+fR0ODjg0bGsjJCZGTE+LwYQOtrTr27DEzbpwXqxWUEEuQ9983YbfLPPPM\nGXbtMrNsmZ0dOzKYOtXLO+9kkpkZwuvVM2SIUpf+61/30tqqDPzq9UEyM5WMGzXtsr1HruMb3/BQ\nWurj9Gk9p06pK6QmGjCN55knyrCJfb0v6YkNqbJf7Wh12O0BzpxR7vXRowYWLGjpN8UbhegLeoVU\nlLjQeuRjxgTYsEFZqOK224awevUZSkqC4VBObNuJri/LhGfoqnH5+fOja+EnCv+MGeOnstKOySRT\nVXUSt1tHQUGQYcOCfPihCZMJ7r/fyZgxyoBeaakfh0PPnDkuFi/OCY8z7N1riprYFQiAxSLzta95\nOX3ayOOPn+HECQOBgITbreTPjxzpJRjU09ioJycnSCgEJlOI3Fw1zAMgMWqUlz17zBQUyGRmKitL\nmUwhTa0dbbw7kSil24sebEg4HAZycpT/+4gRAVatsvWbGl5pF/1QKMSiRYtYunRpui8l6MekqsRF\nrEe+YUNWOKYfWx5Z23ai6996q4fy8pa2UJHS3vr1DeEZvOpgrtrZHDmiZAJNnuwNT62vqFCeHtau\nPcOoUUHGjfOzcGEuc+a4qK42cdFFAaqqTnLRRQHy80NMnz6UJUuawyEidc1atdOpr9ezdauFlhZl\nEtby5XbWrq3ns88M7NqVybPPNoRrtRuNIZqaJC67zENmpsyZMwYkSUaSlNeOHDFSWKgMKDudEgUF\nStkFqzXUlqevhIes1gDRsfvYJ4bYfbF/C7SYTCGuvtrHyy/XU1Vl5tQpiZ07+8dCKmkX/ddff52i\noqJ0X0ZwlqAVx/nz29fU6Y43pYSKzjB9+lDKy53hGbzaNWhBqZd/2WVWfD4pHNbRpnwq3royOauq\n6iSVlXZ8vkinsGBBC598YuTxx5uixhS0oadDhwyUlvo455wAF13k4/XXLfzxj/WsXm2nsDDI2LFe\nnngim3/8w8RzzzVwxx0uRo0K8vnnyhKIBkOI/Pwgixa1MmxYEJNJ5vBhPRkZIYYODVBfb6SgIIDL\nJTFrlpNRowJkZMg4nXqsVuXpRq3B0554A72JhD928lW8DqQrpKpjSVcHFZ3Lb7Mpxe6uuMLPxo31\n4XLW/YG0in5DQwP79u3j+uuvT+dlBBpSPQmqP6EVx2PH9FEeeU+qck6c6As/MahirHrgsfXy77hD\nqaUCkacH9Z4rHZJS4sFuD3Hppf7wbEz1tQ0bGtp1UmroCaCqysxNN3l57bV6LrhAmWRls8lcdpmf\nBx90Ul7uIjc3yA03eLn6aj9Ll7bw+983kJ0dIi8vyM9/7uB//qee+noDq1adoagoyJAhQX74QyfH\njpm44AI/I0cG+N3vGnjrLSWDyGqV+frXW5k61c+3vuVClpWwkNEYwmjUhouUziCS3hlK8LujUg2x\nHUF3O4BEYxixxyQqmaDdl+j4RE8zsU9D6nsKodMpobNzzlE60J07zYwZE+SRR1rCYz99TVonZz39\n9NPcfvvtuN1utm7dyqJFi5I6T0zO6j6xE5OCQRsVFbpeW5y5uyRzP3u6AHk8Ops0ph5TUZHN5s0W\nDhxwote3xD1n8mQv116r2KG+DoQ7os5sT/T+nn8+i3vvdSU8Vz1PfTJR/+8rV8rccYebv/3NzMqV\nSmf0xz9auOIKZQH18vIWfvUrO48+6oia1DZiRIDNmzMZPdrPe++ZOX7cgMkUxOfTc++9Dl54wYos\n6xg1ykcoBIcPGxk61M/Jk0ZihV5ZGF27gEhIc0yiUgixuf/xfsejswwj7XHqEo+JXk9kk9au2PPg\nnnscvPZaFiaTslD9lVdGL5uZTpKdnJU20f/ggw/Yt28fP/zhD6murmbr1q088sgjSZ0rRL9naNd4\nfeGFXH7yk4Z+LfjQd/czmY5EXct2wYLI/QSijkl2beV0ou2wRoywcvSok8pKO3V1ep56qilK2MvL\nWzh40BjVWWo7jzFj/Nx0UwGNjTogABhRBC5R6EfPlVe6yc+HHTvMtLZKXHSRj8OHjZpFYhQKCwNt\nHURHaaGx24rYT5jQynvvZSJJIQoKQjQ06NrmGMQS6VQyMoJ4vVLbGsHaJ5B4TySyJgVW207Em1dT\nXW22EC0tes47z09WVojc3BCHD5tYvbqRlSvt/Ou/etixIyOquF866XPR/8Mf/sDu3bvR6/X4fD5a\nW1uZPHky8+fPjzquurqa6urq8PbMmTP7rZhqMZlM+Hz9Z2GEWI4ckbjsMiuffupl+PD+a6dKf72f\nTU3wy1+a+elPveTkgNtt4rHHpPC2FvWeHzjg5Lzz+qaTVe1duFBm+XKJq64KcP31wShbm5qU+QY3\n3hhM2M7LL+t54gkzdXVq/n+s2GtFOcS//muQQEBixgw/U6cGmTMng7o6HcEgnDwZAgya87QLp6sh\nIWXSmE4nY7fL1NfryMiQ22ZPK6JbWhrgyy/1/H//n4unn85iypQAY8YE+c//VEpIFBaGkCQ4eVKH\nqmoFBSH0eigtDbJrlwG7XaaxUZngFgjomTDBh9Op58QJpSCdxSLjduu45RYv779v4PhxXbjwXGWl\nk8rKLPR6GYMBWlp0FBcHufLKIMuWKZ+HI0fg97838r3vBXr9s2Cz2di0aVN4u7S0lNLS0nbH9Urt\nnZqaGhHe6UWEp586Yp8EbDYbR48624WU+oOnr6LWAaqqOklxcWJhj0X7XouKCtv2xoZgYvFRXu7j\ngQeUSWnqk8bbb5vZujWD66/38s1veigpsQD2mHNbgUzAx+OPt7Jhg4VZs1y8/baZbdssfOc7Lv7+\ndzP/+q+t1NfrOHzYyPnnBzl6VM8LLzSyb5+Jp56ycc45ysD0Rx9lMGmSl7FjPbz4opVJk7zcfbcH\nt1vihRey2jKd9Mye7WblSis2W4jcXGWOxFNP2di3z4jHo2Pt2jO8+KKV667z8Ic/ZPDVVyamT2/l\nyy+NfOtbrUiSzKZNFs4/P4DdLpOTE2LqVF+fP/Ul6+kbOj9EMJCIjUn/9KdeKip6XudmMLN9u5lF\ni+w0Nenw+5VZrB27QpaEr6xfnxH1Ox4ZGfDFFye7aW3HqNlNBw44Wb68a4KjZiotWuSgsNDJyZNa\nkY4n/H5qahqj2l+0yBEeg7BY5HAnsm2bh+nTbURyR7yogr9mjYtbbvFw++2tVFTY8Xp14YVnfv/7\nBkpKglHjKitWnMFul6mqMvO//1sPKAX0Ro924/PBCy9khwvhqcgybNmSyW9+owz+//KXDv7xDxPj\nxvmZPz+P1asbWbfOyhVX+Ni2LZMlS5pYtcrG174WZONGF8uX63juuUZWrbLh88GECf5w8b7Y6q7a\n7586YN+fvn+iymY3GeieaX+jL+9nc7NEeXkOb7+dWKhTSUVFE3Pntqa83Xgx/a4KjtrG2LE+Hn3U\nhM+XuINTcFBX54rbRnl5C2vW2Cgvb2HKlAKiB04lwI/SCTipq3NRW6tj9ux8Pv/cDVipqjrNmjW2\n8IB4ZaU9PAgdb9Dc4ZB4+OEchgwJYTJFp9PGG+xWx27GjPFz//15LF/exIYNWeH7tWVLBrIMs2YZ\nw/dy9Gg/b76Zwdq1Z6IG+mMH1VOZbJAsfR7T7wlC9FOHsDM5ekv40yX4EN3hq/ezO4Kjhoeee66B\n++/PI3H1THV/YuGfNcvF9On5RDx8B9FhHnXbwfXXm3nrLW94u67ORXOzxNtvm6mqMsfNsFJFHKIz\npnbuNPPuu+akO7yOQmLqvexu2Ky3EKKfZvpapJJF2Jk86pc6XXzjGy5efrk5be1r6cr9vO66Aj77\nTPHC8/OdfPvbBsaN8/LjH2cTfypPoG1/JO2xri4SroqMB7hQBFw9Lth2nqPtdWvbdkvbcV7ARGwn\nkoz33BPYN75AAAAgAElEQVQPu7MYvPq03F/GbBIhRD/N9AeRSgZhZ3IMBk9fS1fupyLSEXG3Wh04\nnbGDru099FjvPtJelubYFiALraevnmez2bDbQ4ANJdRjBrzU1TUkZXcqSGaeRuxcl3jH9AfEIioC\nQZL0Zky/sjKHtWsz036drmC1OqO24wl+XZ2LYcMcKCmWIRQvPT41NW5ATb/VDt46gIzwk0BTE5SV\nGVA6BhOqp690Gr1DMoUAteW0Ex0zkBCefjfpa880WYSdndP17J2ekc7sHZWu3s8xY7LaxD42fp/Y\no0+EGmopKSlAmdQFiqAHUDKf3NTVNfPOOznMnOlHG8OPPCV0/brpYqB8h0TKpkCQJNOmeXn//dNJ\nHTtQBKCrrF3rY9as9vuHDOl6W9OmedvEW13BCxRPPjper0wOs0btU4Sftv3KPuXJwBnVCSjtW6PG\nEgTJIcI7AsFZzo4dRmbNKmjbii40dvq0nXHjlHBLUVEhRUWFTJgQCb/cfHNWeL9KdEzfgRLqUZ8g\nrOG27HYLWjEvKspqayci5pF27eGwT3T7gq4iRF8gOMuZNSs3Zo8jauv0aUWox493AjqOH7czYUIW\nN9+cxQcf2AEdhYVORo0qDIt2pLwCKB5+bIqj0pYq5hEh17W9ppCZqR5H27H5qIJfVBQ9FhFLOirO\nDoYqtiK8IxhUzJuXw44dJmbOdGM0Shw6pGfvXiNNTYpwWK0hPB4dgUAnDXVIZxOWopk82c+rrzZ2\n+2rLl1tZuTLe4KafSMw8wvr1TVx3Heg1c6Fi0xe1nrmCVqRjRVth61YX3/wmfPSRnePH7Rw/ruwv\nLHRw440Ghg5tYdmy7LajfYCHiEeupmoqIq+EcdSUzdi8/Uho59AhFxdeCK2t6jFmlKUmHezZ03HM\nXzvDODbrJh6J0j7feUfPVVcpr48Z449qs7ZWx+LFOTzzzJkObelPCE9fMKiYP7+FQEDihRdsbNtm\n5sMPjTQ1GVA+6jqcTkPbQuC99/PII/FFJlkcDilB2+Y4+xSx++UvIx6pKnbqJCYFZ8x57bdrak5R\nVuahpuZUuJ3LLzdgNqvhGqUQ28mTSvmFU6eM3HefOt5hIiLmEuBrC+Ooog7g1ryuHKOcE+3BHzrk\nIjpEBHV1hk49bm0ZhFdeyQyveBZ7vPp74kQfDzyQS22tLuq+XXJJMPy6OsN46VI7NTUGysryWbKk\nqV+lbnaGEH3BoKKkJMif/1yPxRLi0CGjZiHwvuGJJ84waVKPHiu4914X8TzvRJSUDGXjRi8lJQUU\nFRVSUlLI+vUZlJQMDR8TEWCV9jn4WtGsrdWzdKmdffsCeL0mInF/xVMvKbFQXu7kN7/RCr0qypFU\nzLo6F+vXN8UIttpWZKBXG0ZRQj/aawJYKCnJ66RjiyyvuXBhLj6fxPjxvvCayOo6x+p52dkyS5Y0\nUVaWT02NgQceyGXWLCerVplxu5XrlJe3sHhxDrfe6mb69KHMnu1qW7py4CBEXzDoKCkJ8vTTTUSE\np29+7rmnhbIyT4/fT3FxiKqq00TKG8f7UVE89ZYWK0r0Vt/2uo7s7GgPWhF+X0w7vqgsGe2axO+9\nF+SjjxRRHzbMwdix0Z2GUl8n3kpTAbShnTFj/G3pnKrHr/XilWPU0MyoUZFBW7PZTUaG9pqGNs9c\nn3CylFqArqrqJCaTzKpVNmbNcoXXRFZr+6jnFReHwktnfv/7TubPz2PBAi/XXOOlstLOqlU2fvSj\nFm6/fQg33thKdbWx3yx4nixC9AWDjpoaPT/5SQ6gLBDeNwt4y7zwgpU9ewzdGvwrLi4MZ8UUFRUy\nZUoyuZPx1iNQ3rPd7qCmJjoG3t6DVrxt7eQorWhWVyux/sJCB++95+KNN1xtwh9qO1dPNKpAW4AM\n1NDOqlW2tmNloidmgTrxq6TEwuTJXjwedXzBh9ebwQcfuMnMVK+phPOmTCmkvNwZjtur91Ubwy8u\nDlJR4cDnk5g+fSgzZrjDayJrC6dt2ZLBhg1ZvPrqaWbPLuBXv2riwQczqKtT3pvTKbFwYQ433tiK\n2y2xYEFLt9dm7iuE6AsGFTU1em69tQC3W8cVV3gZMkQNrcRb+zSdPwASt902hLKyHEpKokW8pKSQ\nsrKYVVg03HNPbIxd/enoeibiPwX4uO226Bh4+7THaK+9qCirnWjW1Jzkrrs8fOMbkbb++7/dRKpl\nqhk6PqqqTrJ+vZ+HHmpus8/IjBlGZsxQxL2q6hTKE4AyEeuuuwIonZY6vmBn3jw9VVX1KB2ECVDq\n3+zY4aGszMO2bfU88kgO27adYs0aazhko4Z4YmfbgrJY+ezZTv77vy3cfLObVauUNZFra3XMnZvL\nrl1mystb+POfLWzbdopHH83hvvu8TJ8+lJkz3TQ06PnySyNZWTJPPdUUjvEPpNm5YkZuNxkok3TO\nNju12TuhkMSbb2bQ1CThdGr9GzUW3dd0POv0F7/I0sTIe4bd7uCZZwIJsnecmtmwkfIKzz7bzLXX\nejVjAU7WrAkiyzBvnhnFewc1M6eszMD69REhV99bc7PE669nsHChkhpaVXUSuz3U1m6AGTOCgMzm\nzZkogp+FKvyR5Ql91NQ04nDomDKlkG3bTrFhQ1a4fPOsWS7mz89l/foGDh40tsvCUbNs1Dr52kXa\nfD6JTz81Mneuk6uu8kaFfGpq9MyZU8Cvf93IvHm5fO1rfrKy5HDpZqDflC0XBdfSzNkmpukmHXaq\nGRePPprNxIk+8vND7N1roLbWQE2NEov1+yWs1hDBoJLOefRo7MBvqjsHdb3V5MoMTJ+eR01NRzWB\nkv/6Zme3D/EkQuvlR696pT4RqCUbgqidhnqOIvyRCVbNzRKVlXZ8vshi4iYTLF0a4tgxN1OmFDJj\nhpvNmyMdRk2Nq61T0KOEfgzcdZcyPrJggZPFi7NZskRZ91etjrpt2ymOHdPHTdV84IFclixpCncI\noNTnHzkywJIl2VRWNjFnjjsqbVN9PwsXhti9288bb2SwdavyBFBUFOx3RdeE6KeZs1lM00F/tVOZ\nDJTqiTdqDDwZetrpxM8sSaZ8gbbk8JQpOSghFi0O7rrLELVYSex8gFtuyeP9901AKzU1Sodx1115\nfPihMsBcVuahvNzJsmVWTp/Ws2uXD6VIWwBlINqHmtVz110Gpk71csstnjgLtUSXPE5mycKaGgPT\npw/l1VdP8+c/W9odo3YAI0ZY+f3v/ezaZWbOHBdPPmkP5+X3Fy8fhOinnf4qUrEIO7vPwJnun2gQ\nMdFXO/liZtqFQxThVztApQRyZ2WGn33WwpIl6oQtB3/6k5fbblMHpQPU1ESWOwSoqHBQUpKHWmZZ\nFfx4Rdi0E6NUoS8pKQRa2lbiUtdHcABZUR1dba2OsrJ8Vq8+ExUmivc+BltpZSH63aQ/ilQ8hJ0R\nJk4cQkODDrs9xOnTyXjQ/SHun2qSF/xkPH01rBPr8S5fbuWOO9wUF4fYs8egEXoVN199FeLccy2A\nJ/wUUFJiR8n2CaGGdurqGuIWWIs3gzayNoA6xhBEeXIIRYWb1HBPcXEo6qnh4EFjO8/9nXdyuPTS\n5j5ZArEr9AvRb2hoYPXq1TQ3NyNJEtdffz033XRTp+cJ0U8dws4I//M/Ju6/Pz+t1+iY5NP6ioq8\n1Nd78Hp78qQRez1VQKNLMIwc6WTECNi1K7ZGfoCamsaYmH6IyCCrsp2V5eSzzyJF07SDwVVVpyku\nDlFUlI0yQBuxI7KIiuLFK2jfbyS0k2xHFf10pp6v/K0u4r59uzLZ6pprvFFhqZ07zWRlye2EfKB8\nh/rFIip6vZ6ysjKefvpplixZwl//+lfq6urSeUmBICHf/raP557rvVWZ2pN8ymddnYlvfxvaT56K\n/QnF/LiJxPFj21Vy8KdOjU4H/fJLO7t22WmfHmpqE3xtZ+DRzOZVMmtcLjsXXRRbNE35mTJlCEVF\nNhTvvf1cgEhb9pjrONpW0IpM6koGpT21vIMainJQU9MYTqucNk2ZbBWbX//uu+Z2M3oHI2kV/Zyc\nHM4//3wAMjIyKCoqorGx+4WnBIKe8u1v+7jnnhZ6d3Zu99i82U77yVOxPwFqak5RV3eyLXyhrl+b\nCDu7dsHUqYnrAY0c6SDa89Yudais8Ws2qyKsdDAul53opwG149GhhFeU8//0J3XdAjv2tsMjM4P1\n4eOiF1TpeKWu9rQve5GdHe3Bxysx0d9i9Omi14KWp06d4siRI4wePbq3LikQtON//sfECy/Y6L1J\nWqqIxHrkyfwkgymqBk2kQqb6owq4dp+VV15xYbe3f4rQ6Xzs3u2KU6IBVI/7m9/MwuvVoy3yFn2c\nul9bXkGmqqqVSZMCbcKvrqKlnRmsinJ0CWUlJVS78HpWuxCV9rXIedr22j8paEtMaGfmDnZ6ZSDX\n4/Hw85//nBkzZjBx4sSo16qrq6murg5vz5w5c0DEz0wmEz5f/38UFHZG+NOfoKysKx5jalm+3Ml9\n9yV3rLLASPJs2uRtW4lKobP7ecstsHNn/HsxapSTL76ArnnXsaiTqqL3HTjg5rzz1PenzsK1Eqms\naWk7T53PoLbjxOGg7elA6dgcDjexKO0md3xTE/zyl2YWLPCxapWJn/7US06cSdID5Ttks9nYtGlT\neLu0tJTS0tJ2x6Vd9IPBIE8++SSXX355UoO4IAZyU4mwM0LXs3dSi9UKBw92nB+fyIPtiHg594nu\n52WXDaWxUS3V3B0innskFh8bwtJKilpKWb2el7q6xpjQjSr46oCu2qb2GhA9MBt/cDfZpRVj0y47\nSsMcKN+hfpG9A7B69WpsNhtlZWVJnyNEP3UIO1NLuu2MpBwmS8dhoLq6k3E6Em37sR55bHvxbIn1\nwhPZpc3yidTRjyyFaGvbF8nSSSTwsR1BTxdNT7RgSrw0zIHy2ewXC6N/+umn7N69m3PPPZeHH34Y\nSZK46667GDduXDovKxAMOG6/PY93322/ClbndNRBhDSCn+i49vsjoqyNj2s9fFUotedqX1dfiwi+\nItLRQq2EX3xEJmJZo46PXD/1Ibl4+fWxg72DlbSK/sUXX8zGjRvTeQmBYFDwyCOOOBOYOsr86ewB\nXZs9k4jYhUzgoYciHq0ivJDcrGStPerEKlDCOfG9ciXerg7gmlAHntXj219fPc5OURE99vbPVgbj\nlEOBYMARyWrpCh2liGozaxKdE0uIZctsFBXlhUtAtxf8ROdr0zy1JaBNcTNnIpO4tPn48ezVev/q\ncdr9gq4iRF8g6CdMmhRoWyCks/x+uYPXEz0BJDNnIN7aux21q04OiyfE2v3xUiaVjB2tVx+9fq4W\nNdxTGN5W6Sh9UxCfvl1AVCA4S0ksVKqX3Bmxx0gxv7tCsrkc8Y5TOwbtE0FIMy4AipBb0cb06+pO\ntg2QotnXPu7fPjNJLbx2MiYDSJAsQvQFgj7gyiud/P3vqazgmagTSObYjo5PpkNI/D7iCXl3ycpy\nhmf+FhVloGb3ZGU5OzxPEI0I7wgEfcAf/+jiyisTl0KIT7LlHuIJeOwM4Y5I1Cmo7WrXxY0f409H\nyOWzz1xkZan3TKmrk5XlCBd7EySHEH2BoI/44x9dWK2dFVTTCmoy5R5ij1NJZpxAe05HHYQ6gzZR\ne+mTFZer421B5wjRFwj6iH/7tyyczs4KqiXrnSciXtgntjPpbFttJ14OfiL7Uh9y6UpdHUFiRExf\nIEgTnYc4uuNzJTtoGZt501GphFjRjifi2hm2sROxVCIzddOTQ69k9qghnYsuymqL8UcPEgs6Roi+\nYMCTaEr9889nce+9rqiFM/buNVJaGuDOO1tpbpZ45hkrRUVB9u41UVenY9SoAPfc4+LYMQNVVSa+\n+go+/tjMTTd5mTLFx6lTen7/+zy++10PxcVBJk70sXBhNpdf7sPt1rFwoeLh1tbquOQSF598Yktk\ndhJ0b31bpbOJLZGg3hutN5/8E8TKlU1YLDL336/dm0j804c2hq8IP7hcIme/K4jlErtJX9TjSEbc\ntPv37jVx220m/vQnX/g8dRk7u10OLyoxfHiA11/PDAvWli0ZyDLcequnXXuxS+KNGBHk0CEDo0YF\nuOkmDw6HxPr1Fi68MMgXXxgwm+V2tmnb377dzLvvmvje9+D//l/l2NWrrezYYaSwMMSTTzo4eNDI\n6dM6fvUrG14vjBvn46KLAowcGeLMGYn//u9MGhr0nHdekK++0nPOOX5yc8Fkkjl82EBzs4Qsg8cj\nIUkgy8prfr+yPyKA2pBGiPjx9Ng6NVoR1Yq0juRmxcZn/HgHW7d233tNXH4hNmSjtTGeiCvv22KR\ncbv1JMuwYQ7ee69j+wdKTZuBYme/KbjWHboi+l0pnJTKtmw2W5SY9vTaKqqQfvObnrCHOnx4gFdf\nVVYeamrSs2BBCxs3WnA4JE6d0nHNNT4OHDBRXt7C889n8dVXegoKZHJygsybJ/HmmwE2b85k3Dg/\nV17p4YEH8hgyJMjdd7v46CMjr71m4aGHWrj2Wg8rV9oIhWT27jVzySU+brvNy1/+Yqa5Wc/NN7fy\n619nUVAQxG4PceiQCZ9PQpJkWlslzGZFSO32EA0Nesxmma9/vZUPPshg7FgfRmOIXbsy8XohOzvE\n0KFBjh0z4HZLhEKKSGZkQCAAgYCSr67TQSgUK8jQ3nNVj+ls4lL3FzXpGV25brBTb74zbDYb+fkW\n/H51T0cdT7xqmdGVMo3GLPz+zkRfWzAt1Ol7GChiOlDsPGtEvyslUlPZls1m4+hRZ8qurVJbq2P2\n7HzGjvVRWemgrk7Hd79bwNSpHhYvbmHZMhsffWTiqaea+D//J4czZ3Rs3lyPzSbz7/+eTyAAkgQT\nJviYO9fJj35UwMiRXj77zMgFF/jYuzeDceM87NuXgdUaoqVFR3Z2CEmCpiYd48d72b/fzGWX+Xj3\nXTNDhwbR6ZTX7HaZpiYJr1ciGJQwm0P4fBKyHC1okiSHO4BgUGLIkAAOhw6vN57wRIRYp5MJhXoq\nyonCFtr9icQtXqeR6JzO2ujMxnjE1q/pGnl5MgcOnAKihap95U6tOHdkW6SiZfvxCSfxZ89G9gvR\n713OGtEHNKvZO1mzxtoj0U22LfWDkMprq6jCP2pUgM8+M1Ba6sNqhQULnKxaZcXplNi61cLNN7sB\nmepqExddFODTTw0cPmxk27ZTrFuXhc8n4fUa2LVLz1NPNfHwwzk4HHpGjvQzf34LP/lJHkVFfioq\nHDzwQC5+vw6rNcjkyT6OHDEwb55yTGGhH0mSOHFCz+LFzTz5pCIYej34fPFngi5Zcoa1a60cP65H\np5Px+bQLY2hFM54YJ/La4wkwMa/3lSefChINoCYbHop41+09fZV4Yh2vWqZiT2mpgzffTM8g6UAR\n04Fi51kl+gC1tXqmTCmkquokxcXBzk/oYVvaD0Iqr63y7rtGbr9dqbpYVaV8kadMKWTbtlOsXWtl\n82YLM2a4mTvXyfTpQwG48cZWfv5zB2vWWJk1yxXev3ZtA3Pn5jN1qodduzKYOrWVXbsyWbu2gSee\nyOarrwxMmuRlzx5z+Povv1zP7NkFPP74GR57LBeABx9sZsWK7Kh98cjLC9LYqOfll+s5ckTf4bHx\nkKQQsnw2ZhP39KsYqVBps9k0q0hFXo8tlxAh8f1WPtepL3UwUMR0oNh5Von+2eLpz5njYt68XMaO\n9fHQQ06WLbPy3nsmZFkZnDQa4Q9/aABg9ux8Lr7Yjywrnv64cT4+/NDEz3/exKJFuVx9tQeLBfbt\nM9LYqMfng0mTfBw4YMRqDeFy6Vi2rImHHsohKytEc7Met1uK8vR1OvD746UCSgwdGqSlRWoL/5CC\nsE1f0Vd2d7VUQiJR7rjzHDnSwZdfWum4c3CHF0RPJQNFTAeKncmK/oB3p7Rx9OLiYHiF+8hC0elr\nK5XXVtHG9J9+uonnnmtk164MnE746CMjY8f6MJkAZHw+OHNGx9SpHv74xwYuv9zHv/97PkuW2Bg7\n1sfkyT4++0zP6NEBjh418F//1cgjj+TyzDONWCywZ4+JoUOD5OYGGTEiwMcfG1m+/AxNTXqKigIs\nXJhDdnaIkhIfOp1MXl6IlSuVFMRgUCIYVOxQMZtDSJKExRLC41GyZYJBifz8IPn5gXbvVRfz6bNa\nU/OUlFqSmTjVlZ9k6ajMQjx0CX7itafiYPduNXQTWUg9UvFS3ZfRBbsF/Z0B7+mfTdk7GRlKSiPA\n889n4fFI3H67m2PHDEyb5qW5WWLFCiWOvnx5M88/n8WcORK7d/tpbZU4elTPTTe18vrrmXg8hNMq\nPR6YMMHP6NF+Vq+2MX9+C48+mo3VGuLmm7289ZaZf/kXH5mZMkuXWsPZO19+aeTaa1v55z+NuN0S\nOh1YrSFsNqWDMplkxo/3cuSIkSFDQkiSkr0TCMAll3gJBHTU1Rnw+yVyckKcOKGjoCAISNTX65Ak\nGDrUz4kTRiwWZWA4FKLtyUHpNPR65e+gpr9Q0zI7Jhkh7ejcziY89ZRkbOtqJ6LFT12dUr9/7Ngs\nGhqSG3xNJQPFgx4odp5V4Z2+YKB8EISd7dGOl/QOQXr+UN3dDqqjjCUH+fnQ0BBJs4TuCX9RUSHX\nX+/kd7+LDPrefXcWb71lTdie+GymlrMmvCMQdIXaWh0LFuSg16tVImPDLqn2gdT2Qm3X7OwnXcR7\nr3aN4ENP5eCttyJ1cBTBV9oWi5z0L9JehmH//v289NJLyLLMddddx3e+8510X1IgiEttrY5/+7d8\njh/XYzDIBIOJcu1TLfw6DIYQb7xRT0lJ4nGLSPmE6HN7blNHcwpi9zl7GKKMrnUfPTNZ0B9Iq6cf\nCoX47W9/y+LFi1mxYgXvvPMOdXV16bykQJCQjRst5OcHmTLFi90e4oILvBiNqiCpnn86kAkEYPXq\njuvw1NWdjPrpHskMAMeKcKROfk2Nm6VL7Uyc6OvidbVVNc0dvCboa9Lq6R86dIhhw4YxZIgSP73q\nqqvYu3cvRcoaagJBr7JwoZOFCyPb27ebqay08fOfNxIM6vj1r7MoLg6yf78el0uPTqfUa/d4dOh0\n4EtSB/V6uPnmVj780MSECV4+/9zIddf5wrWNukZXvORkfbhEx3V/RrkyaxciqZ7qYLcjTRU3Bd0l\nraLf2NhIfn5+eDsvL49Dhw6l85ICQdJMm+aNCmEkE87ozUG9ZL39HTuMzJpVkODVjsQ79jU769c7\neOKJrj/x3H23tta9oD/T56WVq6urqa6uDm/PnDkTm60n5Wh7B5PJJOxMIcLO7jNrVqZmq6uCrS3L\nIANWgkGJnJyutfLWW5YENtgpKtLhiLMyZH+8l/EYKHYCbNq0Kfx3aWkppaWl7Y5Jq+jn5eVRX18f\n3m5sbCQvLy/qmHiGDYT0qIGSxiXsTC39005LnH2xNXvihYmc1NS4KSkxoZWCigpdN0I8WhtUhbeH\nX2tpaf/U0j/vZXsGkp0zZ87s9Li0DuReeOGFnDhxgtOnTxMIBHjnnXeYMGFCOi8pEJx1/PjHLrRp\nnzNmODhwwI3F4kabCho7UFxX52LvXhM1NY1R+xctcoTXWugakRm90bN6Bf2JtE/O2r9/Py+++CKy\nLPONb3wjqZRNMTkrdQg7U0sq7Vy+3BpedCYQU6ViyBA/9fXG8Mxik0mprfTss039buyhuwwEG2Hg\n2Clm5KaZgfJBEHamllTZuX27mbIyNXCebEkImZycENXVpzo9Mh33s6ioELvdySefRLJxLrkkC4cj\n8azbjjjb/ufpRszIFQj6MRs3qoOv2mUKO0PC4ejbaqUOh51zz1Vm3SqCr8Ttzz1XzLodKAjRFwj6\ngB//uIVosY83qar9BKtbb+37nPdg0E5RUX5Y8EEXVfBO0L8Roi8Q9AElJUEqKtQa9cl578OH+1iy\npG9Ef/v22Fm2sduCgUKf5+kLBIORefNy2LLFnESJ5+QxdSehJobt2828+66JUaMC4fLdzc0Sr7+e\nwRdf6FmzRgnd3Hefk5/9TOlglCJqVtp3TpGlLktLRamFgYIQfYEgRSxfbmXlyizNnmQfpJNb2/fw\nYRNPP53FL37RfYGdONHHr35lY+vWDP7+dxMPPdTCsmU29uwxUVurb7NFx29+o4RufvMbiOTbhxLY\nGUrbOrqC1CPCOwJBCjj//MI2wZdov2pVMiRaYSt6e8OGeBOxkmfvXhMzZrRSX6/nH/8wMXNmAX//\nu4n6+ojgqyjCH6+0Qqzw63jyyaw4xwn6I0L0BYIU4PdD4kyczgdo2xNveUWZQKBn2TsulzIvoKTE\nx7FjRr76ysDx40aGDfPHsSeRjXLMb3jmGWuc4wT9ESH6AkFaSHZt23jHqAudK7NZdTplqcmcnBC/\n/W1Tj6y69lovPh+8/76ZyGxZmS+/NBG/1n6srYKBjojpCwQpYORIJ19+qS0r3FUig6LRHUGIUAjW\nr09uJm4ytLSovp76W712Zz6gduzBS2ShFFFqYSAhPH2BIAXs3q3Wmkk1ylc0Mnu3Z+zda+KKKzwx\ne5MbSFYZMsRBXV0DQ4ZE3m9vLqgu6BlC9AWCFPCf/2mh5/XkE4WEUvc1nTjRR329keiVwqSY34kZ\nMsTB/v1Kps7+/a4o4RcMDER4RyBIAcuWaeutd81zjo823JM63n7bTFZWiM6/+vHfgyr40dsiXXMg\nITx9gSAtpEKwUz9warHIZGRoM4P6Xb1FQZoRoi8QpIzYAc14aZd9y7Rp3rY6Ocl89fuf/YKeI0Rf\nIEgBkYHMeJkssROvui6kOl3qyhw0NurpOOMm2VLPgoGIEH2BIEXU1Z0kIwO0q1ililAodZOfduyo\n7/yg9ha0rdAlGOgI0RcIUsgXXyhLDq5fr06iCpGOTqB3iHj7Oh0sXCiKqg0GRPaOQJAGpk3ztstd\nLyrq6kIj/SeeHhpo/ZUgIcLTFwj6hP4j6CKT5+wibZ7+hg0beP/99zEYDBQWFjJv3jwslp5VCBQI\nBntMGyIAABSaSURBVBcd5fNrBTj1bvbXvubnww+1C6EE6cwH3L7dnLJSEIK+I22e/tixY1mxYgXL\nli1j2LBhvPbaa+m6lEAwINDpIH5aZyzt96W6zME3vuEL2zJ+fDKzaiXNur6CgUxaRV+nfMoZPXo0\nDQ0N6bqUQDAgqK1NlNbZUTpneoLpCxc6kSQoK3OwdWsyWTkSe/ca02KLoHfplYHcHTt2cNVVV/XG\npQSCfk1d3cm2Ad0QnftcofA56eDo0WTajZSDOH1aDAEOBnok+pWVlTQ3N4e3ZVlGkiTuvPNOJkyY\nAMCrr76KXq/n61//etw2qqurqa6uDm/PnDkTm80W99j+hMlkEnamkLPJTofDzeTJmXzyScSLHzbM\nzTPPwHe/m4k2zu9wuIGuXy9d9zOVbZ5N//PeYtOmTeG/S0tLKS0tbXeMJMupXLo5mp07d/LWW2/x\n05/+FKMx+UfDY8eOpcuklGGz2WhpaelrMzpF2JlaBqudytOHtr6+FkUiMjKCfPHFqZTYB4P3XvYV\nw4cPT+q4tD2v7d+/ny1btvDwww93SfAFAkH/xOMRpRkGA2mL6a9bt45AIMDjjz8OKIO599xzT7ou\nJxAI0owkNH9QkDbR//Wvf52upgUCQR+QvkCwoDcRw/ECgUBwFiFEXyAQxCBc+sGMEH2BQNA2W1hw\nNiD+1QKBgAULXAy80s+C7iBEXyAQiFr5ZxFC9AUCgeAsQoi+QCBICpGnPzgQoi8QCJJC5OkPDoTo\nCwQCwVmEEH2BQJAUBrGi9qBAiL5AIAAgM1PEb84GhOgLBAIAvN6OR2pHj/b3kiWCdCJEXyAQANBZ\nBfSWFiEXgwHxXxQIBABkZHQ8I9fhEDmbgwEh+gKBAEgU04/sy8kRMf/BgBB9gUAAgN8fz5NX98nc\nd5+rN80RpAkh+gKBAIDi4iARzz7Wq5fZu9fcyxYJ0oEQfYFAAIDBEKL9ougqOjIygr1pjiBNCNEX\nCAQA1NUZiefhq3z0USfpPYIBQdpFf+vWrdxxxx04naJ0q0DQn3nvvdO0F/1ITH/ECFFvfzCQVtFv\naGjgo48+oqCgIJ2XEQgEKWD5cqtmq32Y58ILA71njCBtpFX0169fz+zZs9N5CYFAkCJGjNDG7NuH\necrK3L1pjiBNpE3033vvPfLz8zn33HPTdQmBQJBCrrrKS2JJ0PG3v4nsncFAj+rmVVZW0tzcHN6W\nZRlJkrjzzjv505/+xGOPPRb1Wjyqq6uprq4Ob8+cORObzdYTs3oFk8kk7Ewhws7U0h07v/pKj7JO\nro724R2Zo0czsdlSV2pzMN/LvmLTpk3hv0tLSyktLW13jCQnUuMe8NVXX1FZWYnZbEaWZRobG8nL\ny+OJJ54gOzu70/OPHTuWapNSjs1mo6Wlpa/N6BRhZ2oZ7HYWFRUSLfqqPIQoL3fx2GOpS8gY7Pey\ntxk+fHhSx6WlQva5557L888/H97+0Y9+xNKlS7FarR2cJRAI+pLaWm1oRybW2/f5RO2dwUCv5OlL\nYnFNgaDfs369hcSTsyRMpt60RpAuekX0V69eLbx8gaCfM2WKn8R5+nDZZaKe/mBAzMgVCARJce21\n3r42QZAChOgLBAIAJk70kTi8I8oqDxaE6AsEAgCys2USi7vEzp0iT38wIERfIBAAsH27GatVra8T\nnbKp1wtPf7AgRF8gEADgckm0turbtqJFXpZBJOENDoToCwQCAMaP9xEMxlf2UAgsFuHtDwaE6AsE\nAgAOHjSilGGAeAO606aJ7J3BgBB9gUAAKKKeKISjE0oxaBD/SoFAAEBzs4Qsx9bcEQw2hOgLBAIA\n3n7bTCKxN6SlSpegLxCiLxAIAGWgNtHqWBdcIFbNGiwI0RcIBIAS07/gAl/c1849N/5+wcBDiL5A\nIAizY4cFiyUYtc9iCbJjh6WPLBKkGiH6AoEgzOjRftxuPSaTEts3mWTcbj2jR4sKm4MFIfoCgSDM\n6dN6JElZMOXBB5vx+SQkSdkvGByIMXmBQBBGr4ehQwMMGxZixYpsxo3zcvy48A0HE+K/KRAIwlxy\niZ/mZh379yvLZO3fb6K5Wccll4jwzmBBiL5AIAhTWurH49GFq2rq9TIej47SUiH6gwUh+gKBIMyG\nDVnk5QUxGhXRNxpl8vKCbNiQ1ceWCVJFWmP6b7zxBm+++SY6nY7x48fzve99L52XEwgEPeSGG1rZ\nvDkLteCa36+juVlmxgxX3xomSBlpE/3q6mref/99li9fjl6vx+FwpOtSAoEgRYweHUSSINA2ATcY\nVEowjB4d7PhEwYAhbeGdN998k+985zvo9Uqql91uT9elBAJBitizx0RhYZAhQxSRHzIkSGFhkD17\nTH1smSBVpM3TP378ODU1NbzyyiuYTCZmzZrFqFGj0nU5gUCQAoxGGDXKzwcfKOvhtrZKXHKJD6Ox\njw0TpIweiX5lZSXNzc3hbVmWkSSJO++8k2AwiMvlYsmSJRw6dIiVK1eyevXqdm1UV1dTXV0d3p45\ncyY2m60nZvUKJpNJ2JlChJ2ppbt2TpkClZWZ3HCDn1/9qpVHHzXx179mUlHRmvL3PdjvZV+wadOm\n8N+lpaWUlpa2O6ZHol9RUZHwtW3btjF58mQALrzwQiRJoqWlpd3Ni2dYS0tLT8zqFWw2m7AzhQg7\nU0t37VyzZggTJ7qx2cDlcmGzSUyc6GfNGhM//GFTv7CxtxlIds6cObPT49IW0584cSIff/wxAMeO\nHSMYDA6Y3lIgOFuZN89FdXUG3/pWK1OmFPKtb7VSXZ3BvHkie2ewkLaY/rXXXsuaNWt48MEHMRqN\nzJ8/P12XEggEKeLcc4P81381MmdOPo8/foY5c/JYt66BYFBM6RkspE30DQYDDzzwQLqaFwgEaWDM\nGD9lZfn87GfNLF6cy5IlZ6iszGH9+oa+Nk2QIkTBNYFAEObgQSMVFU1hT/8Xv8hm3boGDh40Ulzs\n7WvzBClAPLMJBIIww4cHmD8/j3XrGnnssVzWrWtk/vw8hg8XyyUOFoToCwSCMKtX23jxxQa2bcuk\nquok27Zl8uKLDaxeLZIwBgtC9AUCQRi/H9ats7JokYPi4iCLFjlYt86KXxTZHDQI0RcIBGGuvNLL\n22+bqatTpKGuTsfbb5u58koRzx8siIFcgUAQ5gc/aGXyZB//9m8FPPlkE488ksPmzfWUlIiCa4MF\nIfoCgSCKkpIgTz7ZxNy5+axd2yAEf5AhRF8gEITZvt2M3R7kkUdyWLu2gUceyaGwsAGHQ8+0aSLE\nMxgQoi8QCMLY7UHuuKOAjRvrmTQpQGFhQ3hbMDgQA7kCgSDMSy9Z2bixntdey6K2Vs9rr2WxcWM9\nL71k7WvTBClCePoCgSDMs88qlTSHDXMyZUohVVUnKS4OMmlSaitsCvoO4ekLBIIw27ebqa3VsWaN\nlaqqk6xZY6W2Vsf27ea+Nk2QIoToCwSCMGrBtfLyFoqLg5SXt1BWls+YMWJ21mBBiL5AIAhz8KCR\n9esbWLPGRm2tnjVrbP9/e/cb20T5wAH8e3QrROy6tTjYnMtkmy+sUUPonGJMkBgT3whvmikqf2xI\nRhqiCTgxTptUcTNRQqxWow3MlJhgAoS9WMII6Au1cZPNQJe9KAHcnFDWkm6/DlKve34vFg7nWjbc\ndXfdfT/Jkt311vumWb+7Pn32FB0dUwuu0eLAMX0imqakRKC5+faYfkmJ0DoSqYilT0QKpzMNn68E\nABAOX8WBA1Ozdlpbx7SMRSri8A4RKX78cSnS6en70ump/bQ4sPSJSCEEYDYD27en0Ni4Etu3p2A2\nT+2nxYHDO0SkePHFm1izJo0tW+w4evQaPJ4ydHTE8cADk1pHI5XkrfSj0SiCwSAymQxMJhPcbjdq\na2vzdToiUkEyKSEQsMDvv47nnitHd3cMgYAFLS1jsFp5ub8Y5G145/Dhw2hqasLHH38Ml8uFUCiU\nr1MRkUp6esxobh5HKLQc4fBVhELL0dw8jp4es9bRSCV5K/3S0lJMTEwAAFKpFMrKyvJ1KiJSidOZ\nVq7sb31yViBggdOZnv2HqSBIQuTnLZrR0VG0trYq2z6fDytWrJjTz46MjOQjkqosFgvGx8e1jjEr\n5lTXYs956tRSOJ3paUM5yaSEnh6z6ksrL/bHcqFVVlbO6bh5lb7P50MymVS2hRCQJAlNTU3o6urC\n888/j4aGBoTDYXR3d0/7I3BLJBJBJBJRtl0uV0E8wGazGel/z23TIeZUF3OqpxAyAoWT02Kx4MiR\nI8q2w+GAw+GYcVzervS3bNmCjo6OnNt3wit99TCnuphTPYWQESicnHO90s/bmP6qVaswMDAAADh3\n7tycAxERUf7kbcrmjh07EAwGIcsyiouLsWPHjnydioiI5ihvpV9bW4t9+/bl6+6JiOg/4DIMREQG\nwtInIjIQlj4RkYGw9ImIDISlT0RkICx9IiIDYekTERkIS5+IyEBY+kREBsLSJyIyEJY+EZGBsPSJ\niAyEpU9EZCAsfSIiA2HpExEZCEufiMhAWPpERAbC0iciMpB5fVxiOBzG999/j+HhYXz00UdYvXq1\nctuxY8dw5swZmEwmbN26FY899ti8wxIR0fzM60q/uroau3fvxsMPPzxt//DwMH755Rfs378fe/fu\nxTfffAMhxLyCElH+nTq1FMmkNG1fMinh1KmlGiUitc2r9CsrK1FRUTFjf29vL5566imYTCaUl5ej\noqIC0Wh0PqciogXgdKbR3l6iFH8yKaG9vQROZ1rjZKSWvIzpJxIJrFixQtm22WxIJBL5OBURqchq\nFWhpGUN7ewmGhkxoby9BS8sYrFa+Ul8sZh3T9/l8SCaTyrYQApIkoampCWvXrs1rOCJaeFarQHPz\n/9DYuBLh8FUW/iIza+m3trbe9Z3abDaMjo4q2/F4HDabLeuxkUgEkUhE2Xa5XKisrLzrc2rBYrFo\nHWFOmFNdRshZWQlMvQ23UrU82RjhsVxIR44cUb53OBxwOBwzjsnL8M7atWvx888/Q5ZlxGIxXLly\nBXV1dVmPdTgccLlcytc/Q+sZc6qLOdVVCDkLISNQWDn/2aXZCh+Y55TNX3/9FQcPHsTY2Bja2tpQ\nU1ODd955B1VVVXjyySfx5ptvoqioCG63G5IkzX6HRESUV/Mq/YaGBjQ0NGS9bdOmTdi0adN87p6I\niFRm8nq9Xq1D/Ft5ebnWEeaEOdXFnOoqhJyFkBFYXDklwf+aIiIyDK69Q0RkICx9IiIDmdcbuWoq\nxMXbotEogsEgMpkMTCYT3G43amtrtY6VVVdXF06ePIklS5ZgzZo12Lx5s9aRcurs7EQoFEIwGMS9\n996rdZxpQqEQfvvtNxQVFWHlypXYuXMn7rnnHq1jKfr7+3Ho0CEIIbB+/Xps3LhR60gzxONx+P1+\nJJNJSJKEDRs24IUXXtA6Vk6Tk5PYu3cvbDYbWlpatI6T1cTEBL788ksMDQ1BkiQ0Nzejvr4++8FC\nJ/78808xMjIivF6vuHDhgrJ/aGhI7NmzR8iyLK5evSo8Ho+YnJzUMOltXq9X9Pf3CyGEOHv2rPB6\nvRonyu78+fPC5/MJWZaFEEIkk0mNE+U2OjoqPvjgA7Fz504xPj6udZwZfv/9d5HJZIQQQoRCIXH4\n8GGNE92WyWSEx+MRsVhM/P3332L37t1ieHhY61gzXL9+XVy8eFEIIcSNGzfErl27dJnzls7OTnHg\nwAHR1tamdZSc/H6/OH36tBBCCFmWRSqVynmsboZ3CnHxttLSUkxMTAAAUqkUysrKNE6U3cmTJ7Fx\n40aYTCYAQElJicaJcuvo6MCrr76qdYycHn30USxZMvW0qa+vRzwe1zjRbdFoFBUVFbjvvvtQVFSE\ndevWoaenR+tYM5SWlqKmpgYAsGzZMtx///26XZsrHo+jr68PGzZs0DpKThMTExgcHMT69esBACaT\n6Y6vPnUzvJNLIpHAQw89pGzrafG2zZs3o7W1Fd9++y2AqXWK9Oivv/7CwMAAvvvuO5jNZrzyyiu6\nHIbq7e2F3W5HdXW11lHm5MyZM1i3bp3WMRSJRAJ2u13ZttlsurlAyiUWi+Hy5cu5hyI0dusi5NbF\nnR7FYjFYLBZ88cUXuHz5MlavXo1t27bBbDZnPX5BS78QF2+7U+auri5s27YNDQ0NCIfDCAQC/2mt\nonznzGQySKVS+PDDDxGNRrF//374/X7d5Tx27BjefffdabdpYS6/p0ePHoXJZMLTTz+tScbF4ObN\nm/j000+xdetWLFu2TOs4M5w9exZWqxU1NTWIRCK6/UyQyclJXLx4Ea+//jpqa2tx6NAhHD9+HC6X\nK+vxC1r6+V68LR/ulPmzzz5Tbm9sbEQgEFioWDPcKWd3dzeeeOIJAEBdXR0kScL4+Lgmi0jlyvnH\nH38gFothz549EEIgkUjg7bffxr59+2C1WnWR8ZYffvgBfX19eO+99xYo0dz8+7mSSCQW9LlyNzKZ\nDD755BM888wzcDqdWsfJanBwEL29vejr60M6ncaNGzfg9/vh8Xi0jjaNzWaD3W5XXr03Njbi+PHj\nOY/XzZh+LnezeNtCW7VqFQYGBgAA586d0+3qoE6nE+fPnwcAjIyMIJPJ6G7VwOrqanz99dfw+/34\n/PPPYbPZ0N7evuCFP5v+/n6cOHECb731FoqLi7WOM01dXR2uXLmCa9euQZZl/PTTT7p9BR0IBFBV\nVaXrWTsvv/wyAoEA/H4/3njjDTzyyCO6K3xg6j0Su92OkZERAFNdVFVVlfN43fxH7j8Xb1u+fLmy\neBswNWXz9OnTKCoq0tWUzQsXLiAYDEKWZRQXF8PtduPBBx/UOtYMsiwjEAjg0qVLKC4uxmuvvTbj\nIy71xuPxoK2tTXdTNnft2gVZlpU/mvX19XC73Rqnuq2/vx8HDx6EEALPPvusLqdsDg4O4v3330d1\ndTUkSYIkSXjppZfw+OOPax0tp4GBAXR2dup2yualS5fw1VdfQZblWacS66b0iYgo/3Q/vENEROph\n6RMRGQhLn4jIQFj6REQGwtInIjIQlj4RkYGw9ImIDISlT0RkIP8HliBWtg40GZ0AAAAASUVORK5C\nYII=\n",
      "text/plain": [
       "<matplotlib.figure.Figure at 0x11d614b90>"
=======
      "image/png": "iVBORw0KGgoAAAANSUhEUgAAAY0AAAENCAYAAADzFzkJAAAABHNCSVQICAgIfAhkiAAAAAlwSFlz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\nBkEQBCEYUhoEQRCEYP4faFIFnzgN3SMAAAAASUVORK5CYII=\n",
      "text/plain": [
       "<matplotlib.figure.Figure at 0x7f22c509c450>"
>>>>>>> d5d7958dece8c5d0aa8a71482da454a4385eab5c
      ]
     },
     "metadata": {},
     "output_type": "display_data"
    }
   ],
   "source": [
<<<<<<< HEAD
    "plt.plot(transactions['distance_from_center_Lat'],transactions['distance_from_center_Long'],\"bx\")"
=======
    "plt.plot(transactions['Long'], transactions['Lat'], \"bx\")\n",
    "plt.xlabel(\"Longitude\")\n",
    "plt.ylabel(\"Latitude\")"
>>>>>>> d5d7958dece8c5d0aa8a71482da454a4385eab5c
   ]
  },
  {
   "cell_type": "code",
<<<<<<< HEAD
   "execution_count": 86,
   "metadata": {
    "collapsed": false
   },
=======
   "execution_count": 47,
   "metadata": {},
>>>>>>> d5d7958dece8c5d0aa8a71482da454a4385eab5c
   "outputs": [
    {
     "data": {
      "text/plain": [
<<<<<<< HEAD
       "[<matplotlib.lines.Line2D at 0x122f71c50>]"
      ]
     },
     "execution_count": 86,
=======
       "{'boxes': [<matplotlib.lines.Line2D at 0x7f22c4d40350>],\n",
       " 'caps': [<matplotlib.lines.Line2D at 0x7f22c4d6d250>,\n",
       "  <matplotlib.lines.Line2D at 0x7f22c4d6d890>],\n",
       " 'fliers': [<matplotlib.lines.Line2D at 0x7f22c4d4f550>],\n",
       " 'means': [],\n",
       " 'medians': [<matplotlib.lines.Line2D at 0x7f22c4d6ded0>],\n",
       " 'whiskers': [<matplotlib.lines.Line2D at 0x7f22c4d404d0>,\n",
       "  <matplotlib.lines.Line2D at 0x7f22c4d40bd0>]}"
      ]
     },
     "execution_count": 47,
>>>>>>> d5d7958dece8c5d0aa8a71482da454a4385eab5c
     "metadata": {},
     "output_type": "execute_result"
    },
    {
     "data": {
<<<<<<< HEAD
      "image/png": "iVBORw0KGgoAAAANSUhEUgAAAYcAAAEECAYAAADDOvgIAAAABHNCSVQICAgIfAhkiAAAAAlwSFlz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\nH2sz1wEQEOrLAAAAAElFTkSuQmCC\n",
      "text/plain": [
       "<matplotlib.figure.Figure at 0x11d8ab210>"
=======
      "image/png": "iVBORw0KGgoAAAANSUhEUgAAAYAAAAD8CAYAAAB+UHOxAAAABHNCSVQICAgIfAhkiAAAAAlwSFlz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\nwvPSWroAAAAASUVORK5CYII=\n",
      "text/plain": [
       "<matplotlib.figure.Figure at 0x7f22c4f44890>"
>>>>>>> d5d7958dece8c5d0aa8a71482da454a4385eab5c
      ]
     },
     "metadata": {},
     "output_type": "display_data"
    }
   ],
   "source": [
<<<<<<< HEAD
    "plt.plot(transactions['Lat'], transactions['Long'],\"bx\")"
   ]
  },
  {
   "cell_type": "code",
   "execution_count": 88,
   "metadata": {
    "collapsed": true
   },
   "outputs": [],
   "source": [
    "def feature_normalize(dataset):\n",
    "    mu = np.mean(dataset,axis=0)\n",
    "    sigma = np.std(dataset,axis=0)\n",
    "    return (dataset - mu)/sigma\n",
    "\n",
    "def estimateGaussian(dataset):\n",
    "    mu = np.mean(dataset, axis=0)\n",
    "    sigma = np.cov(dataset.T)\n",
    "    return mu, sigma\n",
    "    \n",
    "def multivariateGaussian(dataset,mu,sigma):\n",
    "    p = multivariate_normal(mean=mu, cov=sigma)\n",
    "    return p.pdf(dataset)"
   ]
  },
  {
   "cell_type": "code",
   "execution_count": null,
   "metadata": {
    "collapsed": true
   },
   "outputs": [],
   "source": []
  },
  {
   "cell_type": "code",
   "execution_count": 100,
   "metadata": {
    "collapsed": true
   },
   "outputs": [],
   "source": [
    "# Split train/test data\n",
    "from sklearn.model_selection import train_test_split\n",
    "X, X_test = train_test_split(transactions, test_size=0.2, random_state=0)\n",
    "X_train, X_cv = train_test_split(X, test_size=0.2, random_state=1)"
   ]
  },
  {
   "cell_type": "code",
   "execution_count": 102,
   "metadata": {
    "collapsed": false
   },
   "outputs": [
    {
     "data": {
      "text/plain": [
       "((294588, 15), (188536, 15), (58918, 15), (47134, 15))"
      ]
     },
     "execution_count": 102,
     "metadata": {},
     "output_type": "execute_result"
    }
   ],
   "source": [
    "transactions.shape, X_train.shape, X_test.shape, X_cv.shape"
   ]
  },
  {
   "cell_type": "code",
   "execution_count": 169,
   "metadata": {
    "collapsed": true
   },
   "outputs": [],
   "source": [
    "features_to_use = ['log_dollar_amount']"
   ]
  },
  {
   "cell_type": "code",
   "execution_count": 201,
   "metadata": {
    "collapsed": true
   },
   "outputs": [],
   "source": [
    "transactions = transactions[transactions['log_dollar_amount']>0]"
   ]
  },
  {
   "cell_type": "code",
   "execution_count": 202,
   "metadata": {
    "collapsed": false
   },
   "outputs": [],
   "source": [
    "#train = X_train[features_to_use]\n",
    "train = transactions[features_to_use]\n",
    "cv = X_cv[features_to_use]\n",
    "test = X_test[features_to_use]\n",
    "\n",
    "mu, sigma = estimateGaussian(train)\n",
    "p = multivariateGaussian(train,mu,sigma)"
   ]
  },
  {
   "cell_type": "code",
   "execution_count": 203,
   "metadata": {
    "collapsed": false
   },
   "outputs": [
    {
     "data": {
      "text/plain": [
       "(log_dollar_amount    4.0064\n",
       " dtype: float64, array([[ 0.86083379]]))"
      ]
     },
     "execution_count": 203,
     "metadata": {},
     "output_type": "execute_result"
    }
   ],
   "source": [
    "mu, sigma"
   ]
  },
  {
   "cell_type": "code",
   "execution_count": 204,
   "metadata": {
    "collapsed": false
   },
   "outputs": [
    {
     "data": {
      "text/plain": [
       "(1, 1)"
      ]
     },
     "execution_count": 204,
     "metadata": {},
     "output_type": "execute_result"
    }
   ],
   "source": [
    "sigma.shape"
   ]
  },
  {
   "cell_type": "code",
   "execution_count": 205,
   "metadata": {
    "collapsed": false
   },
   "outputs": [
    {
     "data": {
      "text/plain": [
       "array([ 0.41727906,  0.34150731,  0.42617104, ...,  0.40135757,\n",
       "        0.25069739,  0.23138401])"
      ]
     },
     "execution_count": 205,
     "metadata": {},
     "output_type": "execute_result"
    }
   ],
   "source": [
    "p"
   ]
  },
  {
   "cell_type": "code",
   "execution_count": 206,
   "metadata": {
    "collapsed": false
   },
   "outputs": [
    {
     "data": {
      "text/plain": [
       "(0.0032364544880108706, 0.42998213569204197)"
      ]
     },
     "execution_count": 206,
     "metadata": {},
     "output_type": "execute_result"
    }
   ],
   "source": [
    "p.min(), p.max()"
   ]
  },
  {
   "cell_type": "code",
   "execution_count": 229,
   "metadata": {
    "collapsed": true
   },
   "outputs": [],
   "source": [
    "ep = 0.0033"
   ]
  },
  {
   "cell_type": "code",
   "execution_count": 230,
   "metadata": {
    "collapsed": true
   },
   "outputs": [],
   "source": [
    "outliers = np.asarray(np.where(p < ep))"
   ]
  },
  {
   "cell_type": "code",
   "execution_count": 231,
   "metadata": {
    "collapsed": false
   },
   "outputs": [
    {
     "data": {
      "text/plain": [
       "(1, 171)"
      ]
     },
     "execution_count": 231,
     "metadata": {},
     "output_type": "execute_result"
    }
   ],
   "source": [
    "outliers.shape"
   ]
  },
  {
   "cell_type": "code",
   "execution_count": 232,
   "metadata": {
    "collapsed": true
   },
   "outputs": [],
   "source": [
    "def selectThresholdByCV(probs,gt):\n",
    "    best_epsilon = 0\n",
    "    best_f1 = 0\n",
    "    f = 0\n",
    "    stepsize = (max(probs) - min(probs)) / 1000;\n",
    "    epsilons = np.arange(min(probs),max(probs),stepsize)\n",
    "    for epsilon in np.nditer(epsilons):\n",
    "        predictions = (probs < epsilon) \n",
    "        f = f1_score(gt, predictions,average='binary')\n",
    "        if f > best_f1:\n",
    "            best_f1 = f\n",
    "            best_epsilon = epsilon\n",
    "    \n",
    "    return best_f1, best_epsilon"
   ]
  },
  {
   "cell_type": "code",
   "execution_count": 234,
   "metadata": {
    "collapsed": false
   },
   "outputs": [
    {
     "data": {
      "text/html": [
       "<div>\n",
       "<table border=\"1\" class=\"dataframe\">\n",
       "  <thead>\n",
       "    <tr style=\"text-align: right;\">\n",
       "      <th></th>\n",
       "      <th>credit_card</th>\n",
       "      <th>date</th>\n",
       "      <th>transaction_dollar_amount</th>\n",
       "      <th>Long</th>\n",
       "      <th>Lat</th>\n",
       "      <th>year</th>\n",
       "      <th>month</th>\n",
       "      <th>day</th>\n",
       "      <th>weekday</th>\n",
       "      <th>hour</th>\n",
       "      <th>log_dollar_amount</th>\n",
       "      <th>log_Lat</th>\n",
       "      <th>log_Long</th>\n",
       "      <th>distance_from_center_Lat</th>\n",
       "      <th>distance_from_center_Long</th>\n",
       "    </tr>\n",
       "  </thead>\n",
       "  <tbody>\n",
       "    <tr>\n",
       "      <th>83</th>\n",
       "      <td>1.003715e+15</td>\n",
       "      <td>2015-09-28 19:52:53</td>\n",
       "      <td>32.23</td>\n",
       "      <td>-80.144435</td>\n",
       "      <td>40.279707</td>\n",
       "      <td>2015.0</td>\n",
       "      <td>9.0</td>\n",
       "      <td>28.0</td>\n",
       "      <td>0.0</td>\n",
       "      <td>19.0</td>\n",
       "      <td>3.472898</td>\n",
       "      <td>3.695848</td>\n",
       "      <td>NaN</td>\n",
       "      <td>-0.418609</td>\n",
       "      <td>1.363332</td>\n",
       "    </tr>\n",
       "    <tr>\n",
       "      <th>2567</th>\n",
       "      <td>1.126572e+15</td>\n",
       "      <td>2015-08-14 20:39:20</td>\n",
       "      <td>21.44</td>\n",
       "      <td>-80.262460</td>\n",
       "      <td>40.167137</td>\n",
       "      <td>2015.0</td>\n",
       "      <td>8.0</td>\n",
       "      <td>14.0</td>\n",
       "      <td>4.0</td>\n",
       "      <td>20.0</td>\n",
       "      <td>3.065258</td>\n",
       "      <td>3.693049</td>\n",
       "      <td>NaN</td>\n",
       "      <td>-0.260675</td>\n",
       "      <td>1.393077</td>\n",
       "    </tr>\n",
       "    <tr>\n",
       "      <th>7790</th>\n",
       "      <td>1.210873e+15</td>\n",
       "      <td>2015-09-17 22:47:14</td>\n",
       "      <td>41.86</td>\n",
       "      <td>-74.673598</td>\n",
       "      <td>40.044686</td>\n",
       "      <td>2015.0</td>\n",
       "      <td>9.0</td>\n",
       "      <td>17.0</td>\n",
       "      <td>3.0</td>\n",
       "      <td>22.0</td>\n",
       "      <td>3.734331</td>\n",
       "      <td>3.689996</td>\n",
       "      <td>NaN</td>\n",
       "      <td>-0.113188</td>\n",
       "      <td>0.445737</td>\n",
       "    </tr>\n",
       "    <tr>\n",
       "      <th>10454</th>\n",
       "      <td>1.261412e+15</td>\n",
       "      <td>2015-09-26 16:53:32</td>\n",
       "      <td>146.24</td>\n",
       "      <td>-77.453015</td>\n",
       "      <td>42.537788</td>\n",
       "      <td>2015.0</td>\n",
       "      <td>9.0</td>\n",
       "      <td>26.0</td>\n",
       "      <td>5.0</td>\n",
       "      <td>16.0</td>\n",
       "      <td>4.985249</td>\n",
       "      <td>3.750393</td>\n",
       "      <td>NaN</td>\n",
       "      <td>0.470079</td>\n",
       "      <td>0.197027</td>\n",
       "    </tr>\n",
       "    <tr>\n",
       "      <th>11868</th>\n",
       "      <td>1.301519e+15</td>\n",
       "      <td>2015-09-04 19:25:25</td>\n",
       "      <td>14.81</td>\n",
       "      <td>-76.028167</td>\n",
       "      <td>41.342973</td>\n",
       "      <td>2015.0</td>\n",
       "      <td>9.0</td>\n",
       "      <td>4.0</td>\n",
       "      <td>4.0</td>\n",
       "      <td>19.0</td>\n",
       "      <td>2.695303</td>\n",
       "      <td>3.721902</td>\n",
       "      <td>NaN</td>\n",
       "      <td>-0.903116</td>\n",
       "      <td>-1.574694</td>\n",
       "    </tr>\n",
       "    <tr>\n",
       "      <th>13580</th>\n",
       "      <td>1.368742e+15</td>\n",
       "      <td>2015-08-28 01:48:11</td>\n",
       "      <td>49.11</td>\n",
       "      <td>-73.938694</td>\n",
       "      <td>40.694148</td>\n",
       "      <td>2015.0</td>\n",
       "      <td>8.0</td>\n",
       "      <td>28.0</td>\n",
       "      <td>4.0</td>\n",
       "      <td>1.0</td>\n",
       "      <td>3.894063</td>\n",
       "      <td>3.706084</td>\n",
       "      <td>NaN</td>\n",
       "      <td>-1.412554</td>\n",
       "      <td>0.831406</td>\n",
       "    </tr>\n",
       "    <tr>\n",
       "      <th>13933</th>\n",
       "      <td>1.380554e+15</td>\n",
       "      <td>2015-10-29 23:15:38</td>\n",
       "      <td>72.66</td>\n",
       "      <td>-4.150248</td>\n",
       "      <td>27.941805</td>\n",
       "      <td>2015.0</td>\n",
       "      <td>10.0</td>\n",
       "      <td>29.0</td>\n",
       "      <td>3.0</td>\n",
       "      <td>23.0</td>\n",
       "      <td>4.285791</td>\n",
       "      <td>3.330124</td>\n",
       "      <td>NaN</td>\n",
       "      <td>2.564631</td>\n",
       "      <td>4.277846</td>\n",
       "    </tr>\n",
       "    <tr>\n",
       "      <th>14038</th>\n",
       "      <td>1.380554e+15</td>\n",
       "      <td>2015-08-06 22:00:48</td>\n",
       "      <td>23.39</td>\n",
       "      <td>-71.722114</td>\n",
       "      <td>42.437388</td>\n",
       "      <td>2015.0</td>\n",
       "      <td>8.0</td>\n",
       "      <td>6.0</td>\n",
       "      <td>3.0</td>\n",
       "      <td>22.0</td>\n",
       "      <td>3.152309</td>\n",
       "      <td>3.748030</td>\n",
       "      <td>NaN</td>\n",
       "      <td>0.405278</td>\n",
       "      <td>1.506990</td>\n",
       "    </tr>\n",
       "    <tr>\n",
       "      <th>14200</th>\n",
       "      <td>1.388344e+15</td>\n",
       "      <td>2015-08-07 18:57:41</td>\n",
       "      <td>39.56</td>\n",
       "      <td>-81.464195</td>\n",
       "      <td>38.197252</td>\n",
       "      <td>2015.0</td>\n",
       "      <td>8.0</td>\n",
       "      <td>7.0</td>\n",
       "      <td>4.0</td>\n",
       "      <td>18.0</td>\n",
       "      <td>3.677819</td>\n",
       "      <td>3.642764</td>\n",
       "      <td>NaN</td>\n",
       "      <td>1.008110</td>\n",
       "      <td>1.654212</td>\n",
       "    </tr>\n",
       "    <tr>\n",
       "      <th>15864</th>\n",
       "      <td>1.428403e+15</td>\n",
       "      <td>2015-10-21 19:48:42</td>\n",
       "      <td>25.79</td>\n",
       "      <td>-84.580560</td>\n",
       "      <td>39.179135</td>\n",
       "      <td>2015.0</td>\n",
       "      <td>10.0</td>\n",
       "      <td>21.0</td>\n",
       "      <td>2.0</td>\n",
       "      <td>19.0</td>\n",
       "      <td>3.249987</td>\n",
       "      <td>3.668144</td>\n",
       "      <td>NaN</td>\n",
       "      <td>0.564480</td>\n",
       "      <td>2.121701</td>\n",
       "    </tr>\n",
       "    <tr>\n",
       "      <th>16801</th>\n",
       "      <td>1.468687e+15</td>\n",
       "      <td>2015-09-19 00:03:12</td>\n",
       "      <td>63.74</td>\n",
       "      <td>-80.267840</td>\n",
       "      <td>40.311126</td>\n",
       "      <td>2015.0</td>\n",
       "      <td>9.0</td>\n",
       "      <td>19.0</td>\n",
       "      <td>5.0</td>\n",
       "      <td>0.0</td>\n",
       "      <td>4.154812</td>\n",
       "      <td>3.696628</td>\n",
       "      <td>NaN</td>\n",
       "      <td>-0.467538</td>\n",
       "      <td>1.394412</td>\n",
       "    </tr>\n",
       "    <tr>\n",
       "      <th>17358</th>\n",
       "      <td>1.475827e+15</td>\n",
       "      <td>2015-10-22 21:47:00</td>\n",
       "      <td>58.86</td>\n",
       "      <td>-69.103816</td>\n",
       "      <td>45.005112</td>\n",
       "      <td>2015.0</td>\n",
       "      <td>10.0</td>\n",
       "      <td>22.0</td>\n",
       "      <td>3.0</td>\n",
       "      <td>21.0</td>\n",
       "      <td>4.075162</td>\n",
       "      <td>3.806776</td>\n",
       "      <td>NaN</td>\n",
       "      <td>1.403015</td>\n",
       "      <td>1.964511</td>\n",
       "    </tr>\n",
       "    <tr>\n",
       "      <th>18035</th>\n",
       "      <td>1.488825e+15</td>\n",
       "      <td>2015-10-09 20:41:19</td>\n",
       "      <td>24.17</td>\n",
       "      <td>-80.173473</td>\n",
       "      <td>40.239664</td>\n",
       "      <td>2015.0</td>\n",
       "      <td>10.0</td>\n",
       "      <td>9.0</td>\n",
       "      <td>4.0</td>\n",
       "      <td>20.0</td>\n",
       "      <td>3.185112</td>\n",
       "      <td>3.694853</td>\n",
       "      <td>NaN</td>\n",
       "      <td>-0.359530</td>\n",
       "      <td>1.370733</td>\n",
       "    </tr>\n",
       "    <tr>\n",
       "      <th>19807</th>\n",
       "      <td>1.538309e+15</td>\n",
       "      <td>2015-10-13 20:26:13</td>\n",
       "      <td>70.41</td>\n",
       "      <td>-80.204448</td>\n",
       "      <td>40.235103</td>\n",
       "      <td>2015.0</td>\n",
       "      <td>10.0</td>\n",
       "      <td>13.0</td>\n",
       "      <td>1.0</td>\n",
       "      <td>20.0</td>\n",
       "      <td>4.254335</td>\n",
       "      <td>3.694740</td>\n",
       "      <td>NaN</td>\n",
       "      <td>-0.353016</td>\n",
       "      <td>1.378567</td>\n",
       "    </tr>\n",
       "    <tr>\n",
       "      <th>21186</th>\n",
       "      <td>1.582805e+15</td>\n",
       "      <td>2015-10-17 22:42:12</td>\n",
       "      <td>142.10</td>\n",
       "      <td>-72.611672</td>\n",
       "      <td>42.085905</td>\n",
       "      <td>2015.0</td>\n",
       "      <td>10.0</td>\n",
       "      <td>17.0</td>\n",
       "      <td>5.0</td>\n",
       "      <td>22.0</td>\n",
       "      <td>4.956531</td>\n",
       "      <td>3.739713</td>\n",
       "      <td>NaN</td>\n",
       "      <td>0.138227</td>\n",
       "      <td>1.287459</td>\n",
       "    </tr>\n",
       "    <tr>\n",
       "      <th>21335</th>\n",
       "      <td>1.582805e+15</td>\n",
       "      <td>2015-09-19 23:44:22</td>\n",
       "      <td>185.29</td>\n",
       "      <td>-72.558215</td>\n",
       "      <td>42.116214</td>\n",
       "      <td>2015.0</td>\n",
       "      <td>9.0</td>\n",
       "      <td>19.0</td>\n",
       "      <td>5.0</td>\n",
       "      <td>23.0</td>\n",
       "      <td>5.221922</td>\n",
       "      <td>3.740433</td>\n",
       "      <td>NaN</td>\n",
       "      <td>0.164281</td>\n",
       "      <td>1.302104</td>\n",
       "    </tr>\n",
       "    <tr>\n",
       "      <th>23782</th>\n",
       "      <td>1.688895e+15</td>\n",
       "      <td>2015-08-28 19:40:05</td>\n",
       "      <td>58.71</td>\n",
       "      <td>20.486960</td>\n",
       "      <td>1.612717</td>\n",
       "      <td>2015.0</td>\n",
       "      <td>8.0</td>\n",
       "      <td>28.0</td>\n",
       "      <td>4.0</td>\n",
       "      <td>19.0</td>\n",
       "      <td>4.072610</td>\n",
       "      <td>0.477920</td>\n",
       "      <td>3.019789</td>\n",
       "      <td>3.671859</td>\n",
       "      <td>4.571843</td>\n",
       "    </tr>\n",
       "    <tr>\n",
       "      <th>25526</th>\n",
       "      <td>1.742293e+15</td>\n",
       "      <td>2015-10-17 02:31:42</td>\n",
       "      <td>82.56</td>\n",
       "      <td>-76.657805</td>\n",
       "      <td>40.660625</td>\n",
       "      <td>2015.0</td>\n",
       "      <td>10.0</td>\n",
       "      <td>17.0</td>\n",
       "      <td>5.0</td>\n",
       "      <td>2.0</td>\n",
       "      <td>4.413525</td>\n",
       "      <td>3.705260</td>\n",
       "      <td>NaN</td>\n",
       "      <td>-1.283579</td>\n",
       "      <td>-0.861407</td>\n",
       "    </tr>\n",
       "    <tr>\n",
       "      <th>26580</th>\n",
       "      <td>1.761568e+15</td>\n",
       "      <td>2015-09-17 00:27:30</td>\n",
       "      <td>8.20</td>\n",
       "      <td>-72.085528</td>\n",
       "      <td>43.234619</td>\n",
       "      <td>2015.0</td>\n",
       "      <td>9.0</td>\n",
       "      <td>17.0</td>\n",
       "      <td>3.0</td>\n",
       "      <td>0.0</td>\n",
       "      <td>2.104134</td>\n",
       "      <td>3.766642</td>\n",
       "      <td>NaN</td>\n",
       "      <td>0.831582</td>\n",
       "      <td>1.423038</td>\n",
       "    </tr>\n",
       "    <tr>\n",
       "      <th>28194</th>\n",
       "      <td>1.809105e+15</td>\n",
       "      <td>2015-08-30 23:24:45</td>\n",
       "      <td>17.80</td>\n",
       "      <td>-72.125301</td>\n",
       "      <td>43.158385</td>\n",
       "      <td>2015.0</td>\n",
       "      <td>8.0</td>\n",
       "      <td>30.0</td>\n",
       "      <td>6.0</td>\n",
       "      <td>23.0</td>\n",
       "      <td>2.879198</td>\n",
       "      <td>3.764877</td>\n",
       "      <td>NaN</td>\n",
       "      <td>0.797830</td>\n",
       "      <td>1.413408</td>\n",
       "    </tr>\n",
       "    <tr>\n",
       "      <th>28330</th>\n",
       "      <td>1.827724e+15</td>\n",
       "      <td>2015-09-27 23:42:00</td>\n",
       "      <td>112.71</td>\n",
       "      <td>-70.972594</td>\n",
       "      <td>42.437003</td>\n",
       "      <td>2015.0</td>\n",
       "      <td>9.0</td>\n",
       "      <td>27.0</td>\n",
       "      <td>6.0</td>\n",
       "      <td>23.0</td>\n",
       "      <td>4.724818</td>\n",
       "      <td>3.748021</td>\n",
       "      <td>NaN</td>\n",
       "      <td>0.405021</td>\n",
       "      <td>1.660634</td>\n",
       "    </tr>\n",
       "    <tr>\n",
       "      <th>28772</th>\n",
       "      <td>1.838947e+15</td>\n",
       "      <td>2015-09-06 01:01:10</td>\n",
       "      <td>110.00</td>\n",
       "      <td>-80.256304</td>\n",
       "      <td>40.173438</td>\n",
       "      <td>2015.0</td>\n",
       "      <td>9.0</td>\n",
       "      <td>6.0</td>\n",
       "      <td>6.0</td>\n",
       "      <td>1.0</td>\n",
       "      <td>4.700480</td>\n",
       "      <td>3.693206</td>\n",
       "      <td>NaN</td>\n",
       "      <td>-0.268886</td>\n",
       "      <td>1.391547</td>\n",
       "    </tr>\n",
       "    <tr>\n",
       "      <th>29194</th>\n",
       "      <td>1.845720e+15</td>\n",
       "      <td>2015-09-04 19:10:27</td>\n",
       "      <td>56.58</td>\n",
       "      <td>-89.018168</td>\n",
       "      <td>40.650359</td>\n",
       "      <td>2015.0</td>\n",
       "      <td>9.0</td>\n",
       "      <td>4.0</td>\n",
       "      <td>4.0</td>\n",
       "      <td>19.0</td>\n",
       "      <td>4.035656</td>\n",
       "      <td>3.705008</td>\n",
       "      <td>NaN</td>\n",
       "      <td>-1.247194</td>\n",
       "      <td>2.548111</td>\n",
       "    </tr>\n",
       "    <tr>\n",
       "      <th>32398</th>\n",
       "      <td>2.006319e+15</td>\n",
       "      <td>2015-08-26 22:39:37</td>\n",
       "      <td>45.11</td>\n",
       "      <td>-72.584870</td>\n",
       "      <td>42.219794</td>\n",
       "      <td>2015.0</td>\n",
       "      <td>8.0</td>\n",
       "      <td>26.0</td>\n",
       "      <td>2.0</td>\n",
       "      <td>22.0</td>\n",
       "      <td>3.809104</td>\n",
       "      <td>3.742889</td>\n",
       "      <td>NaN</td>\n",
       "      <td>0.248519</td>\n",
       "      <td>1.294828</td>\n",
       "    </tr>\n",
       "    <tr>\n",
       "      <th>33327</th>\n",
       "      <td>2.015752e+15</td>\n",
       "      <td>2015-08-28 17:23:18</td>\n",
       "      <td>18.01</td>\n",
       "      <td>-72.084398</td>\n",
       "      <td>43.184259</td>\n",
       "      <td>2015.0</td>\n",
       "      <td>8.0</td>\n",
       "      <td>28.0</td>\n",
       "      <td>4.0</td>\n",
       "      <td>17.0</td>\n",
       "      <td>2.890927</td>\n",
       "      <td>3.765476</td>\n",
       "      <td>NaN</td>\n",
       "      <td>0.809414</td>\n",
       "      <td>1.423311</td>\n",
       "    </tr>\n",
       "    <tr>\n",
       "      <th>34652</th>\n",
       "      <td>2.035931e+15</td>\n",
       "      <td>2015-10-16 01:36:08</td>\n",
       "      <td>17.35</td>\n",
       "      <td>-72.155416</td>\n",
       "      <td>43.201008</td>\n",
       "      <td>2015.0</td>\n",
       "      <td>10.0</td>\n",
       "      <td>16.0</td>\n",
       "      <td>4.0</td>\n",
       "      <td>1.0</td>\n",
       "      <td>2.853593</td>\n",
       "      <td>3.765864</td>\n",
       "      <td>NaN</td>\n",
       "      <td>0.816841</td>\n",
       "      <td>1.406053</td>\n",
       "    </tr>\n",
       "    <tr>\n",
       "      <th>37597</th>\n",
       "      <td>2.109905e+15</td>\n",
       "      <td>2015-10-17 23:07:53</td>\n",
       "      <td>147.77</td>\n",
       "      <td>-72.056413</td>\n",
       "      <td>43.173643</td>\n",
       "      <td>2015.0</td>\n",
       "      <td>10.0</td>\n",
       "      <td>17.0</td>\n",
       "      <td>5.0</td>\n",
       "      <td>23.0</td>\n",
       "      <td>4.995657</td>\n",
       "      <td>3.765230</td>\n",
       "      <td>NaN</td>\n",
       "      <td>0.804677</td>\n",
       "      <td>1.430030</td>\n",
       "    </tr>\n",
       "    <tr>\n",
       "      <th>39459</th>\n",
       "      <td>2.197408e+15</td>\n",
       "      <td>2015-10-22 20:38:33</td>\n",
       "      <td>76.17</td>\n",
       "      <td>-83.549538</td>\n",
       "      <td>30.738066</td>\n",
       "      <td>2015.0</td>\n",
       "      <td>10.0</td>\n",
       "      <td>22.0</td>\n",
       "      <td>3.0</td>\n",
       "      <td>20.0</td>\n",
       "      <td>4.332968</td>\n",
       "      <td>3.425502</td>\n",
       "      <td>NaN</td>\n",
       "      <td>2.322349</td>\n",
       "      <td>1.989831</td>\n",
       "    </tr>\n",
       "    <tr>\n",
       "      <th>39591</th>\n",
       "      <td>2.197408e+15</td>\n",
       "      <td>2015-10-03 22:52:37</td>\n",
       "      <td>49.65</td>\n",
       "      <td>-83.608974</td>\n",
       "      <td>30.843530</td>\n",
       "      <td>2015.0</td>\n",
       "      <td>10.0</td>\n",
       "      <td>3.0</td>\n",
       "      <td>5.0</td>\n",
       "      <td>22.0</td>\n",
       "      <td>3.904998</td>\n",
       "      <td>3.428927</td>\n",
       "      <td>NaN</td>\n",
       "      <td>2.311955</td>\n",
       "      <td>1.997924</td>\n",
       "    </tr>\n",
       "    <tr>\n",
       "      <th>41713</th>\n",
       "      <td>2.238145e+15</td>\n",
       "      <td>2015-10-01 22:15:28</td>\n",
       "      <td>28.54</td>\n",
       "      <td>-78.815005</td>\n",
       "      <td>42.925422</td>\n",
       "      <td>2015.0</td>\n",
       "      <td>10.0</td>\n",
       "      <td>1.0</td>\n",
       "      <td>3.0</td>\n",
       "      <td>22.0</td>\n",
       "      <td>3.351307</td>\n",
       "      <td>3.759464</td>\n",
       "      <td>NaN</td>\n",
       "      <td>0.687005</td>\n",
       "      <td>0.947699</td>\n",
       "    </tr>\n",
       "    <tr>\n",
       "      <th>...</th>\n",
       "      <td>...</td>\n",
       "      <td>...</td>\n",
       "      <td>...</td>\n",
       "      <td>...</td>\n",
       "      <td>...</td>\n",
       "      <td>...</td>\n",
       "      <td>...</td>\n",
       "      <td>...</td>\n",
       "      <td>...</td>\n",
       "      <td>...</td>\n",
       "      <td>...</td>\n",
       "      <td>...</td>\n",
       "      <td>...</td>\n",
       "      <td>...</td>\n",
       "      <td>...</td>\n",
       "    </tr>\n",
       "    <tr>\n",
       "      <th>231903</th>\n",
       "      <td>7.874281e+15</td>\n",
       "      <td>2015-08-15 16:47:37</td>\n",
       "      <td>9.83</td>\n",
       "      <td>-72.096444</td>\n",
       "      <td>43.186307</td>\n",
       "      <td>2015.0</td>\n",
       "      <td>8.0</td>\n",
       "      <td>15.0</td>\n",
       "      <td>5.0</td>\n",
       "      <td>16.0</td>\n",
       "      <td>2.285439</td>\n",
       "      <td>3.765523</td>\n",
       "      <td>NaN</td>\n",
       "      <td>0.810325</td>\n",
       "      <td>1.420404</td>\n",
       "    </tr>\n",
       "    <tr>\n",
       "      <th>235235</th>\n",
       "      <td>7.962836e+15</td>\n",
       "      <td>2015-09-12 20:10:30</td>\n",
       "      <td>84.68</td>\n",
       "      <td>-80.263646</td>\n",
       "      <td>40.309973</td>\n",
       "      <td>2015.0</td>\n",
       "      <td>9.0</td>\n",
       "      <td>12.0</td>\n",
       "      <td>5.0</td>\n",
       "      <td>20.0</td>\n",
       "      <td>4.438879</td>\n",
       "      <td>3.696599</td>\n",
       "      <td>NaN</td>\n",
       "      <td>-0.465699</td>\n",
       "      <td>1.393371</td>\n",
       "    </tr>\n",
       "    <tr>\n",
       "      <th>236188</th>\n",
       "      <td>8.011570e+15</td>\n",
       "      <td>2015-10-02 00:20:00</td>\n",
       "      <td>20.46</td>\n",
       "      <td>-75.659459</td>\n",
       "      <td>44.231011</td>\n",
       "      <td>2015.0</td>\n",
       "      <td>10.0</td>\n",
       "      <td>2.0</td>\n",
       "      <td>4.0</td>\n",
       "      <td>0.0</td>\n",
       "      <td>3.018472</td>\n",
       "      <td>3.789426</td>\n",
       "      <td>NaN</td>\n",
       "      <td>1.191903</td>\n",
       "      <td>-0.552031</td>\n",
       "    </tr>\n",
       "    <tr>\n",
       "      <th>236993</th>\n",
       "      <td>8.032812e+15</td>\n",
       "      <td>2015-09-24 22:32:54</td>\n",
       "      <td>25.23</td>\n",
       "      <td>-72.018725</td>\n",
       "      <td>43.156461</td>\n",
       "      <td>2015.0</td>\n",
       "      <td>9.0</td>\n",
       "      <td>24.0</td>\n",
       "      <td>3.0</td>\n",
       "      <td>22.0</td>\n",
       "      <td>3.228034</td>\n",
       "      <td>3.764832</td>\n",
       "      <td>NaN</td>\n",
       "      <td>0.796963</td>\n",
       "      <td>1.439009</td>\n",
       "    </tr>\n",
       "    <tr>\n",
       "      <th>238492</th>\n",
       "      <td>8.123290e+15</td>\n",
       "      <td>2015-08-07 00:42:57</td>\n",
       "      <td>909.03</td>\n",
       "      <td>-67.109956</td>\n",
       "      <td>18.547320</td>\n",
       "      <td>2015.0</td>\n",
       "      <td>8.0</td>\n",
       "      <td>7.0</td>\n",
       "      <td>4.0</td>\n",
       "      <td>0.0</td>\n",
       "      <td>6.812378</td>\n",
       "      <td>2.920325</td>\n",
       "      <td>NaN</td>\n",
       "      <td>3.108630</td>\n",
       "      <td>2.211049</td>\n",
       "    </tr>\n",
       "    <tr>\n",
       "      <th>238588</th>\n",
       "      <td>8.123290e+15</td>\n",
       "      <td>2015-09-29 02:29:09</td>\n",
       "      <td>79.72</td>\n",
       "      <td>-67.174134</td>\n",
       "      <td>18.469833</td>\n",
       "      <td>2015.0</td>\n",
       "      <td>9.0</td>\n",
       "      <td>29.0</td>\n",
       "      <td>1.0</td>\n",
       "      <td>2.0</td>\n",
       "      <td>4.378520</td>\n",
       "      <td>2.916139</td>\n",
       "      <td>NaN</td>\n",
       "      <td>3.112085</td>\n",
       "      <td>2.203991</td>\n",
       "    </tr>\n",
       "    <tr>\n",
       "      <th>238955</th>\n",
       "      <td>8.137811e+15</td>\n",
       "      <td>2015-09-07 22:28:16</td>\n",
       "      <td>82.72</td>\n",
       "      <td>-72.043349</td>\n",
       "      <td>43.130286</td>\n",
       "      <td>2015.0</td>\n",
       "      <td>9.0</td>\n",
       "      <td>7.0</td>\n",
       "      <td>0.0</td>\n",
       "      <td>22.0</td>\n",
       "      <td>4.415461</td>\n",
       "      <td>3.764225</td>\n",
       "      <td>NaN</td>\n",
       "      <td>0.785096</td>\n",
       "      <td>1.433151</td>\n",
       "    </tr>\n",
       "    <tr>\n",
       "      <th>239929</th>\n",
       "      <td>8.152579e+15</td>\n",
       "      <td>2015-10-10 20:39:33</td>\n",
       "      <td>30.88</td>\n",
       "      <td>-77.429168</td>\n",
       "      <td>42.554537</td>\n",
       "      <td>2015.0</td>\n",
       "      <td>10.0</td>\n",
       "      <td>10.0</td>\n",
       "      <td>5.0</td>\n",
       "      <td>20.0</td>\n",
       "      <td>3.430109</td>\n",
       "      <td>3.750786</td>\n",
       "      <td>NaN</td>\n",
       "      <td>0.480491</td>\n",
       "      <td>0.177250</td>\n",
       "    </tr>\n",
       "    <tr>\n",
       "      <th>249862</th>\n",
       "      <td>8.413908e+15</td>\n",
       "      <td>2015-10-01 22:53:51</td>\n",
       "      <td>148.92</td>\n",
       "      <td>-73.969317</td>\n",
       "      <td>40.686430</td>\n",
       "      <td>2015.0</td>\n",
       "      <td>10.0</td>\n",
       "      <td>1.0</td>\n",
       "      <td>3.0</td>\n",
       "      <td>22.0</td>\n",
       "      <td>5.003409</td>\n",
       "      <td>3.705895</td>\n",
       "      <td>NaN</td>\n",
       "      <td>-1.381352</td>\n",
       "      <td>0.817981</td>\n",
       "    </tr>\n",
       "    <tr>\n",
       "      <th>251754</th>\n",
       "      <td>8.505336e+15</td>\n",
       "      <td>2015-08-14 03:27:02</td>\n",
       "      <td>17.34</td>\n",
       "      <td>-94.514238</td>\n",
       "      <td>39.119986</td>\n",
       "      <td>2015.0</td>\n",
       "      <td>8.0</td>\n",
       "      <td>14.0</td>\n",
       "      <td>4.0</td>\n",
       "      <td>3.0</td>\n",
       "      <td>2.853016</td>\n",
       "      <td>3.666633</td>\n",
       "      <td>NaN</td>\n",
       "      <td>0.597562</td>\n",
       "      <td>2.905753</td>\n",
       "    </tr>\n",
       "    <tr>\n",
       "      <th>251934</th>\n",
       "      <td>8.516934e+15</td>\n",
       "      <td>2015-09-11 22:15:52</td>\n",
       "      <td>81.91</td>\n",
       "      <td>-80.260336</td>\n",
       "      <td>40.290716</td>\n",
       "      <td>2015.0</td>\n",
       "      <td>9.0</td>\n",
       "      <td>11.0</td>\n",
       "      <td>4.0</td>\n",
       "      <td>22.0</td>\n",
       "      <td>4.405621</td>\n",
       "      <td>3.696121</td>\n",
       "      <td>NaN</td>\n",
       "      <td>-0.435482</td>\n",
       "      <td>1.392549</td>\n",
       "    </tr>\n",
       "    <tr>\n",
       "      <th>252705</th>\n",
       "      <td>8.533111e+15</td>\n",
       "      <td>2015-09-11 17:08:29</td>\n",
       "      <td>53.66</td>\n",
       "      <td>-74.003937</td>\n",
       "      <td>40.748645</td>\n",
       "      <td>2015.0</td>\n",
       "      <td>9.0</td>\n",
       "      <td>11.0</td>\n",
       "      <td>4.0</td>\n",
       "      <td>17.0</td>\n",
       "      <td>3.982668</td>\n",
       "      <td>3.707423</td>\n",
       "      <td>NaN</td>\n",
       "      <td>-1.665882</td>\n",
       "      <td>0.802585</td>\n",
       "    </tr>\n",
       "    <tr>\n",
       "      <th>252815</th>\n",
       "      <td>8.534199e+15</td>\n",
       "      <td>2015-10-14 22:50:48</td>\n",
       "      <td>76.50</td>\n",
       "      <td>-93.615899</td>\n",
       "      <td>41.693477</td>\n",
       "      <td>2015.0</td>\n",
       "      <td>10.0</td>\n",
       "      <td>14.0</td>\n",
       "      <td>2.0</td>\n",
       "      <td>22.0</td>\n",
       "      <td>4.337291</td>\n",
       "      <td>3.730345</td>\n",
       "      <td>NaN</td>\n",
       "      <td>-0.279968</td>\n",
       "      <td>2.855358</td>\n",
       "    </tr>\n",
       "    <tr>\n",
       "      <th>255057</th>\n",
       "      <td>8.561516e+15</td>\n",
       "      <td>2015-10-22 01:37:18</td>\n",
       "      <td>39.28</td>\n",
       "      <td>-80.295096</td>\n",
       "      <td>40.211219</td>\n",
       "      <td>2015.0</td>\n",
       "      <td>10.0</td>\n",
       "      <td>22.0</td>\n",
       "      <td>3.0</td>\n",
       "      <td>1.0</td>\n",
       "      <td>3.670715</td>\n",
       "      <td>3.694146</td>\n",
       "      <td>NaN</td>\n",
       "      <td>-0.319586</td>\n",
       "      <td>1.401148</td>\n",
       "    </tr>\n",
       "    <tr>\n",
       "      <th>256744</th>\n",
       "      <td>8.596603e+15</td>\n",
       "      <td>2015-10-09 22:15:51</td>\n",
       "      <td>30.03</td>\n",
       "      <td>-72.153245</td>\n",
       "      <td>43.138824</td>\n",
       "      <td>2015.0</td>\n",
       "      <td>10.0</td>\n",
       "      <td>9.0</td>\n",
       "      <td>4.0</td>\n",
       "      <td>22.0</td>\n",
       "      <td>3.402197</td>\n",
       "      <td>3.764423</td>\n",
       "      <td>NaN</td>\n",
       "      <td>0.788982</td>\n",
       "      <td>1.406585</td>\n",
       "    </tr>\n",
       "    <tr>\n",
       "      <th>259533</th>\n",
       "      <td>8.736639e+15</td>\n",
       "      <td>2015-09-28 18:28:14</td>\n",
       "      <td>40.17</td>\n",
       "      <td>-76.331688</td>\n",
       "      <td>43.245522</td>\n",
       "      <td>2015.0</td>\n",
       "      <td>9.0</td>\n",
       "      <td>28.0</td>\n",
       "      <td>0.0</td>\n",
       "      <td>18.0</td>\n",
       "      <td>3.693120</td>\n",
       "      <td>3.766894</td>\n",
       "      <td>NaN</td>\n",
       "      <td>0.836318</td>\n",
       "      <td>-2.338734</td>\n",
       "    </tr>\n",
       "    <tr>\n",
       "      <th>261066</th>\n",
       "      <td>8.822567e+15</td>\n",
       "      <td>2015-09-15 19:29:10</td>\n",
       "      <td>92.55</td>\n",
       "      <td>-72.085494</td>\n",
       "      <td>43.164077</td>\n",
       "      <td>2015.0</td>\n",
       "      <td>9.0</td>\n",
       "      <td>15.0</td>\n",
       "      <td>1.0</td>\n",
       "      <td>19.0</td>\n",
       "      <td>4.527749</td>\n",
       "      <td>3.765009</td>\n",
       "      <td>NaN</td>\n",
       "      <td>0.800390</td>\n",
       "      <td>1.423047</td>\n",
       "    </tr>\n",
       "    <tr>\n",
       "      <th>261343</th>\n",
       "      <td>8.867710e+15</td>\n",
       "      <td>2015-10-10 00:17:14</td>\n",
       "      <td>30.98</td>\n",
       "      <td>-118.267245</td>\n",
       "      <td>33.997495</td>\n",
       "      <td>2015.0</td>\n",
       "      <td>10.0</td>\n",
       "      <td>10.0</td>\n",
       "      <td>5.0</td>\n",
       "      <td>0.0</td>\n",
       "      <td>3.433342</td>\n",
       "      <td>3.526287</td>\n",
       "      <td>NaN</td>\n",
       "      <td>1.937327</td>\n",
       "      <td>3.738431</td>\n",
       "    </tr>\n",
       "    <tr>\n",
       "      <th>265658</th>\n",
       "      <td>9.076783e+15</td>\n",
       "      <td>2015-09-11 20:52:23</td>\n",
       "      <td>132.78</td>\n",
       "      <td>-72.098417</td>\n",
       "      <td>43.151067</td>\n",
       "      <td>2015.0</td>\n",
       "      <td>9.0</td>\n",
       "      <td>11.0</td>\n",
       "      <td>4.0</td>\n",
       "      <td>20.0</td>\n",
       "      <td>4.888694</td>\n",
       "      <td>3.764707</td>\n",
       "      <td>NaN</td>\n",
       "      <td>0.794529</td>\n",
       "      <td>1.419928</td>\n",
       "    </tr>\n",
       "    <tr>\n",
       "      <th>266940</th>\n",
       "      <td>9.194499e+15</td>\n",
       "      <td>2015-10-06 15:54:02</td>\n",
       "      <td>149.67</td>\n",
       "      <td>-72.146467</td>\n",
       "      <td>43.116905</td>\n",
       "      <td>2015.0</td>\n",
       "      <td>10.0</td>\n",
       "      <td>6.0</td>\n",
       "      <td>1.0</td>\n",
       "      <td>15.0</td>\n",
       "      <td>5.008433</td>\n",
       "      <td>3.763915</td>\n",
       "      <td>NaN</td>\n",
       "      <td>0.778975</td>\n",
       "      <td>1.408244</td>\n",
       "    </tr>\n",
       "    <tr>\n",
       "      <th>267096</th>\n",
       "      <td>9.194499e+15</td>\n",
       "      <td>2015-10-23 17:22:26</td>\n",
       "      <td>125.21</td>\n",
       "      <td>-72.166406</td>\n",
       "      <td>43.125197</td>\n",
       "      <td>2015.0</td>\n",
       "      <td>10.0</td>\n",
       "      <td>23.0</td>\n",
       "      <td>4.0</td>\n",
       "      <td>17.0</td>\n",
       "      <td>4.829992</td>\n",
       "      <td>3.764107</td>\n",
       "      <td>NaN</td>\n",
       "      <td>0.782772</td>\n",
       "      <td>1.403356</td>\n",
       "    </tr>\n",
       "    <tr>\n",
       "      <th>268891</th>\n",
       "      <td>9.246396e+15</td>\n",
       "      <td>2015-10-23 15:59:32</td>\n",
       "      <td>70.09</td>\n",
       "      <td>-74.733111</td>\n",
       "      <td>40.214923</td>\n",
       "      <td>2015.0</td>\n",
       "      <td>10.0</td>\n",
       "      <td>23.0</td>\n",
       "      <td>4.0</td>\n",
       "      <td>15.0</td>\n",
       "      <td>4.249780</td>\n",
       "      <td>3.694238</td>\n",
       "      <td>NaN</td>\n",
       "      <td>-0.324698</td>\n",
       "      <td>0.406882</td>\n",
       "    </tr>\n",
       "    <tr>\n",
       "      <th>271217</th>\n",
       "      <td>9.309465e+15</td>\n",
       "      <td>2015-08-13 23:34:10</td>\n",
       "      <td>29.09</td>\n",
       "      <td>-73.218288</td>\n",
       "      <td>44.371227</td>\n",
       "      <td>2015.0</td>\n",
       "      <td>8.0</td>\n",
       "      <td>13.0</td>\n",
       "      <td>3.0</td>\n",
       "      <td>23.0</td>\n",
       "      <td>3.370394</td>\n",
       "      <td>3.792591</td>\n",
       "      <td>NaN</td>\n",
       "      <td>1.233597</td>\n",
       "      <td>1.104246</td>\n",
       "    </tr>\n",
       "    <tr>\n",
       "      <th>271407</th>\n",
       "      <td>9.309465e+15</td>\n",
       "      <td>2015-08-07 21:46:13</td>\n",
       "      <td>61.82</td>\n",
       "      <td>-73.196379</td>\n",
       "      <td>44.283911</td>\n",
       "      <td>2015.0</td>\n",
       "      <td>8.0</td>\n",
       "      <td>7.0</td>\n",
       "      <td>4.0</td>\n",
       "      <td>21.0</td>\n",
       "      <td>4.124227</td>\n",
       "      <td>3.790621</td>\n",
       "      <td>NaN</td>\n",
       "      <td>1.207838</td>\n",
       "      <td>1.111482</td>\n",
       "    </tr>\n",
       "    <tr>\n",
       "      <th>271545</th>\n",
       "      <td>9.309465e+15</td>\n",
       "      <td>2015-08-01 23:19:44</td>\n",
       "      <td>51.20</td>\n",
       "      <td>-73.213913</td>\n",
       "      <td>44.309486</td>\n",
       "      <td>2015.0</td>\n",
       "      <td>8.0</td>\n",
       "      <td>1.0</td>\n",
       "      <td>5.0</td>\n",
       "      <td>23.0</td>\n",
       "      <td>3.935740</td>\n",
       "      <td>3.791199</td>\n",
       "      <td>NaN</td>\n",
       "      <td>1.215452</td>\n",
       "      <td>1.105696</td>\n",
       "    </tr>\n",
       "    <tr>\n",
       "      <th>271813</th>\n",
       "      <td>9.310903e+15</td>\n",
       "      <td>2015-09-23 22:01:27</td>\n",
       "      <td>29.30</td>\n",
       "      <td>-72.105842</td>\n",
       "      <td>43.161877</td>\n",
       "      <td>2015.0</td>\n",
       "      <td>9.0</td>\n",
       "      <td>23.0</td>\n",
       "      <td>2.0</td>\n",
       "      <td>22.0</td>\n",
       "      <td>3.377588</td>\n",
       "      <td>3.764958</td>\n",
       "      <td>NaN</td>\n",
       "      <td>0.799401</td>\n",
       "      <td>1.418131</td>\n",
       "    </tr>\n",
       "    <tr>\n",
       "      <th>274461</th>\n",
       "      <td>9.426549e+15</td>\n",
       "      <td>2015-10-11 16:59:57</td>\n",
       "      <td>27.29</td>\n",
       "      <td>-80.248472</td>\n",
       "      <td>40.239483</td>\n",
       "      <td>2015.0</td>\n",
       "      <td>10.0</td>\n",
       "      <td>11.0</td>\n",
       "      <td>6.0</td>\n",
       "      <td>16.0</td>\n",
       "      <td>3.306520</td>\n",
       "      <td>3.694849</td>\n",
       "      <td>NaN</td>\n",
       "      <td>-0.359270</td>\n",
       "      <td>1.389597</td>\n",
       "    </tr>\n",
       "    <tr>\n",
       "      <th>279132</th>\n",
       "      <td>9.552289e+15</td>\n",
       "      <td>2015-08-02 00:27:21</td>\n",
       "      <td>135.31</td>\n",
       "      <td>-122.701798</td>\n",
       "      <td>37.787099</td>\n",
       "      <td>2015.0</td>\n",
       "      <td>8.0</td>\n",
       "      <td>2.0</td>\n",
       "      <td>6.0</td>\n",
       "      <td>0.0</td>\n",
       "      <td>4.907568</td>\n",
       "      <td>3.631968</td>\n",
       "      <td>NaN</td>\n",
       "      <td>1.147583</td>\n",
       "      <td>3.838733</td>\n",
       "    </tr>\n",
       "    <tr>\n",
       "      <th>280164</th>\n",
       "      <td>9.577424e+15</td>\n",
       "      <td>2015-09-11 21:26:28</td>\n",
       "      <td>48.91</td>\n",
       "      <td>-72.958673</td>\n",
       "      <td>42.310039</td>\n",
       "      <td>2015.0</td>\n",
       "      <td>9.0</td>\n",
       "      <td>11.0</td>\n",
       "      <td>4.0</td>\n",
       "      <td>21.0</td>\n",
       "      <td>3.889982</td>\n",
       "      <td>3.745024</td>\n",
       "      <td>NaN</td>\n",
       "      <td>0.316539</td>\n",
       "      <td>1.186796</td>\n",
       "    </tr>\n",
       "    <tr>\n",
       "      <th>282692</th>\n",
       "      <td>9.621317e+15</td>\n",
       "      <td>2015-09-14 19:15:40</td>\n",
       "      <td>54.91</td>\n",
       "      <td>-72.122187</td>\n",
       "      <td>43.127900</td>\n",
       "      <td>2015.0</td>\n",
       "      <td>9.0</td>\n",
       "      <td>14.0</td>\n",
       "      <td>0.0</td>\n",
       "      <td>19.0</td>\n",
       "      <td>4.005695</td>\n",
       "      <td>3.764170</td>\n",
       "      <td>NaN</td>\n",
       "      <td>0.784007</td>\n",
       "      <td>1.414165</td>\n",
       "    </tr>\n",
       "  </tbody>\n",
       "</table>\n",
       "<p>171 rows × 15 columns</p>\n",
       "</div>"
      ],
      "text/plain": [
       "         credit_card                date  transaction_dollar_amount  \\\n",
       "83      1.003715e+15 2015-09-28 19:52:53                      32.23   \n",
       "2567    1.126572e+15 2015-08-14 20:39:20                      21.44   \n",
       "7790    1.210873e+15 2015-09-17 22:47:14                      41.86   \n",
       "10454   1.261412e+15 2015-09-26 16:53:32                     146.24   \n",
       "11868   1.301519e+15 2015-09-04 19:25:25                      14.81   \n",
       "13580   1.368742e+15 2015-08-28 01:48:11                      49.11   \n",
       "13933   1.380554e+15 2015-10-29 23:15:38                      72.66   \n",
       "14038   1.380554e+15 2015-08-06 22:00:48                      23.39   \n",
       "14200   1.388344e+15 2015-08-07 18:57:41                      39.56   \n",
       "15864   1.428403e+15 2015-10-21 19:48:42                      25.79   \n",
       "16801   1.468687e+15 2015-09-19 00:03:12                      63.74   \n",
       "17358   1.475827e+15 2015-10-22 21:47:00                      58.86   \n",
       "18035   1.488825e+15 2015-10-09 20:41:19                      24.17   \n",
       "19807   1.538309e+15 2015-10-13 20:26:13                      70.41   \n",
       "21186   1.582805e+15 2015-10-17 22:42:12                     142.10   \n",
       "21335   1.582805e+15 2015-09-19 23:44:22                     185.29   \n",
       "23782   1.688895e+15 2015-08-28 19:40:05                      58.71   \n",
       "25526   1.742293e+15 2015-10-17 02:31:42                      82.56   \n",
       "26580   1.761568e+15 2015-09-17 00:27:30                       8.20   \n",
       "28194   1.809105e+15 2015-08-30 23:24:45                      17.80   \n",
       "28330   1.827724e+15 2015-09-27 23:42:00                     112.71   \n",
       "28772   1.838947e+15 2015-09-06 01:01:10                     110.00   \n",
       "29194   1.845720e+15 2015-09-04 19:10:27                      56.58   \n",
       "32398   2.006319e+15 2015-08-26 22:39:37                      45.11   \n",
       "33327   2.015752e+15 2015-08-28 17:23:18                      18.01   \n",
       "34652   2.035931e+15 2015-10-16 01:36:08                      17.35   \n",
       "37597   2.109905e+15 2015-10-17 23:07:53                     147.77   \n",
       "39459   2.197408e+15 2015-10-22 20:38:33                      76.17   \n",
       "39591   2.197408e+15 2015-10-03 22:52:37                      49.65   \n",
       "41713   2.238145e+15 2015-10-01 22:15:28                      28.54   \n",
       "...              ...                 ...                        ...   \n",
       "231903  7.874281e+15 2015-08-15 16:47:37                       9.83   \n",
       "235235  7.962836e+15 2015-09-12 20:10:30                      84.68   \n",
       "236188  8.011570e+15 2015-10-02 00:20:00                      20.46   \n",
       "236993  8.032812e+15 2015-09-24 22:32:54                      25.23   \n",
       "238492  8.123290e+15 2015-08-07 00:42:57                     909.03   \n",
       "238588  8.123290e+15 2015-09-29 02:29:09                      79.72   \n",
       "238955  8.137811e+15 2015-09-07 22:28:16                      82.72   \n",
       "239929  8.152579e+15 2015-10-10 20:39:33                      30.88   \n",
       "249862  8.413908e+15 2015-10-01 22:53:51                     148.92   \n",
       "251754  8.505336e+15 2015-08-14 03:27:02                      17.34   \n",
       "251934  8.516934e+15 2015-09-11 22:15:52                      81.91   \n",
       "252705  8.533111e+15 2015-09-11 17:08:29                      53.66   \n",
       "252815  8.534199e+15 2015-10-14 22:50:48                      76.50   \n",
       "255057  8.561516e+15 2015-10-22 01:37:18                      39.28   \n",
       "256744  8.596603e+15 2015-10-09 22:15:51                      30.03   \n",
       "259533  8.736639e+15 2015-09-28 18:28:14                      40.17   \n",
       "261066  8.822567e+15 2015-09-15 19:29:10                      92.55   \n",
       "261343  8.867710e+15 2015-10-10 00:17:14                      30.98   \n",
       "265658  9.076783e+15 2015-09-11 20:52:23                     132.78   \n",
       "266940  9.194499e+15 2015-10-06 15:54:02                     149.67   \n",
       "267096  9.194499e+15 2015-10-23 17:22:26                     125.21   \n",
       "268891  9.246396e+15 2015-10-23 15:59:32                      70.09   \n",
       "271217  9.309465e+15 2015-08-13 23:34:10                      29.09   \n",
       "271407  9.309465e+15 2015-08-07 21:46:13                      61.82   \n",
       "271545  9.309465e+15 2015-08-01 23:19:44                      51.20   \n",
       "271813  9.310903e+15 2015-09-23 22:01:27                      29.30   \n",
       "274461  9.426549e+15 2015-10-11 16:59:57                      27.29   \n",
       "279132  9.552289e+15 2015-08-02 00:27:21                     135.31   \n",
       "280164  9.577424e+15 2015-09-11 21:26:28                      48.91   \n",
       "282692  9.621317e+15 2015-09-14 19:15:40                      54.91   \n",
       "\n",
       "              Long        Lat    year  month   day  weekday  hour  \\\n",
       "83      -80.144435  40.279707  2015.0    9.0  28.0      0.0  19.0   \n",
       "2567    -80.262460  40.167137  2015.0    8.0  14.0      4.0  20.0   \n",
       "7790    -74.673598  40.044686  2015.0    9.0  17.0      3.0  22.0   \n",
       "10454   -77.453015  42.537788  2015.0    9.0  26.0      5.0  16.0   \n",
       "11868   -76.028167  41.342973  2015.0    9.0   4.0      4.0  19.0   \n",
       "13580   -73.938694  40.694148  2015.0    8.0  28.0      4.0   1.0   \n",
       "13933    -4.150248  27.941805  2015.0   10.0  29.0      3.0  23.0   \n",
       "14038   -71.722114  42.437388  2015.0    8.0   6.0      3.0  22.0   \n",
       "14200   -81.464195  38.197252  2015.0    8.0   7.0      4.0  18.0   \n",
       "15864   -84.580560  39.179135  2015.0   10.0  21.0      2.0  19.0   \n",
       "16801   -80.267840  40.311126  2015.0    9.0  19.0      5.0   0.0   \n",
       "17358   -69.103816  45.005112  2015.0   10.0  22.0      3.0  21.0   \n",
       "18035   -80.173473  40.239664  2015.0   10.0   9.0      4.0  20.0   \n",
       "19807   -80.204448  40.235103  2015.0   10.0  13.0      1.0  20.0   \n",
       "21186   -72.611672  42.085905  2015.0   10.0  17.0      5.0  22.0   \n",
       "21335   -72.558215  42.116214  2015.0    9.0  19.0      5.0  23.0   \n",
       "23782    20.486960   1.612717  2015.0    8.0  28.0      4.0  19.0   \n",
       "25526   -76.657805  40.660625  2015.0   10.0  17.0      5.0   2.0   \n",
       "26580   -72.085528  43.234619  2015.0    9.0  17.0      3.0   0.0   \n",
       "28194   -72.125301  43.158385  2015.0    8.0  30.0      6.0  23.0   \n",
       "28330   -70.972594  42.437003  2015.0    9.0  27.0      6.0  23.0   \n",
       "28772   -80.256304  40.173438  2015.0    9.0   6.0      6.0   1.0   \n",
       "29194   -89.018168  40.650359  2015.0    9.0   4.0      4.0  19.0   \n",
       "32398   -72.584870  42.219794  2015.0    8.0  26.0      2.0  22.0   \n",
       "33327   -72.084398  43.184259  2015.0    8.0  28.0      4.0  17.0   \n",
       "34652   -72.155416  43.201008  2015.0   10.0  16.0      4.0   1.0   \n",
       "37597   -72.056413  43.173643  2015.0   10.0  17.0      5.0  23.0   \n",
       "39459   -83.549538  30.738066  2015.0   10.0  22.0      3.0  20.0   \n",
       "39591   -83.608974  30.843530  2015.0   10.0   3.0      5.0  22.0   \n",
       "41713   -78.815005  42.925422  2015.0   10.0   1.0      3.0  22.0   \n",
       "...            ...        ...     ...    ...   ...      ...   ...   \n",
       "231903  -72.096444  43.186307  2015.0    8.0  15.0      5.0  16.0   \n",
       "235235  -80.263646  40.309973  2015.0    9.0  12.0      5.0  20.0   \n",
       "236188  -75.659459  44.231011  2015.0   10.0   2.0      4.0   0.0   \n",
       "236993  -72.018725  43.156461  2015.0    9.0  24.0      3.0  22.0   \n",
       "238492  -67.109956  18.547320  2015.0    8.0   7.0      4.0   0.0   \n",
       "238588  -67.174134  18.469833  2015.0    9.0  29.0      1.0   2.0   \n",
       "238955  -72.043349  43.130286  2015.0    9.0   7.0      0.0  22.0   \n",
       "239929  -77.429168  42.554537  2015.0   10.0  10.0      5.0  20.0   \n",
       "249862  -73.969317  40.686430  2015.0   10.0   1.0      3.0  22.0   \n",
       "251754  -94.514238  39.119986  2015.0    8.0  14.0      4.0   3.0   \n",
       "251934  -80.260336  40.290716  2015.0    9.0  11.0      4.0  22.0   \n",
       "252705  -74.003937  40.748645  2015.0    9.0  11.0      4.0  17.0   \n",
       "252815  -93.615899  41.693477  2015.0   10.0  14.0      2.0  22.0   \n",
       "255057  -80.295096  40.211219  2015.0   10.0  22.0      3.0   1.0   \n",
       "256744  -72.153245  43.138824  2015.0   10.0   9.0      4.0  22.0   \n",
       "259533  -76.331688  43.245522  2015.0    9.0  28.0      0.0  18.0   \n",
       "261066  -72.085494  43.164077  2015.0    9.0  15.0      1.0  19.0   \n",
       "261343 -118.267245  33.997495  2015.0   10.0  10.0      5.0   0.0   \n",
       "265658  -72.098417  43.151067  2015.0    9.0  11.0      4.0  20.0   \n",
       "266940  -72.146467  43.116905  2015.0   10.0   6.0      1.0  15.0   \n",
       "267096  -72.166406  43.125197  2015.0   10.0  23.0      4.0  17.0   \n",
       "268891  -74.733111  40.214923  2015.0   10.0  23.0      4.0  15.0   \n",
       "271217  -73.218288  44.371227  2015.0    8.0  13.0      3.0  23.0   \n",
       "271407  -73.196379  44.283911  2015.0    8.0   7.0      4.0  21.0   \n",
       "271545  -73.213913  44.309486  2015.0    8.0   1.0      5.0  23.0   \n",
       "271813  -72.105842  43.161877  2015.0    9.0  23.0      2.0  22.0   \n",
       "274461  -80.248472  40.239483  2015.0   10.0  11.0      6.0  16.0   \n",
       "279132 -122.701798  37.787099  2015.0    8.0   2.0      6.0   0.0   \n",
       "280164  -72.958673  42.310039  2015.0    9.0  11.0      4.0  21.0   \n",
       "282692  -72.122187  43.127900  2015.0    9.0  14.0      0.0  19.0   \n",
       "\n",
       "        log_dollar_amount   log_Lat  log_Long  distance_from_center_Lat  \\\n",
       "83               3.472898  3.695848       NaN                 -0.418609   \n",
       "2567             3.065258  3.693049       NaN                 -0.260675   \n",
       "7790             3.734331  3.689996       NaN                 -0.113188   \n",
       "10454            4.985249  3.750393       NaN                  0.470079   \n",
       "11868            2.695303  3.721902       NaN                 -0.903116   \n",
       "13580            3.894063  3.706084       NaN                 -1.412554   \n",
       "13933            4.285791  3.330124       NaN                  2.564631   \n",
       "14038            3.152309  3.748030       NaN                  0.405278   \n",
       "14200            3.677819  3.642764       NaN                  1.008110   \n",
       "15864            3.249987  3.668144       NaN                  0.564480   \n",
       "16801            4.154812  3.696628       NaN                 -0.467538   \n",
       "17358            4.075162  3.806776       NaN                  1.403015   \n",
       "18035            3.185112  3.694853       NaN                 -0.359530   \n",
       "19807            4.254335  3.694740       NaN                 -0.353016   \n",
       "21186            4.956531  3.739713       NaN                  0.138227   \n",
       "21335            5.221922  3.740433       NaN                  0.164281   \n",
       "23782            4.072610  0.477920  3.019789                  3.671859   \n",
       "25526            4.413525  3.705260       NaN                 -1.283579   \n",
       "26580            2.104134  3.766642       NaN                  0.831582   \n",
       "28194            2.879198  3.764877       NaN                  0.797830   \n",
       "28330            4.724818  3.748021       NaN                  0.405021   \n",
       "28772            4.700480  3.693206       NaN                 -0.268886   \n",
       "29194            4.035656  3.705008       NaN                 -1.247194   \n",
       "32398            3.809104  3.742889       NaN                  0.248519   \n",
       "33327            2.890927  3.765476       NaN                  0.809414   \n",
       "34652            2.853593  3.765864       NaN                  0.816841   \n",
       "37597            4.995657  3.765230       NaN                  0.804677   \n",
       "39459            4.332968  3.425502       NaN                  2.322349   \n",
       "39591            3.904998  3.428927       NaN                  2.311955   \n",
       "41713            3.351307  3.759464       NaN                  0.687005   \n",
       "...                   ...       ...       ...                       ...   \n",
       "231903           2.285439  3.765523       NaN                  0.810325   \n",
       "235235           4.438879  3.696599       NaN                 -0.465699   \n",
       "236188           3.018472  3.789426       NaN                  1.191903   \n",
       "236993           3.228034  3.764832       NaN                  0.796963   \n",
       "238492           6.812378  2.920325       NaN                  3.108630   \n",
       "238588           4.378520  2.916139       NaN                  3.112085   \n",
       "238955           4.415461  3.764225       NaN                  0.785096   \n",
       "239929           3.430109  3.750786       NaN                  0.480491   \n",
       "249862           5.003409  3.705895       NaN                 -1.381352   \n",
       "251754           2.853016  3.666633       NaN                  0.597562   \n",
       "251934           4.405621  3.696121       NaN                 -0.435482   \n",
       "252705           3.982668  3.707423       NaN                 -1.665882   \n",
       "252815           4.337291  3.730345       NaN                 -0.279968   \n",
       "255057           3.670715  3.694146       NaN                 -0.319586   \n",
       "256744           3.402197  3.764423       NaN                  0.788982   \n",
       "259533           3.693120  3.766894       NaN                  0.836318   \n",
       "261066           4.527749  3.765009       NaN                  0.800390   \n",
       "261343           3.433342  3.526287       NaN                  1.937327   \n",
       "265658           4.888694  3.764707       NaN                  0.794529   \n",
       "266940           5.008433  3.763915       NaN                  0.778975   \n",
       "267096           4.829992  3.764107       NaN                  0.782772   \n",
       "268891           4.249780  3.694238       NaN                 -0.324698   \n",
       "271217           3.370394  3.792591       NaN                  1.233597   \n",
       "271407           4.124227  3.790621       NaN                  1.207838   \n",
       "271545           3.935740  3.791199       NaN                  1.215452   \n",
       "271813           3.377588  3.764958       NaN                  0.799401   \n",
       "274461           3.306520  3.694849       NaN                 -0.359270   \n",
       "279132           4.907568  3.631968       NaN                  1.147583   \n",
       "280164           3.889982  3.745024       NaN                  0.316539   \n",
       "282692           4.005695  3.764170       NaN                  0.784007   \n",
       "\n",
       "        distance_from_center_Long  \n",
       "83                       1.363332  \n",
       "2567                     1.393077  \n",
       "7790                     0.445737  \n",
       "10454                    0.197027  \n",
       "11868                   -1.574694  \n",
       "13580                    0.831406  \n",
       "13933                    4.277846  \n",
       "14038                    1.506990  \n",
       "14200                    1.654212  \n",
       "15864                    2.121701  \n",
       "16801                    1.394412  \n",
       "17358                    1.964511  \n",
       "18035                    1.370733  \n",
       "19807                    1.378567  \n",
       "21186                    1.287459  \n",
       "21335                    1.302104  \n",
       "23782                    4.571843  \n",
       "25526                   -0.861407  \n",
       "26580                    1.423038  \n",
       "28194                    1.413408  \n",
       "28330                    1.660634  \n",
       "28772                    1.391547  \n",
       "29194                    2.548111  \n",
       "32398                    1.294828  \n",
       "33327                    1.423311  \n",
       "34652                    1.406053  \n",
       "37597                    1.430030  \n",
       "39459                    1.989831  \n",
       "39591                    1.997924  \n",
       "41713                    0.947699  \n",
       "...                           ...  \n",
       "231903                   1.420404  \n",
       "235235                   1.393371  \n",
       "236188                  -0.552031  \n",
       "236993                   1.439009  \n",
       "238492                   2.211049  \n",
       "238588                   2.203991  \n",
       "238955                   1.433151  \n",
       "239929                   0.177250  \n",
       "249862                   0.817981  \n",
       "251754                   2.905753  \n",
       "251934                   1.392549  \n",
       "252705                   0.802585  \n",
       "252815                   2.855358  \n",
       "255057                   1.401148  \n",
       "256744                   1.406585  \n",
       "259533                  -2.338734  \n",
       "261066                   1.423047  \n",
       "261343                   3.738431  \n",
       "265658                   1.419928  \n",
       "266940                   1.408244  \n",
       "267096                   1.403356  \n",
       "268891                   0.406882  \n",
       "271217                   1.104246  \n",
       "271407                   1.111482  \n",
       "271545                   1.105696  \n",
       "271813                   1.418131  \n",
       "274461                   1.389597  \n",
       "279132                   3.838733  \n",
       "280164                   1.186796  \n",
       "282692                   1.414165  \n",
       "\n",
       "[171 rows x 15 columns]"
      ]
     },
     "execution_count": 234,
     "metadata": {},
     "output_type": "execute_result"
    }
   ],
   "source": [
    "transactions.ix[outliers[0],:]"
   ]
  },
  {
   "cell_type": "code",
   "execution_count": 236,
   "metadata": {
    "collapsed": true
   },
   "outputs": [],
   "source": [
    "transactions.ix[outliers[0],:].to_csv('potential_fraud_transactions.csv')"
   ]
  },
  {
   "cell_type": "code",
   "execution_count": 150,
   "metadata": {
    "collapsed": false
   },
   "outputs": [
    {
     "data": {
      "text/html": [
       "<div>\n",
       "<table border=\"1\" class=\"dataframe\">\n",
       "  <thead>\n",
       "    <tr style=\"text-align: right;\">\n",
       "      <th></th>\n",
       "      <th>log_dollar_amount</th>\n",
       "      <th>Lat</th>\n",
       "      <th>Long</th>\n",
       "    </tr>\n",
       "  </thead>\n",
       "  <tbody>\n",
       "    <tr>\n",
       "      <th>count</th>\n",
       "      <td>294588.000000</td>\n",
       "      <td>294588.000000</td>\n",
       "      <td>294588.000000</td>\n",
       "    </tr>\n",
       "    <tr>\n",
       "      <th>mean</th>\n",
       "      <td>3.959254</td>\n",
       "      <td>40.937669</td>\n",
       "      <td>-76.235238</td>\n",
       "    </tr>\n",
       "    <tr>\n",
       "      <th>std</th>\n",
       "      <td>1.046308</td>\n",
       "      <td>5.391695</td>\n",
       "      <td>20.135015</td>\n",
       "    </tr>\n",
       "    <tr>\n",
       "      <th>min</th>\n",
       "      <td>-4.605170</td>\n",
       "      <td>-68.046553</td>\n",
       "      <td>-179.392887</td>\n",
       "    </tr>\n",
       "    <tr>\n",
       "      <th>25%</th>\n",
       "      <td>3.400197</td>\n",
       "      <td>40.487726</td>\n",
       "      <td>-80.209708</td>\n",
       "    </tr>\n",
       "    <tr>\n",
       "      <th>50%</th>\n",
       "      <td>4.068514</td>\n",
       "      <td>42.403066</td>\n",
       "      <td>-73.199737</td>\n",
       "    </tr>\n",
       "    <tr>\n",
       "      <th>75%</th>\n",
       "      <td>4.609162</td>\n",
       "      <td>43.180015</td>\n",
       "      <td>-72.091933</td>\n",
       "    </tr>\n",
       "    <tr>\n",
       "      <th>max</th>\n",
       "      <td>6.907725</td>\n",
       "      <td>78.914330</td>\n",
       "      <td>179.917513</td>\n",
       "    </tr>\n",
       "  </tbody>\n",
       "</table>\n",
       "</div>"
      ],
      "text/plain": [
       "       log_dollar_amount            Lat           Long\n",
       "count      294588.000000  294588.000000  294588.000000\n",
       "mean            3.959254      40.937669     -76.235238\n",
       "std             1.046308       5.391695      20.135015\n",
       "min            -4.605170     -68.046553    -179.392887\n",
       "25%             3.400197      40.487726     -80.209708\n",
       "50%             4.068514      42.403066     -73.199737\n",
       "75%             4.609162      43.180015     -72.091933\n",
       "max             6.907725      78.914330     179.917513"
      ]
     },
     "execution_count": 150,
     "metadata": {},
     "output_type": "execute_result"
    }
   ],
   "source": [
    "transactions[['log_dollar_amount','Lat','Long']].describe()"
=======
    "plt.boxplot(transactions['transaction_dollar_amount'])"
>>>>>>> d5d7958dece8c5d0aa8a71482da454a4385eab5c
   ]
  },
  {
   "cell_type": "code",
   "execution_count": null,
   "metadata": {
    "collapsed": true
   },
   "outputs": [],
   "source": []
  }
 ],
 "metadata": {
  "kernelspec": {
   "display_name": "Python 2",
   "language": "python",
   "name": "python2"
  },
  "language_info": {
   "codemirror_mode": {
    "name": "ipython",
    "version": 2
   },
   "file_extension": ".py",
   "mimetype": "text/x-python",
   "name": "python",
   "nbconvert_exporter": "python",
   "pygments_lexer": "ipython2",
   "version": "2.7.12"
  }
 },
 "nbformat": 4,
 "nbformat_minor": 1
}
